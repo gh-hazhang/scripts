{
 "cells": [
  {
   "cell_type": "code",
   "execution_count": null,
   "metadata": {},
   "outputs": [],
   "source": [
    "import pandas as pd\n",
    "import glob\n",
    "import os\n",
    "import pybedtools\n",
    "\n",
    "from multiprocessing import Pool\n",
    "\n",
    "import altair as alt\n",
    "alt.data_transformers.enable('default', max_rows=None)"
   ]
  },
  {
   "cell_type": "code",
   "execution_count": null,
   "metadata": {},
   "outputs": [],
   "source": [
    "cancer_code_dict = {\n",
    "    'LAML'\t: 'Acute Myeloid Leukemia',\n",
    "    'ACC'\t: 'Adrenocortical carcinoma',\n",
    "    'BLCA'\t: 'Bladder Urothelial Carcinoma',\n",
    "    'LGG'\t: 'Brain Lower Grade Glioma',\n",
    "    'BRCA'\t: 'Breast invasive carcinoma',\n",
    "    'CESC'\t: 'Cervical squamous cell carcinoma and endocervical adenocarcinoma',\n",
    "    'CHOL'\t: 'Cholangiocarcinoma',\n",
    "    'LCML'\t: 'Chronic Myelogenous Leukemia',\n",
    "    'COAD'\t: 'Colon adenocarcinoma',\n",
    "    'CNTL'\t: 'Controls',\n",
    "    'ESCA'\t: 'Esophageal carcinoma',\n",
    "    'FPPP'\t: 'FFPE Pilot Phase II',\n",
    "    'GBM'\t: 'Glioblastoma multiforme',\n",
    "    'HNSC'\t: 'Head and Neck squamous cell carcinoma',\n",
    "    'KICH'\t: 'Kidney Chromophobe',\n",
    "    'KIRC'\t: 'Kidney renal clear cell carcinoma',\n",
    "    'KIRP'\t: 'Kidney renal papillary cell carcinoma',\n",
    "    'LIHC'\t: 'Liver hepatocellular carcinoma',\n",
    "    'LUAD'\t: 'Lung adenocarcinoma',\n",
    "    'LUSC'\t: 'Lung squamous cell carcinoma',\n",
    "    'DLBC'\t: 'Lymphoid Neoplasm Diffuse Large B-cell Lymphoma',\n",
    "    'MESO'\t: 'Mesothelioma',\n",
    "    'MISC'\t: 'Miscellaneous',\n",
    "    'OV'\t: 'Ovarian serous cystadenocarcinoma',\n",
    "    'PAAD'\t: 'Pancreatic adenocarcinoma',\n",
    "    'PCPG'\t: 'Pheochromocytoma and Paraganglioma',\n",
    "    'PRAD'\t: 'Prostate adenocarcinoma',\n",
    "    'READ'\t: 'Rectum adenocarcinoma',\n",
    "    'SARC'\t: 'Sarcoma',\n",
    "    'SKCM'\t: 'Skin Cutaneous Melanoma',\n",
    "    'STAD'\t: 'Stomach adenocarcinoma',\n",
    "    'TGCT'\t: 'Testicular Germ Cell Tumors',\n",
    "    'THYM'\t: 'Thymoma',\n",
    "    'THCA'\t: 'Thyroid carcinoma',\n",
    "    'UCS'\t: 'Uterine Carcinosarcoma',\n",
    "    'UCEC'\t: 'Uterine Corpus Endometrial Carcinoma',\n",
    "    'UVM'\t: 'Uveal Melanoma',\n",
    "}\n",
    "\n",
    "cancer_code_simple_dict = {\n",
    "    'LAML'\t: 'AML',\n",
    "    'ACC'\t: 'Adrenocortical',\n",
    "    'BLCA'\t: 'Bladder',\n",
    "    'LGG'\t: 'Lower Grade Glioma',\n",
    "    'BRCA'\t: 'Breast',\n",
    "    'CESC'\t: 'Cervix',\n",
    "    'CHOL'\t: 'Bile duct',\n",
    "    'LCML'\t: 'CML',\n",
    "    'COAD'\t: 'Colon',\n",
    "    'CNTL'\t: 'Controls',\n",
    "    'ESCA'\t: 'Esophagus',\n",
    "    'FPPP'\t: 'FFPE',\n",
    "    'GBM'\t: 'Glioblastoma',\n",
    "    'HNSC'\t: 'Head and Neck',\n",
    "    'KICH'\t: 'Kidney Chromophobe',\n",
    "    'KIRC'\t: 'Kidney clear cell',\n",
    "    'KIRP'\t: 'Kidney papillary cell',\n",
    "    'LIHC'\t: 'Liver',\n",
    "    'LUAD'\t: 'Lung adeno',\n",
    "    'LUSC'\t: 'Lung squamous',\n",
    "    'DLBC'\t: 'Lymphoma',\n",
    "    'MESO'\t: 'Mesothelioma',\n",
    "    'MISC'\t: 'Miscellaneous',\n",
    "    'OV'\t: 'Ovary',\n",
    "    'PAAD'\t: 'Pancreas',\n",
    "    'PCPG'\t: 'Neuroendocrine',\n",
    "    'PRAD'\t: 'Prostate',\n",
    "    'READ'\t: 'Rectum',\n",
    "    'SARC'\t: 'Sarcoma',\n",
    "    'SKCM'\t: 'Melanoma',\n",
    "    'STAD'\t: 'Stomach',\n",
    "    'TGCT'\t: 'Testicular',\n",
    "    'THYM'\t: 'Thymus',\n",
    "    'THCA'\t: 'Thyroid',\n",
    "    'UCS'\t: 'Uterus',\n",
    "    'UCEC'\t: 'Endometrium',\n",
    "    'UVM'\t: 'Uveal Melanoma',\n",
    "}\n",
    "\n",
    "tissue_map_dict = {\n",
    "    'Gastric': 'Stomach',\n",
    "    'Small': 'Colon',\n",
    "    'Oligodend': 'Neuron',\n",
    "}\n",
    "\n",
    "cancer_stem_map_dict = {\n",
    "    'Lower': 'Neuron',\n",
    "    'Glioblastoma': 'Neuron',\n",
    "    'Rectum': 'Colon',\n",
    "    'Bile': 'Liver',\n",
    "}"
   ]
  },
  {
   "cell_type": "markdown",
   "metadata": {},
   "source": [
    "# Read in data and process"
   ]
  },
  {
   "cell_type": "code",
   "execution_count": null,
   "metadata": {},
   "outputs": [],
   "source": [
    "workdir = \"../work\"\n",
    "output_dir = f\"{workdir}/tcga_summaries/for_alans_regions\"\n",
    "data_dir = \"/home/ubuntu/data\"\n",
    "tcga_files = glob.glob(f\"{data_dir}/tcga/*/HumanMethylation450K/*_beta_values.tsv.gz\")\n",
    "\n",
    "loyfer = pd.read_table(f\"{data_dir}/Loyfer2022/loyfer2022_atlas_final_regions_top25.tsv\")\n",
    "alan_hyper = pd.read_table(f\"{data_dir}/2023_07_10_HYPER_design_AS/regions_selection/02_08012023_HYPER_regions_hg19_high60_low40_fdr_5e2_minCpG_7.tsv\") # clusters not merged\n",
    "cpgs_path = f\"{data_dir}/2023_08_01_SRT_tcga_mced_discovery_MJG/data/probes_450k/probe_to_coord.sorted.bed\"\n",
    "\n",
    "tumor_purity_raw = pd.read_table(f\"{data_dir}/2023_08_01_SRT_tcga_mced_discovery_MJG/data/tumor_purity/arun_2015.tsv\", skiprows=3)\n",
    "tumor_purity = tumor_purity_raw[['Sample ID', 'Cancer type', 'ESTIMATE']].copy()\n",
    "tumor_purity.columns = ['sample_id', 'cancer_code', 'purity']"
   ]
  },
  {
   "cell_type": "markdown",
   "metadata": {},
   "source": [
    "### Process regions"
   ]
  },
  {
   "cell_type": "code",
   "execution_count": null,
   "metadata": {},
   "outputs": [],
   "source": [
    "pybedtools.set_tempdir(f\"../pybedtools_tmp\")"
   ]
  },
  {
   "cell_type": "markdown",
   "metadata": {},
   "source": [
    "Merge clusters in Alan's identified regions"
   ]
  },
  {
   "cell_type": "code",
   "execution_count": null,
   "metadata": {},
   "outputs": [],
   "source": [
    "merged = pybedtools.BedTool.from_dataframe(alan_hyper.sort_values(['chr', 'start'])).merge(c=5, o=\"distinct\")\n",
    "hyper_merged_df = merged.to_dataframe()\n",
    "hyper_merged_df.columns = ['region_chr', 'region_start', 'region_end', 'target_celltype']\n",
    "hyper_merged_df['region_id'] = hyper_merged_df['target_celltype'] + \"_\" + hyper_merged_df['region_chr'] + \":\" + hyper_merged_df['region_start'].astype(str) + \"-\" + hyper_merged_df['region_end'].astype(str)\n",
    "hyper_merged_df['direction'] = 'hyper'"
   ]
  },
  {
   "cell_type": "markdown",
   "metadata": {},
   "source": [
    "Combine published hypo and Alan's merged hyper regions into a single data frame"
   ]
  },
  {
   "cell_type": "code",
   "execution_count": null,
   "metadata": {},
   "outputs": [],
   "source": [
    "loyfer_simple = loyfer[['region_chr', 'region_start', 'region_end', 'target_celltype', 'region_id']].copy()\n",
    "loyfer_simple['direction'] = 'hypo'\n",
    "regions = pd.concat([loyfer_simple, hyper_merged_df], ignore_index=True).sort_values(['region_chr', 'region_start'])"
   ]
  },
  {
   "cell_type": "markdown",
   "metadata": {},
   "source": [
    "Merge probes and regions"
   ]
  },
  {
   "cell_type": "code",
   "execution_count": null,
   "metadata": {},
   "outputs": [],
   "source": [
    "intersect = pybedtools.BedTool.from_dataframe(regions).intersect(pybedtools.BedTool(cpgs_path), wo=True, sorted=True)\n",
    "region_cpg_df = intersect.to_dataframe()\n",
    "region_cpg_df.columns = ['region_chr', 'region_start', 'region_end', 'target_celltype', 'region_id', 'direction', 'cpg_chr', 'cpg_start', 'cpg_end', 'probe', 'overlap']\n",
    "region_cpg_df = region_cpg_df[['target_celltype', 'region_id', 'direction', 'probe']]"
   ]
  },
  {
   "cell_type": "markdown",
   "metadata": {},
   "source": [
    "### Check proportion of regions that overlap with TCGA probes"
   ]
  },
  {
   "cell_type": "code",
   "execution_count": null,
   "metadata": {},
   "outputs": [],
   "source": [
    "subcols = ['target_celltype', 'region_id', 'direction']\n",
    "probe_overlap_bool_df = (region_cpg_df[subcols]\n",
    "                         .drop_duplicates()\n",
    "                         .assign(overlap=1))\n",
    "probe_overlap_bool_df = regions[subcols].merge(probe_overlap_bool_df, on=subcols, how='left').fillna(0)"
   ]
  },
  {
   "cell_type": "code",
   "execution_count": null,
   "metadata": {},
   "outputs": [],
   "source": [
    "probe_overlap_summary = (probe_overlap_bool_df\n",
    "                         .groupby(['target_celltype', 'direction', 'overlap'])\n",
    "                         .size()\n",
    "                         .reset_index(name='n_regions')\n",
    "                         .pivot_table(index=['target_celltype', 'direction'], columns='overlap', values='n_regions', fill_value=0)\n",
    "                         .reset_index()\n",
    "                         .rename(columns={0: 'no_overlap', 1: 'overlap'}))\n",
    "probe_overlap_summary['n_regions'] = probe_overlap_summary['no_overlap'] + probe_overlap_summary['overlap']\n",
    "probe_overlap_summary['perc_overlap'] = probe_overlap_summary['overlap'] / probe_overlap_summary['n_regions'] * 100\n",
    "# remove target cell types with , or :\n",
    "probe_overlap_summary = probe_overlap_summary[~probe_overlap_summary['target_celltype'].str.contains(\"[,:]\")]\n",
    "probe_overlap_summary['target_celltype'] = probe_overlap_summary['target_celltype'].str.replace('_', '-')\n",
    "\n",
    "probe_overlap_summary"
   ]
  },
  {
   "cell_type": "code",
   "execution_count": null,
   "metadata": {},
   "outputs": [],
   "source": [
    "alt.Chart(probe_overlap_summary).mark_boxplot().encode(\n",
    "    x=alt.X(\"direction\", title='Region type'),\n",
    "    y=alt.Y(\"perc_overlap\", title='% regions overlapping TCGA probes'),\n",
    "    color=alt.Color(\"direction\", legend=None)\n",
    ").properties(\n",
    "    width=100,\n",
    "    height=200\n",
    ")"
   ]
  },
  {
   "cell_type": "code",
   "execution_count": null,
   "metadata": {},
   "outputs": [],
   "source": [
    "alt.Chart(probe_overlap_summary).mark_boxplot().encode(\n",
    "    x=alt.X(\"direction\", title='Region type'),\n",
    "    y=alt.Y(\"n_regions\", title='Number of regions per tissue'),\n",
    "    color=alt.Color(\"direction\", legend=None),\n",
    "    #fill=alt.Fill(\"direction\", legend=None)\n",
    ").properties(\n",
    "    width=100,\n",
    "    height=200\n",
    ")"
   ]
  },
  {
   "cell_type": "code",
   "execution_count": null,
   "metadata": {},
   "outputs": [],
   "source": [
    "probe_overlap_summary.query(\"target_celltype == ['Colon-Ep', 'Kidney-Ep', 'Liver-Hep', 'Thyroid-Ep']\")[['target_celltype', 'direction', 'n_regions', 'overlap']]"
   ]
  },
  {
   "cell_type": "markdown",
   "metadata": {},
   "source": [
    "### Check tumor purity distributions\n",
    "Use this to decide a reasonable tumor purity cutoff for this analysis"
   ]
  },
  {
   "cell_type": "code",
   "execution_count": null,
   "metadata": {},
   "outputs": [],
   "source": [
    "alt.Chart(tumor_purity).mark_boxplot().encode(\n",
    "    x=alt.X('cancer_code'),\n",
    "    y=alt.Y('purity'),\n",
    ")"
   ]
  },
  {
   "cell_type": "code",
   "execution_count": null,
   "metadata": {},
   "outputs": [],
   "source": [
    "purity = 0.8\n",
    "alt.Chart(tumor_purity.query(f\"purity > {purity}\")).mark_bar().encode(\n",
    "    x=alt.X('cancer_code'),\n",
    "    y=alt.Y(\"count()\"),\n",
    ").properties(\n",
    "    title = \"Number of samples with tumor purity > 0.8\"\n",
    ")"
   ]
  },
  {
   "cell_type": "code",
   "execution_count": null,
   "metadata": {},
   "outputs": [],
   "source": [
    "high_purity_samples = tumor_purity.query(f\"purity > {purity}\")['sample_id'].tolist()"
   ]
  },
  {
   "cell_type": "markdown",
   "metadata": {},
   "source": [
    "### Summarize methylation over regions for each cancer type"
   ]
  },
  {
   "cell_type": "code",
   "execution_count": null,
   "metadata": {},
   "outputs": [],
   "source": [
    "def read_and_summarize_beta(filepath):\n",
    "    cancer_code, sample_type = os.path.basename(filepath).replace(\"_beta_values.tsv.gz\", \"\").split('_')\n",
    "    # skip processing if had alreday been run\n",
    "    for direction in ['hyper', 'hypo']:\n",
    "            outfile = f\"{output_dir}/{direction}_{sample_type}_{cancer_code}_purity{purity}_median_beta_per_region.tsv.gz\"\n",
    "            if os.path.isfile(outfile):\n",
    "                 return\n",
    "    \n",
    "    print(f\"Reading {cancer_code} {sample_type}\")\n",
    "    beta_df = pd.read_table(filepath)\n",
    "    beta_df['sample_id'] = beta_df['sample_barcode'].str.slice(0, 16)\n",
    "    if sample_type == 'tumor':\n",
    "        beta_df = beta_df.query(f\"sample_id == {high_purity_samples}\")\n",
    "    beta_summary_df = (beta_df\n",
    "                       .merge(region_cpg_df)\n",
    "                       .groupby(['target_celltype', 'region_id', 'direction', 'sample_id'])['beta_value'].median()\n",
    "                       .reset_index())\n",
    "    beta_summary_df['cancer_code'] = cancer_code\n",
    "    beta_summary_df['sample_type'] = sample_type\n",
    "    # split hyper and hypo\n",
    "    print(f\"Writing {cancer_code} {sample_type}\")\n",
    "    if beta_summary_df.shape[0] > 0:\n",
    "        for direction in ['hyper', 'hypo']:\n",
    "            outfile = f\"{output_dir}/{direction}_{sample_type}_{cancer_code}_purity{purity}_median_beta_per_region.tsv.gz\"\n",
    "            beta_summary_df.query(f\"direction == '{direction}'\").to_csv(outfile, sep=\"\\t\", index=False)\n",
    "    return\n",
    "    "
   ]
  },
  {
   "cell_type": "code",
   "execution_count": null,
   "metadata": {},
   "outputs": [],
   "source": [
    "# # ran on r5a.8xlarge\n",
    "# with Pool(12) as p:\n",
    "#     p.map(read_and_summarize_beta, tcga_files)"
   ]
  },
  {
   "cell_type": "markdown",
   "metadata": {},
   "source": [
    "Read in summaries"
   ]
  },
  {
   "cell_type": "code",
   "execution_count": null,
   "metadata": {},
   "outputs": [],
   "source": [
    "def read_summaries(prefix):\n",
    "    file_list = glob.glob(f\"{output_dir}/{prefix}*\")\n",
    "    df = pd.concat([pd.read_table(f) for f in file_list], ignore_index=True)\n",
    "    return df"
   ]
  },
  {
   "cell_type": "code",
   "execution_count": null,
   "metadata": {},
   "outputs": [],
   "source": [
    "hyper_tumor = read_summaries('hyper_tumor')\n",
    "hypo_tumor = read_summaries('hypo_tumor')\n",
    "hyper_norm = read_summaries('hyper_norm')\n",
    "hypo_norm = read_summaries('hypo_norm')"
   ]
  },
  {
   "cell_type": "markdown",
   "metadata": {},
   "source": [
    "# Analysis"
   ]
  },
  {
   "cell_type": "code",
   "execution_count": null,
   "metadata": {},
   "outputs": [],
   "source": [
    "def mbd_theme(*args, **kwargs):\n",
    "    return {\n",
    "        \"config\": {\n",
    "            \"legend\": {\"titleFontSize\": 12, \"labelFontSize\": 12, \"labelLimit\": 0},\n",
    "            \"axis\": {\"titleFontSize\": 12, \"labelFontSize\": 12},\n",
    "            \"header\": {\"titleFontSize\": 14, \"labelFontSize\": 14},\n",
    "            \"title\": {\"titleFontSize\": 30, \"labelFontSize\": 30},\n",
    "        }\n",
    "    }\n",
    "\n",
    "\n",
    "alt.themes.register(\"mbd_theme\", mbd_theme)\n",
    "alt.themes.enable(\"mbd_theme\")"
   ]
  },
  {
   "cell_type": "code",
   "execution_count": null,
   "metadata": {},
   "outputs": [],
   "source": [
    "def plot_by_tissue(df, title, ncols):\n",
    "    p = alt.Chart(df).mark_circle().encode(\n",
    "        x=alt.X(\"cancer_type\", title=\"\"),\n",
    "        y=alt.Y(\"beta_value\", title=\"Median beta value\"),\n",
    "        facet=alt.Facet('target_celltype', title=\"Target celltype\", columns=ncols),\n",
    "        color=alt.Color(\"match\", legend=None),\n",
    "    ).properties(\n",
    "        width=200,\n",
    "        height=200\n",
    "    ).properties(title=title)\n",
    "    # hacky way to get subset plots to be cleaner without adding extra param\n",
    "    if ncols == 5:\n",
    "        p = p.resolve_scale(x='independent')\n",
    "    return p\n",
    "\n",
    "def make_full_and_filt_plots(df, title_prefix, ncols=5):\n",
    "    targets_single = df.loc[~df['target_celltype'].str.contains(',|:'), 'target_celltype'].drop_duplicates().tolist()\n",
    "    single = (df.query(f\"target_celltype == {targets_single}\")\n",
    "              .groupby(['target_celltype', 'cancer_code', 'region_id'])['beta_value'].median()\n",
    "              .reset_index())\n",
    "    single['cancer_type'] = single['cancer_code'].map(cancer_code_simple_dict)\n",
    "    single['celltype_stem'] = single['target_celltype'].str.replace('_.*', '', regex=True).str.replace('-.*', '', regex=True).replace(tissue_map_dict)\n",
    "    single['cancer_stem'] = single['cancer_type'].str.replace(' .*', '', regex=True).replace(cancer_stem_map_dict)\n",
    "    single['match'] = single['cancer_stem'] == single['celltype_stem']\n",
    "    p1 = plot_by_tissue(single, title=f'{title_prefix} - all regions', ncols=ncols)\n",
    "\n",
    "    bad_regions = single.query(\"match == False & beta_value > 0.3\")['region_id'].tolist()\n",
    "    single_filt = single.query(f\"region_id != {bad_regions}\")\n",
    "    p2 = plot_by_tissue(single_filt, title=f'{title_prefix} - filtered regions', ncols=ncols)\n",
    "\n",
    "    return p1, p2"
   ]
  },
  {
   "cell_type": "code",
   "execution_count": null,
   "metadata": {},
   "outputs": [],
   "source": [
    "hyper_tumor1, hyper_tumor2 = make_full_and_filt_plots(hyper_tumor, 'Tumor: hyper')\n",
    "hypo_tumor1, hypo_tumor2 = make_full_and_filt_plots(hypo_tumor, 'Tumor: hypo')\n",
    "hyper_norm1, hyper_norm2 = make_full_and_filt_plots(hyper_norm, 'Normal: hyper')\n",
    "hypo_norm1, hypo_norm2 = make_full_and_filt_plots(hypo_norm, 'Normal: hypo')"
   ]
  },
  {
   "cell_type": "code",
   "execution_count": null,
   "metadata": {},
   "outputs": [],
   "source": [
    "hyper_tumor1"
   ]
  },
  {
   "cell_type": "code",
   "execution_count": null,
   "metadata": {},
   "outputs": [],
   "source": [
    "hyper_tumor2"
   ]
  },
  {
   "cell_type": "code",
   "execution_count": null,
   "metadata": {},
   "outputs": [],
   "source": [
    "hypo_tumor1"
   ]
  },
  {
   "cell_type": "code",
   "execution_count": null,
   "metadata": {},
   "outputs": [],
   "source": [
    "hyper_norm1"
   ]
  },
  {
   "cell_type": "code",
   "execution_count": null,
   "metadata": {},
   "outputs": [],
   "source": [
    "hyper_norm2"
   ]
  },
  {
   "cell_type": "code",
   "execution_count": null,
   "metadata": {},
   "outputs": [],
   "source": [
    "hypo_norm1"
   ]
  },
  {
   "cell_type": "markdown",
   "metadata": {},
   "source": [
    "### Make subsetted versions of the same plots"
   ]
  },
  {
   "cell_type": "code",
   "execution_count": null,
   "metadata": {},
   "outputs": [],
   "source": [
    "hyper_celltypes = ['Bladder_Ep', 'Breast_Basal_Ep', 'Breast_Luminal_Ep', 'Colon_Ep', 'Head_Neck_Ep', 'Kidney_Ep', 'Liver_Hep', \n",
    "                   'Lung_Ep_Alveo', 'Neuron_plus_Oligodend', 'Prostate_Ep', 'Small_Int_Ep', 'Thyroid_Ep']\n",
    "hypo_celltypes = ['Bladder-Ep', 'Breast-Basal-Ep', 'Breast-Luminal-Ep', 'Colon-Ep', 'Kidney-Ep', 'Liver-Hep', \n",
    "                  'Lung-Ep-Alveo', 'Neuron', 'Oligodend', 'Pancreas-Acinar', 'Prostate-Ep', 'Thyroid-Ep']"
   ]
  },
  {
   "cell_type": "code",
   "execution_count": null,
   "metadata": {},
   "outputs": [],
   "source": [
    "hyper_tumor1filt, hyper_tumor2filt = make_full_and_filt_plots(hyper_tumor.query(f\"target_celltype == {hyper_celltypes}\"), 'Tumor: hyper', ncols=6)\n",
    "hypo_tumor1filt, _ = make_full_and_filt_plots(hypo_tumor.query(f\"target_celltype == {hypo_celltypes}\"), 'Tumor: hypo', ncols=6)\n",
    "hyper_norm1filt, hyper_norm2filt = make_full_and_filt_plots(hyper_norm.query(f\"target_celltype == {hyper_celltypes}\"), 'Normal: hyper', ncols=6)\n",
    "hypo_norm1filt, _ = make_full_and_filt_plots(hypo_norm.query(f\"target_celltype == {hypo_celltypes}\"), 'Normal: hypo', ncols=6)"
   ]
  },
  {
   "cell_type": "code",
   "execution_count": null,
   "metadata": {},
   "outputs": [],
   "source": [
    "hyper_tumor1filt"
   ]
  },
  {
   "cell_type": "code",
   "execution_count": null,
   "metadata": {},
   "outputs": [],
   "source": [
    "hyper_tumor2filt"
   ]
  },
  {
   "cell_type": "code",
   "execution_count": null,
   "metadata": {},
   "outputs": [],
   "source": [
    "hyper_norm1filt"
   ]
  },
  {
   "cell_type": "code",
   "execution_count": null,
   "metadata": {},
   "outputs": [],
   "source": [
    "hyper_norm2filt"
   ]
  },
  {
   "cell_type": "code",
   "execution_count": null,
   "metadata": {},
   "outputs": [],
   "source": [
    "hypo_tumor1filt"
   ]
  },
  {
   "cell_type": "code",
   "execution_count": null,
   "metadata": {},
   "outputs": [],
   "source": [
    "hypo_norm1filt"
   ]
  },
  {
   "cell_type": "markdown",
   "metadata": {},
   "source": [
    "### Make clean version sof plot for overview presentation"
   ]
  },
  {
   "cell_type": "code",
   "execution_count": null,
   "metadata": {},
   "outputs": [],
   "source": [
    "def plot_by_tissue2(df, title, ytitle, ncols):\n",
    "    df = df.copy()\n",
    "    df['target_celltype'] = df['target_celltype'].str.replace('_.*', '', regex=True).str.replace('-.*', '', regex=True) + ' regions'\n",
    "    p = alt.Chart(df).mark_circle().encode(\n",
    "        x=alt.X(\"cancer_type\", title=\"\"),\n",
    "        y=alt.Y(\"beta_value\", title=ytitle),\n",
    "        facet=alt.Facet('target_celltype', title=\"\", columns=ncols, sort=['Colon regions', 'Liver regions']),\n",
    "        color=alt.Color(\"match\", legend=None),\n",
    "    ).properties(\n",
    "        width=200,\n",
    "        height=150\n",
    "    ).properties(title=title)\n",
    "    # hacky way to get subset plots to be cleaner without adding extra param\n",
    "    if ncols == 5:\n",
    "        p = p.resolve_scale(x='independent')\n",
    "    return p\n",
    "\n",
    "def make_full_and_filt_plots2(df, title_prefix, ncols=5, hypo=False):\n",
    "    # for these cleaned up plots, limit to specific cell types\n",
    "    if hypo:\n",
    "        targets_single = ['Colon-Ep', 'Kidney-Ep', 'Liver-Hep', 'Thyroid-Ep']\n",
    "        ytitle = 'Median UNmethylation rate'\n",
    "    else:\n",
    "        targets_single = ['Colon_Ep', 'Kidney_Ep', 'Liver_Hep', 'Thyroid_Ep']\n",
    "        ytitle = 'Median methylation rate'\n",
    "    single = (df.query(f\"target_celltype == {targets_single}\")\n",
    "              .groupby(['target_celltype', 'cancer_code', 'region_id'])['beta_value'].median()\n",
    "              .reset_index())\n",
    "    if hypo:\n",
    "        single['beta_value'] = 1 - single['beta_value']\n",
    "    single['cancer_type'] = single['cancer_code'].map(cancer_code_simple_dict)\n",
    "    single['celltype_stem'] = single['target_celltype'].str.replace('_.*', '', regex=True).str.replace('-.*', '', regex=True).replace(tissue_map_dict)\n",
    "    single['cancer_stem'] = single['cancer_type'].str.replace(' .*', '', regex=True).replace(cancer_stem_map_dict)\n",
    "    single['match'] = single['cancer_stem'] == single['celltype_stem']\n",
    "    p1 = plot_by_tissue2(single, title=f'{title_prefix} - all regions', ytitle=ytitle, ncols=ncols)\n",
    "\n",
    "    bad_regions = single.query(\"match == False & beta_value > 0.3\")['region_id'].tolist()\n",
    "    single_filt = single.query(f\"region_id != {bad_regions}\")\n",
    "    p2 = plot_by_tissue2(single_filt, title=f'{title_prefix} - filtered regions', ytitle=ytitle, ncols=ncols)\n",
    "\n",
    "    return p1, p2"
   ]
  },
  {
   "cell_type": "code",
   "execution_count": null,
   "metadata": {},
   "outputs": [],
   "source": [
    "hyper_tumor1filt, hyper_tumor2filt = make_full_and_filt_plots2(hyper_tumor, 'Tumor: hyper')\n",
    "hypo_tumor1filt, _ = make_full_and_filt_plots2(hypo_tumor, 'Tumor: hypo',  hypo=True)\n",
    "hyper_norm1filt, hyper_norm2filt = make_full_and_filt_plots2(hyper_norm, 'Normal: hyper')\n",
    "hypo_norm1filt, _ = make_full_and_filt_plots2(hypo_norm, 'Normal: hypo', hypo=True)"
   ]
  },
  {
   "cell_type": "code",
   "execution_count": null,
   "metadata": {},
   "outputs": [],
   "source": [
    "hyper_tumor1filt"
   ]
  },
  {
   "cell_type": "code",
   "execution_count": null,
   "metadata": {},
   "outputs": [],
   "source": [
    "hyper_tumor2filt"
   ]
  },
  {
   "cell_type": "code",
   "execution_count": null,
   "metadata": {},
   "outputs": [],
   "source": [
    "hypo_tumor1filt"
   ]
  },
  {
   "cell_type": "code",
   "execution_count": null,
   "metadata": {},
   "outputs": [],
   "source": [
    "hyper_norm1filt"
   ]
  },
  {
   "cell_type": "code",
   "execution_count": null,
   "metadata": {},
   "outputs": [],
   "source": [
    "hyper_norm2filt"
   ]
  },
  {
   "cell_type": "code",
   "execution_count": null,
   "metadata": {},
   "outputs": [],
   "source": [
    "hypo_norm1filt"
   ]
  }
 ],
 "metadata": {
  "kernelspec": {
   "display_name": "2023_10_10_SRT_hyper_tissue_dmr_selection_EKT",
   "language": "python",
   "name": "python3"
  },
  "language_info": {
   "codemirror_mode": {
    "name": "ipython",
    "version": 3
   },
   "file_extension": ".py",
   "mimetype": "text/x-python",
   "name": "python",
   "nbconvert_exporter": "python",
   "pygments_lexer": "ipython3",
   "version": "3.10.12"
  }
 },
 "nbformat": 4,
 "nbformat_minor": 2
}
