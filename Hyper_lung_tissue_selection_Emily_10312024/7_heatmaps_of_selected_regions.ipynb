{
 "cells": [
  {
   "cell_type": "markdown",
   "id": "94be0045",
   "metadata": {},
   "source": [
    "#### Select hyper DMRs for tissue cell types"
   ]
  },
  {
   "cell_type": "markdown",
   "id": "831cde70",
   "metadata": {},
   "source": [
    "### Initialization"
   ]
  },
  {
   "cell_type": "code",
   "execution_count": null,
   "id": "b6913ba1",
   "metadata": {},
   "outputs": [],
   "source": [
    "import os\n",
    "import numpy as np\n",
    "import pandas as pd\n",
    "import glob\n",
    "import pybedtools\n",
    "\n",
    "import altair as alt\n",
    "alt.data_transformers.enable('default', max_rows=None)\n",
    "\n",
    "pd.set_option('display.max_rows', 1000)\n",
    "pd.set_option('display.max_columns', 500)"
   ]
  },
  {
   "cell_type": "code",
   "execution_count": null,
   "id": "8886be7f",
   "metadata": {},
   "outputs": [],
   "source": [
    "def mbd_theme(*args, **kwargs):\n",
    "    return {\n",
    "        \"config\": {\n",
    "            \"legend\": {\"titleFontSize\": 12, \"labelFontSize\": 12, \"labelLimit\": 0},\n",
    "            \"axis\": {\"titleFontSize\": 12, \"labelFontSize\": 12},\n",
    "            \"header\": {\"titleFontSize\": 14, \"labelFontSize\": 14},\n",
    "            \"title\": {\"titleFontSize\": 30, \"labelFontSize\": 30},\n",
    "        }\n",
    "    }\n",
    "\n",
    "\n",
    "alt.themes.register(\"mbd_theme\", mbd_theme)\n",
    "alt.themes.enable(\"mbd_theme\")"
   ]
  },
  {
   "cell_type": "markdown",
   "id": "c74f5469",
   "metadata": {},
   "source": [
    "### Parameters and file paths"
   ]
  },
  {
   "cell_type": "code",
   "execution_count": null,
   "id": "a6f603f0",
   "metadata": {},
   "outputs": [],
   "source": [
    "#--- Parameters\n",
    "REGIONS = 'hg19_cpg_clusters_k3_s150_w150'\n",
    "\n",
    "FILTER_COV = 10\n",
    "\n",
    "BED_COLS = ['region_chr', 'region_start', 'region_end', 'region_id']\n",
    "\n",
    "#--- Local paths\n",
    "ROOT_DIR = '/home/ubuntu/git/etsang/projects'\n",
    "PROJECT_SLUG = '2023_10_10_SRT_hyper_tissue_dmr_selection_EKT'\n",
    "PROJECT_DIR = f\"{ROOT_DIR}/{PROJECT_SLUG}/work\"\n",
    "\n",
    "ALAN_PROJECT_DIR = \"/home/ubuntu/data/2023_07_10_HYPER_design_AS\"\n",
    "# Samples\n",
    "SAMPLES_PATH = ALAN_PROJECT_DIR + '/stage/metadata/loyfer2022_samples_with_blueprint.tsv'\n",
    "# Regions\n",
    "REGIONS_PATH = PROJECT_DIR + '/hyper_dmr_selected'\n",
    "# Methylation data\n",
    "METH_DIR = (\n",
    "    PROJECT_DIR + \n",
    "    '/bp_loyfer_meth_summaries/standard-{regions}.filtered'\n",
    ").format(regions=REGIONS)\n",
    "\n",
    "# # Where to store graphics\n",
    "RESULTS_PATH = (\n",
    "    PROJECT_DIR + '/plots/'\n",
    ")\n"
   ]
  },
  {
   "cell_type": "code",
   "execution_count": null,
   "id": "496d49de",
   "metadata": {},
   "outputs": [],
   "source": [
    "def get_meth_data(regions, samples_df, raw_meth_df):\n",
    "    \"\"\"\n",
    "    Extracts methylation data from a raw methylation dataframe for a given set of regions and samples.\n",
    "\n",
    "    Args:\n",
    "        regions (pandas.DataFrame): A dataframe containing information about the regions of interest.\n",
    "        samples_df (pandas.DataFrame): A dataframe containing information about the samples.\n",
    "        raw_meth_df (pandas.DataFrame): A dataframe containing raw methylation data.\n",
    "\n",
    "    Returns:\n",
    "        tuple: A tuple containing two dataframes:\n",
    "            - meth_df (pandas.DataFrame): A dataframe containing the methylation data for the specified regions and samples.\n",
    "            - meta_df (pandas.DataFrame): A dataframe containing metadata for the samples in meth_df.\n",
    "    \"\"\"\n",
    "    ridxs = raw_meth_df['sample_id'].isin(samples_df['sample_id'])\n",
    "    ridxs &= raw_meth_df['region_id'].isin(regions['region_id'])\n",
    "    ridxs &= (raw_meth_df['region_number_total']>=FILTER_COV)\n",
    "    meth_df = raw_meth_df[ridxs]\\\n",
    "        .pivot_table(index='region_id', columns='sample_id', values='region_meth_rate')\n",
    "    # Remove samples with many missing values\n",
    "    cidxs = (meth_df.isna().sum(axis=0)<(0.1*meth_df.shape[0]))\n",
    "    meth_df = meth_df.loc[:, cidxs].copy()\n",
    "    # Remove missing values (removes regions)\n",
    "    #ridxs = (meth_df.isna().sum(axis=1)==0)\n",
    "    #meth_df = meth_df.loc[ridxs, :].copy()    \n",
    "    # align with sample metadata\n",
    "    ridxs = samples_df['sample_id'].isin(meth_df.columns)\n",
    "    meta_df = samples_df[ridxs][['sample_id', 'germ_layer', 'group', \n",
    "                                 'sample_group', 'cell_type']]\\\n",
    "        .sort_values('sample_group')\n",
    "    meth_df = meth_df.loc[:, meta_df['sample_id']].transpose()\n",
    "    \n",
    "    return(meth_df, meta_df)"
   ]
  },
  {
   "cell_type": "markdown",
   "id": "211f1eb2",
   "metadata": {},
   "source": [
    "### Sample Metadata"
   ]
  },
  {
   "cell_type": "code",
   "execution_count": null,
   "id": "512b3c4d",
   "metadata": {},
   "outputs": [],
   "source": [
    "samples_df = pd.read_csv(SAMPLES_PATH, sep='\\t')\n",
    "samples_df['sample_group'] = samples_df['super_group']\\\n",
    "    .str.replace('-', '_', regex=False)\\\n",
    "    .str.replace('+', '_plus_', regex=False)\n",
    "ridxs = ~(\n",
    "    samples_df['sample_group'].isna() |\n",
    "    samples_df['sample_group'].str.startswith('Blueprint')\n",
    ")\n",
    "# drop umbilical endothelium\n",
    "ridxs = ridxs & (samples_df['super_group'] != 'Umbilical-Endothelium')\n",
    "samples_df = samples_df[ridxs].copy()"
   ]
  },
  {
   "cell_type": "markdown",
   "id": "e36fe7d4",
   "metadata": {},
   "source": [
    "### Region Data"
   ]
  },
  {
   "cell_type": "code",
   "execution_count": null,
   "id": "c23b4a5d",
   "metadata": {},
   "outputs": [],
   "source": [
    "tcga_filt_clusters = pd.read_table(f\"{REGIONS_PATH}/tcga_filtered_regions_clusters.tsv\")\n",
    "non_tcga_clusters = pd.read_table(f\"{REGIONS_PATH}/non_tcga_filtered_regions_0or1_exceptions_clusters.tsv\")\n",
    "top20_clusters = pd.read_table(f\"{REGIONS_PATH}/top20_regions_per_celltype_clusters.tsv\")"
   ]
  },
  {
   "cell_type": "markdown",
   "id": "2d1637e7",
   "metadata": {},
   "source": [
    "### Methylation Data"
   ]
  },
  {
   "cell_type": "code",
   "execution_count": null,
   "id": "c345ad53",
   "metadata": {},
   "outputs": [],
   "source": [
    "%%time\n",
    "raw_meth_df = pd.concat([\n",
    "    pd.read_csv(ifile, sep='\\t', \n",
    "                names=['sample_id', 'region_id', \n",
    "                       'region_number_total', \n",
    "                       'region_meth_rate'])\n",
    "    for ifile in glob.glob(METH_DIR+'/*.csv')\n",
    "])"
   ]
  },
  {
   "cell_type": "markdown",
   "id": "ad821920",
   "metadata": {},
   "source": [
    "## Plot selected regions"
   ]
  },
  {
   "cell_type": "code",
   "execution_count": null,
   "id": "a51d46ad",
   "metadata": {},
   "outputs": [],
   "source": [
    "%load_ext rpy2.ipython"
   ]
  },
  {
   "cell_type": "code",
   "execution_count": null,
   "id": "5381609f",
   "metadata": {},
   "outputs": [],
   "source": [
    "%%time\n",
    "# region_df = top20_clusters\n",
    "# title = 'Top 20 regions per cell type'\n",
    "\n",
    "region_df = tcga_filt_clusters\n",
    "title = 'TCGA filtered regions'\n",
    "\n",
    "# region_df = non_tcga_clusters\n",
    "# title = 'Regions not filtered by TCGA'\n",
    "\n",
    "meth_df, meta_df = get_meth_data(region_df, samples_df, raw_meth_df)\n",
    "regions_ordered = region_df.sort_values(['target_celltype', 'meth_base_min'], ascending=[True, False])['region_id'].drop_duplicates()\n",
    "meth_df = meth_df.loc[:, regions_ordered]\n",
    "meth_df.shape"
   ]
  },
  {
   "cell_type": "code",
   "execution_count": null,
   "id": "2fcec382",
   "metadata": {},
   "outputs": [],
   "source": [
    "%%R -i meth_df,meta_df,RESULTS_PATH,title\n",
    "\n",
    "library(tidyverse)\n",
    "library(pheatmap)\n",
    "library(pals)\n",
    "\n",
    "save_pheatmap_pdf <- function(x, filename, width=7, height=10) {\n",
    "   stopifnot(!missing(x))\n",
    "   stopifnot(!missing(filename))\n",
    "   pdf(filename, width=width, height=height)\n",
    "   grid::grid.newpage()\n",
    "   grid::grid.draw(x$gtable)\n",
    "   dev.off()\n",
    "}\n",
    "\n",
    "row_annot <- data.frame(sample_group=meta_df$sample_group)\n",
    "rownames(row_annot) <- meta_df$sample_id\n",
    "sample_group_colors = c(stepped(), stepped2())[1:length(unique(meta_df$sample_group))]\n",
    "names(sample_group_colors) = unique(meta_df$sample_group)\n",
    "row_colors = list(sample_group=sample_group_colors)\n",
    "p <- pheatmap(\n",
    "    meth_df, \n",
    "    cluster_rows=FALSE, show_rownames=FALSE, \n",
    "    cluster_cols=FALSE, show_colnames=FALSE, \n",
    "    annotation_row=row_annot, annotation_colors=row_colors, annotation_names_row=FALSE,\n",
    "    scale='none', na_col='black', main=title\n",
    ")\n",
    "\n",
    "title_simple = gsub(' ', '_', tolower(title))\n",
    "\n",
    "save_pheatmap_pdf(p, file=paste0(RESULTS_PATH, 'selected__', title_simple, '.pdf'))\n"
   ]
  },
  {
   "cell_type": "code",
   "execution_count": null,
   "id": "8090d6e3",
   "metadata": {},
   "outputs": [],
   "source": []
  }
 ],
 "metadata": {
  "kernelspec": {
   "display_name": "Python 3 (ipykernel)",
   "language": "python",
   "name": "python3"
  },
  "language_info": {
   "codemirror_mode": {
    "name": "ipython",
    "version": 3
   },
   "file_extension": ".py",
   "mimetype": "text/x-python",
   "name": "python",
   "nbconvert_exporter": "python",
   "pygments_lexer": "ipython3",
   "version": "3.10.12"
  }
 },
 "nbformat": 4,
 "nbformat_minor": 5
}
