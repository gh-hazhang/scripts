{
 "cells": [
  {
   "cell_type": "markdown",
   "metadata": {},
   "source": [
    "# Pre-Filter Regions for Diffmeth Analysis with LIMMA\n",
    "\n",
    "Small modifications of Elena's notebook and Alan's version of it:\n",
    "* https://github.com/guardant/ezotenko-gh/blob/2023_01_30_SRT_deconvolution_panel_v2_EZ/analysis/2023_01_30_SRT_deconvolution_panel_v2_EZ/notebooks/data/04_filter_regions_standard_cpg_clusters.ipynb\n",
    "* https://github.com/guardant/gh-aselewa/blob/main/projects/2023_07_10_HYPER_design_AS/notebooks/04_filter_regions_standard_cpg_clusters.ipynb\n",
    "\n",
    "Here we will use a rough filter to reduce large region sets prior to differential methylation analysis with `limma`/`edgeR`."
   ]
  },
  {
   "cell_type": "markdown",
   "metadata": {},
   "source": [
    "## Initialization"
   ]
  },
  {
   "cell_type": "markdown",
   "metadata": {},
   "source": [
    "### Paths and Global Variables"
   ]
  },
  {
   "cell_type": "code",
   "execution_count": null,
   "metadata": {},
   "outputs": [],
   "source": [
    "import os\n",
    "import pandas as pd\n",
    "\n",
    "pd.set_option('display.max_rows', 1000)\n",
    "pd.set_option('display.max_columns', 500)"
   ]
  },
  {
   "cell_type": "code",
   "execution_count": null,
   "metadata": {},
   "outputs": [],
   "source": [
    "#--- Parameters\n",
    "REGIONS = 'hg19_cpg_clusters_k3_s150_w150'\n",
    "FILTER_RATE_LOW = 0.4; FILTER_RATE_HIGH = 0.6\n",
    "FILTER_TARGET_NUM = 1; FILTER_OTHER_NUM = 1 # changed filter rate other to 1\n",
    "FILTER_MIN_CPGs_REGION = 8\n",
    "# Number of observations for computing region meth rate\n",
    "FILTER_COV = 10\n",
    "# Number of observations per sample group\n",
    "FILTER_NOBS = 2\n",
    "#--- Local Paths\n",
    "ROOT_DIR = '/home/ubuntu/git/etsang/projects'\n",
    "PROJECT_SLUG = '2023_10_10_SRT_hyper_tissue_dmr_selection_EKT'\n",
    "PROJECT_DIR = f\"{ROOT_DIR}/{PROJECT_SLUG}/work\"\n",
    "\n",
    "ALAN_PROJECT_DIR = \"/home/ubuntu/data/2023_07_10_HYPER_design_AS\"\n",
    "# Samples\n",
    "SAMPLES_PATH = ALAN_PROJECT_DIR + '/stage/metadata/loyfer2022_samples_with_blueprint.tsv'\n",
    "# Meth data\n",
    "PARQUET_PATH =  ALAN_PROJECT_DIR + '/stage/frag_scores_k3/loyfer2022/'\n",
    "# Blueprint data (for erythroblasts and megakaryocytes\n",
    "BLUEPRINT_PARQUET_PATH = ALAN_PROJECT_DIR + '/stage/frag_scores_k3/blueprint/'\n",
    "### Units/regions file\n",
    "REGION_PATH = (ALAN_PROJECT_DIR + '/stage/metadata/{regions}.ov_cpg_loci.tsv.gz').format(regions=REGIONS)\n",
    "# Where to store the results\n",
    "RESULTS_DIR = (\n",
    "    PROJECT_DIR + \n",
    "    '/bp_loyfer_meth_summaries/standard-{regions}.filtered'\n",
    ").format(regions=REGIONS)\n",
    "#--- Other parameters\n",
    "REGION_BED_COLS = [\n",
    "    'region_chr', 'region_start', 'region_end', 'region_id'\n",
    "]"
   ]
  },
  {
   "cell_type": "markdown",
   "metadata": {},
   "source": [
    "### Spark Setup"
   ]
  },
  {
   "cell_type": "code",
   "execution_count": null,
   "metadata": {},
   "outputs": [],
   "source": [
    "from pyspark.sql import SparkSession\n",
    "from pyspark import SparkConf, SparkContext\n",
    "from pyspark.sql.types import IntegerType, ArrayType\n",
    "import pyspark.sql.functions as sfunc\n",
    "from pyspark.sql.functions import col"
   ]
  },
  {
   "cell_type": "code",
   "execution_count": null,
   "metadata": {
    "jupyter": {
     "outputs_hidden": true
    }
   },
   "outputs": [],
   "source": [
    "os.environ[\"SPARK_HOME\"] = \"/home/ubuntu/mambaforge/envs/2023_10_10_SRT_hyper_tissue_dmr_selection_EKT/lib/python3.10/site-packages/pyspark\"\n",
    "os.environ[\"JAVA_HOME\"] = \"/usr\"\n",
    "os.environ[\"SPARK_LOCAL_DIRS\"] = \"/temp\"\n",
    "os.environ[\"PYARROW_IGNORE_TIMEZONE\"] = \"1\"\n",
    "\n",
    "spark_conf = SparkConf()\n",
    "spark_conf.set(\"spark.executor.memory\", \"16g\")\n",
    "spark_conf.set(\"spark.driver.memory\", \"64g\")\n",
    "spark_conf.set(\"spark.driver.maxResultSize\", \"32g\")\n",
    "spark_conf.set(\"spark.parquet.filterPushdown\", \"true\")\n",
    "spark_conf.set(\"spark.local.dir\", \"/temp\")\n",
    "spark_conf.getAll()\n",
    "\n",
    "sc = SparkContext(conf=spark_conf)\n",
    "sc.setLogLevel(\"ERROR\")\n",
    "spark = SparkSession(sc)"
   ]
  },
  {
   "cell_type": "markdown",
   "metadata": {},
   "source": [
    "### Regions\n",
    "Filter to CpG clusters with at least 8 CpGs"
   ]
  },
  {
   "cell_type": "code",
   "execution_count": null,
   "metadata": {},
   "outputs": [],
   "source": [
    "region_df = pd.read_csv(REGION_PATH, sep='\\t').groupby('region_id').size().to_frame('n_cpgs').reset_index()"
   ]
  },
  {
   "cell_type": "code",
   "execution_count": null,
   "metadata": {},
   "outputs": [],
   "source": [
    "region_df = region_df.query(f\"n_cpgs >= {FILTER_MIN_CPGs_REGION}\")\n",
    "region_ddf = spark.createDataFrame(region_df[['region_id']])"
   ]
  },
  {
   "cell_type": "code",
   "execution_count": null,
   "metadata": {},
   "outputs": [],
   "source": [
    "region_df.shape"
   ]
  },
  {
   "cell_type": "markdown",
   "metadata": {},
   "source": [
    "### Samples"
   ]
  },
  {
   "cell_type": "code",
   "execution_count": null,
   "metadata": {},
   "outputs": [],
   "source": [
    "samples_pdf = pd.read_csv(SAMPLES_PATH, sep='\\t')\n",
    "ridxs = ~(samples_pdf['super_group'].isna() | samples_pdf['super_group'].str.startswith('Blueprint-'))\n",
    "# drop umbilical endothelium\n",
    "ridxs = ridxs & (samples_pdf['super_group'] != 'Umbilical-Endothelium')\n",
    "samples_pdf = samples_pdf[ridxs].copy()\n",
    "samples_pdf['sample_group'] = samples_pdf['super_group']\n",
    "FILTER_SAMPLES = samples_pdf['sample_id'].tolist()\n",
    "len(FILTER_SAMPLES), samples_pdf['sample_group'].nunique()"
   ]
  },
  {
   "cell_type": "markdown",
   "metadata": {},
   "source": [
    "Which sample groups do not have enough samples for diff meth analysis?"
   ]
  },
  {
   "cell_type": "code",
   "execution_count": null,
   "metadata": {},
   "outputs": [],
   "source": [
    "summary = samples_pdf.groupby('sample_group').size()\n",
    "summary"
   ]
  },
  {
   "cell_type": "code",
   "execution_count": null,
   "metadata": {},
   "outputs": [],
   "source": [
    "summary[summary<FILTER_NOBS]"
   ]
  },
  {
   "cell_type": "markdown",
   "metadata": {},
   "source": [
    "### Methylation Data"
   ]
  },
  {
   "cell_type": "code",
   "execution_count": null,
   "metadata": {},
   "outputs": [],
   "source": [
    "meth_ddf = spark.read.parquet(PARQUET_PATH).filter(col('sample_id').isin(FILTER_SAMPLES))\n",
    "add_ddf = spark.read.parquet(BLUEPRINT_PARQUET_PATH).filter(col('sample_id').isin(FILTER_SAMPLES))\n",
    "meth_ddf = meth_ddf.union(add_ddf)\n",
    "meth_ddf.printSchema()"
   ]
  },
  {
   "cell_type": "markdown",
   "metadata": {},
   "source": [
    "## Aggregate Methylate Data Across Groups - not needed anymore since filtering only on CpG count"
   ]
  },
  {
   "cell_type": "code",
   "execution_count": null,
   "metadata": {},
   "outputs": [],
   "source": [
    "# samples_ddf = spark.createDataFrame(samples_pdf[['sample_id', 'sample_group']])"
   ]
  },
  {
   "cell_type": "code",
   "execution_count": null,
   "metadata": {},
   "outputs": [],
   "source": [
    "# agg_meth_ddf = meth_ddf\\\n",
    "#     .filter(col('region_number_total')>=FILTER_COV)\\\n",
    "#     .join(samples_ddf, meth_ddf.sample_id==samples_ddf.sample_id)\\\n",
    "#     .drop(samples_ddf.sample_id)\\\n",
    "#     .groupby(['region_id', 'sample_group'])\\\n",
    "#     .agg(sfunc.avg('region_meth_rate').alias('region_meth_rate'),\n",
    "#          sfunc.count('region_meth_rate').alias('nobs'))\n",
    "# agg_meth_ddf = agg_meth_ddf\\\n",
    "#     .filter(col('nobs')>=FILTER_NOBS)\\\n",
    "#     .drop(agg_meth_ddf.nobs)\n",
    "# agg_meth_ddf.createOrReplaceTempView('meth_data')\n",
    "# agg_meth_ddf.printSchema()"
   ]
  },
  {
   "cell_type": "markdown",
   "metadata": {},
   "source": [
    "## Filter Regions - skipping this section now that we've added a CpG filter"
   ]
  },
  {
   "cell_type": "code",
   "execution_count": null,
   "metadata": {},
   "outputs": [],
   "source": [
    "# SQL_QUERY_DMR = \"\"\"\n",
    "# SELECT region_id, \n",
    "#     SUM(CAST((region_meth_rate<={rate_low}) as INTEGER)) as low_group_number,\n",
    "#     SUM(CAST((region_meth_rate>={rate_high}) as INTEGER)) as high_group_number\n",
    "# FROM meth_data\n",
    "# GROUP BY region_id\n",
    "# \"\"\""
   ]
  },
  {
   "cell_type": "code",
   "execution_count": null,
   "metadata": {},
   "outputs": [],
   "source": [
    "# dmr_ddf = spark.sql(SQL_QUERY_DMR.format(rate_low=FILTER_RATE_LOW, rate_high=FILTER_RATE_HIGH))\n",
    "# dmr_ddf = dmr_ddf.persist()"
   ]
  },
  {
   "cell_type": "code",
   "execution_count": null,
   "metadata": {},
   "outputs": [],
   "source": [
    "# %%time\n",
    "# select_region_ddf = dmr_ddf\\\n",
    "#     .filter(col('low_group_number')>=FILTER_OTHER_NUM)\\\n",
    "#     .filter(col('high_group_number')>=FILTER_TARGET_NUM)"
   ]
  },
  {
   "cell_type": "markdown",
   "metadata": {},
   "source": [
    "## Get Methylation Values for Selected Regions"
   ]
  },
  {
   "cell_type": "code",
   "execution_count": null,
   "metadata": {},
   "outputs": [],
   "source": [
    "RV_COLS = [\n",
    "    'sample_id', 'region_id', 'region_number_total', 'region_meth_rate'\n",
    "]"
   ]
  },
  {
   "cell_type": "code",
   "execution_count": null,
   "metadata": {},
   "outputs": [],
   "source": [
    "%%time\n",
    "rv_ddf = meth_ddf\\\n",
    "    .join(region_ddf, region_ddf.region_id==meth_ddf.region_id)\\\n",
    "    .drop(region_ddf.region_id)\\\n",
    "    .select(*RV_COLS)\n",
    "    "
   ]
  },
  {
   "cell_type": "code",
   "execution_count": null,
   "metadata": {},
   "outputs": [],
   "source": [
    "%%time\n",
    "rv_ddf.write.csv(RESULTS_DIR, sep='\\t')"
   ]
  }
 ],
 "metadata": {
  "kernelspec": {
   "display_name": "Python 3 (ipykernel)",
   "language": "python",
   "name": "python3"
  },
  "language_info": {
   "codemirror_mode": {
    "name": "ipython",
    "version": 3
   },
   "file_extension": ".py",
   "mimetype": "text/x-python",
   "name": "python",
   "nbconvert_exporter": "python",
   "pygments_lexer": "ipython3",
   "version": "3.10.12"
  },
  "toc": {
   "base_numbering": 1,
   "nav_menu": {},
   "number_sections": true,
   "sideBar": true,
   "skip_h1_title": true,
   "title_cell": "Table of Contents",
   "title_sidebar": "Contents",
   "toc_cell": false,
   "toc_position": {
    "height": "calc(100% - 180px)",
    "left": "10px",
    "top": "150px",
    "width": "318.6px"
   },
   "toc_section_display": true,
   "toc_window_display": true
  }
 },
 "nbformat": 4,
 "nbformat_minor": 4
}
