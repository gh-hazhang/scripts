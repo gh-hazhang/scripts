{
 "cells": [
  {
   "cell_type": "markdown",
   "id": "94be0045",
   "metadata": {},
   "source": [
    "#### Select hyper DMRs for tissue cell types"
   ]
  },
  {
   "cell_type": "markdown",
   "id": "831cde70",
   "metadata": {},
   "source": [
    "### Initialization"
   ]
  },
  {
   "cell_type": "code",
   "execution_count": 1,
   "id": "1939da1c",
   "metadata": {},
   "outputs": [],
   "source": [
    "import io\n",
    "import subprocess\n",
    "import os\n",
    "import glob\n",
    "import sys\n",
    "import pwd\n",
    "\n",
    "import pandas as pd\n",
    "import numpy as np\n",
    "import scipy\n",
    "import scipy.stats as stats\n",
    "from sklearn.decomposition import PCA\n",
    "import pickle\n",
    "import re\n",
    "import math\n",
    "import plotnine as pn\n",
    "import seaborn as sns\n",
    "import glob\n",
    "import subprocess\n",
    "import matplotlib.pyplot as plt\n",
    "from sklearn.preprocessing import StandardScaler\n",
    "import seaborn as sns\n",
    "from numpy import log\n",
    "from collections import defaultdict,Counter\n",
    "import re\n",
    "import statsmodels\n",
    "import warnings\n",
    "import statsmodels.stats.multitest as smm\n",
    "import json\n",
    "\n",
    "from pathlib import Path\n",
    "from midas import m\n",
    "from datetime import datetime, date\n",
    "import altair as alt\n",
    "\n",
    "# gh specific\n",
    "sys.path.append('/ghsfa/projects/pharma/shared_scripts/')\n",
    "import bibp.functions as functions\n",
    "import hgvslib.pHGVS as pHGVS  ## do a pull on the hgvslib git repo\n",
    "\n",
    "# !pip install statannotations==0.4.0\n",
    "# #!pip uninstall statannotations --yes\n",
    "# from statannotations.Annotator import Annotatorå\n",
    "\n",
    "warnings.filterwarnings(\"ignore\")\n",
    "pd.options.display.max_rows = None\n",
    "pd.options.display.max_columns=None\n",
    "pd.options.display.max_colwidth=None\n",
    "work_dir=\"/ghsfa/projects/pharma/projects/sirius_pharma/hazhang_projects/Hyper_lung_tissue_selection_Emily_10312024\""
   ]
  },
  {
   "cell_type": "code",
   "execution_count": 2,
   "id": "b6913ba1",
   "metadata": {},
   "outputs": [],
   "source": [
    "import os\n",
    "import numpy as np\n",
    "import pandas as pd\n",
    "import glob\n",
    "import seaborn as sns\n",
    "import matplotlib.pyplot as plt\n",
    "import pybedtools\n",
    "\n",
    "import altair as alt\n",
    "alt.data_transformers.enable('default', max_rows=None)\n",
    "\n",
    "pd.set_option('display.max_rows', 1000)\n",
    "pd.set_option('display.max_columns', 500)\n",
    "sns.set_context('talk')"
   ]
  },
  {
   "cell_type": "code",
   "execution_count": 3,
   "id": "8886be7f",
   "metadata": {},
   "outputs": [
    {
     "data": {
      "text/plain": [
       "ThemeRegistry.enable('mbd_theme')"
      ]
     },
     "execution_count": 3,
     "metadata": {},
     "output_type": "execute_result"
    }
   ],
   "source": [
    "def mbd_theme(*args, **kwargs):\n",
    "    return {\n",
    "        \"config\": {\n",
    "            \"legend\": {\"titleFontSize\": 12, \"labelFontSize\": 12, \"labelLimit\": 0},\n",
    "            \"axis\": {\"titleFontSize\": 12, \"labelFontSize\": 12},\n",
    "            \"header\": {\"titleFontSize\": 14, \"labelFontSize\": 14},\n",
    "            \"title\": {\"titleFontSize\": 30, \"labelFontSize\": 30},\n",
    "        }\n",
    "    }\n",
    "\n",
    "\n",
    "alt.themes.register(\"mbd_theme\", mbd_theme)\n",
    "alt.themes.enable(\"mbd_theme\")"
   ]
  },
  {
   "cell_type": "markdown",
   "id": "c74f5469",
   "metadata": {},
   "source": [
    "### Parameters and file paths"
   ]
  },
  {
   "cell_type": "code",
   "execution_count": 4,
   "id": "a6f603f0",
   "metadata": {},
   "outputs": [],
   "source": [
    "#--- Parameters\n",
    "REGIONS = 'hg19_cpg_clusters_k3_s150_w150'\n",
    "\n",
    "FILTER_COV = 10\n",
    "FILTER_RATE_TARGET = 0.6\n",
    "FILTER_RATE_OTHER = 0.5\n",
    "FILTER_RATE_DELTA = -0.2 # added this instead of using the filter rate other; negative because looking for hypermethylated regions\n",
    "FILTER_FDR = 5e-2 # note: already applied this filter to output generated upstream\n",
    "FILTER_BROAD_FDR = 5e-2\n",
    "FILTER_MIN_CPGs_REGION = 10\n",
    "\n",
    "BED_COLS = ['region_chr', 'region_start', 'region_end', 'region_id']\n",
    "BLOOD_CELLTYPES = [ \n",
    "    'Blood_B', 'Blood_Granul',\n",
    "    'Blood_Mega_plus_Eryth', 'Blood_Mono_plus_Macro', \n",
    "    'Blood_NK', 'Blood_T', \n",
    "]\n",
    "REMOVE_CELLTYPES = [\n",
    "    'Eryth_prog', 'Umbilical_Endothelium' # note umbilical endothelium is already being excluded before explicit filtering on this variable\n",
    "]\n",
    "#--- Local paths\n",
    "# ROOT_DIR = '/home/ubuntu/git/etsang/projects'\n",
    "# PROJECT_SLUG = '2023_10_10_SRT_hyper_tissue_dmr_selection_EKT'\n",
    "# PROJECT_DIR = f\"{ROOT_DIR}/{PROJECT_SLUG}/work\"\n",
    "\n",
    "PROJECT_DIR = f\"{work_dir}/2024_11_01_SRT_hyper_tissue_dmr_selection_EKT\"\n",
    "\n",
    "# ALAN_PROJECT_DIR = \"/home/ubuntu/data/2023_07_10_HYPER_design_AS\"\n",
    "ALAN_PROJECT_DIR = f\"{work_dir}/2023_07_10_HYPER_design_AS\"\n",
    "\n",
    "\n",
    "# Samples\n",
    "SAMPLES_PATH = ALAN_PROJECT_DIR + '/stage/metadata/loyfer2022_samples_with_blueprint.tsv'\n",
    "### Units/regions file\n",
    "REGION_PATH = (\n",
    "    ALAN_PROJECT_DIR + '/stage/metadata/{regions}.ov_cpg_loci.tsv.gz'\n",
    ").format(regions=REGIONS)\n",
    "# Methylation data\n",
    "METH_DIR = (\n",
    "    PROJECT_DIR + \n",
    "    '/bp_loyfer_meth_summaries/standard-{regions}.filtered'\n",
    ").format(regions=REGIONS)\n",
    "# Differential methylation data\n",
    "DIFFMETH_PATH = (PROJECT_DIR + \n",
    "    '/diff_meth/standard_diffmeth_{regions}_*_minus_*.tsv.gz'\n",
    ").format(regions=REGIONS)\n",
    "\n",
    "# # Where to store graphics\n",
    "RESULTS_PATH = (\n",
    "    PROJECT_DIR + '/plots/'\n",
    ")\n"
   ]
  },
  {
   "cell_type": "code",
   "execution_count": 9,
   "id": "496d49de",
   "metadata": {},
   "outputs": [],
   "source": [
    "def get_meth_data(regions, samples_df, raw_meth_df):\n",
    "    \"\"\"\n",
    "    Extracts methylation data from a raw methylation dataframe for a given set of regions and samples.\n",
    "\n",
    "    Args:\n",
    "        regions (pandas.DataFrame): A dataframe containing information about the regions of interest.\n",
    "        samples_df (pandas.DataFrame): A dataframe containing information about the samples.\n",
    "        raw_meth_df (pandas.DataFrame): A dataframe containing raw methylation data.\n",
    "\n",
    "    Returns:\n",
    "        tuple: A tuple containing two dataframes:\n",
    "            - meth_df (pandas.DataFrame): A dataframe containing the methylation data for the specified regions and samples.\n",
    "            - meta_df (pandas.DataFrame): A dataframe containing metadata for the samples in meth_df.\n",
    "    \"\"\"\n",
    "    ridxs = raw_meth_df['sample_id'].isin(samples_df['sample_id'])\n",
    "    ridxs &= raw_meth_df['region_id'].isin(regions['region_id'])\n",
    "    ridxs &= (raw_meth_df['region_number_total']>=FILTER_COV)\n",
    "    meth_df = raw_meth_df[ridxs]\\\n",
    "        .pivot_table(index='region_id', columns='sample_id', values='region_meth_rate')\n",
    "    # Remove samples with many missing values\n",
    "    cidxs = (meth_df.isna().sum(axis=0)<(0.1*meth_df.shape[0]))\n",
    "    meth_df = meth_df.loc[:, cidxs].copy()\n",
    "    # Remove missing values (removes regions)\n",
    "    #ridxs = (meth_df.isna().sum(axis=1)==0)\n",
    "    #meth_df = meth_df.loc[ridxs, :].copy()    \n",
    "    # align with sample metadata\n",
    "    ridxs = samples_df['sample_id'].isin(meth_df.columns)\n",
    "    meta_df = samples_df[ridxs][['sample_id', 'germ_layer', 'group', \n",
    "                                 'sample_group', 'cell_type']]\\\n",
    "        .sort_values('sample_group')\n",
    "    meth_df = meth_df.loc[:, meta_df['sample_id']].transpose()\n",
    "    \n",
    "    return(meth_df, meta_df)"
   ]
  },
  {
   "cell_type": "markdown",
   "id": "211f1eb2",
   "metadata": {},
   "source": [
    "### Sample Metadata"
   ]
  },
  {
   "cell_type": "code",
   "execution_count": 7,
   "id": "512b3c4d",
   "metadata": {},
   "outputs": [],
   "source": [
    "samples_df = pd.read_csv(SAMPLES_PATH, sep='\\t')\n",
    "samples_df['sample_group'] = samples_df['super_group']\\\n",
    "    .str.replace('-', '_', regex=False)\\\n",
    "    .str.replace('+', '_plus_', regex=False)\n",
    "ridxs = ~(\n",
    "    samples_df['sample_group'].isna() |\n",
    "    samples_df['sample_group'].str.startswith('Blueprint')\n",
    ")\n",
    "# drop umbilical endothelium\n",
    "ridxs = ridxs & (samples_df['super_group'] != 'Umbilical-Endothelium')\n",
    "samples_df = samples_df[ridxs].copy()"
   ]
  },
  {
   "cell_type": "code",
   "execution_count": 8,
   "id": "6dd4f072",
   "metadata": {},
   "outputs": [
    {
     "data": {
      "text/plain": [
       "group              refined_group      cell_type                                                     \n",
       "Adipocytes         Adipocytes         Adipocytes                                                         3\n",
       "Bladder-Ep         Bladder-Ep         Epithelium                                                         5\n",
       "Blood-B            Blood-B            B cells                                                            3\n",
       "                                      Memory B cells                                                     2\n",
       "Blood-Granul       Blood-Granul       Granulocytes                                                       3\n",
       "Blood-Mega+Eryth   Blood-Mega+Eryth   CD34-negative, CD41-positive, CD42-positive megakaryocyte cell     2\n",
       "                                      erythroblast                                                       2\n",
       "Blood-Mono+Macro   Blood-Mono+Macro   Macrophages                                                        8\n",
       "                                      Monocytes                                                          3\n",
       "Blood-NK           Blood-NK           NK                                                                 3\n",
       "Blood-T            Blood-T            T (CD3+) cells                                                     2\n",
       "                                      T central memory CD4                                               3\n",
       "                                      T cytotoxic (CD8+) cells                                           3\n",
       "                                      T effector cell CD8                                                3\n",
       "                                      T effector memory CD4                                              3\n",
       "                                      T effector memory CD8                                              2\n",
       "                                      T helper(CD4+) cells                                               3\n",
       "                   Blood-T-Naïve      Naive T cells CD4                                                  1\n",
       "                                      Naive T cells CD8                                                  2\n",
       "Breast-Basal-Ep    Breast-Basal-Ep    Basal epithelial                                                   4\n",
       "Breast-Luminal-Ep  Breast-Luminal-Ep  Luminal epithelial                                                 3\n",
       "Colon-Ep           Colon-Ep           Endocrine                                                          3\n",
       "                                      Epithelium                                                         5\n",
       "Colon-Fibro        Colon-Fibro        Fibroblast                                                         2\n",
       "Dermal-Fibro       Dermal-Fibro       Fibroblast                                                         1\n",
       "Endothelium        Endothelium        Endothelium                                                       19\n",
       "Eryth-prog         Eryth-prog         Erythrocyte progenitors                                            3\n",
       "Fallopian-Ep       Fallopian-Ep       Epithelium                                                         3\n",
       "Gastric-Ep         Gastric-Ep         Endocrine                                                          2\n",
       "                                      Epithelium                                                         9\n",
       "Head-Neck-Ep       Head-Neck-Ep       Epithelium                                                         7\n",
       "                   Pharynx            Epithelium                                                         1\n",
       "                   Tonsil             Epithelium                                                         5\n",
       "Heart-Cardio       Heart-Cardio       Cardiomyocyte                                                      6\n",
       "Heart-Fibro        Heart-Fibro        Fibroblast                                                         4\n",
       "Kidney-Ep          Kidney-Ep          Epithelium                                                         5\n",
       "                                      Podocyte                                                           3\n",
       "Liver-Hep          Liver-Hep          Hepatocyte                                                         6\n",
       "Lung-Ep-Alveo      Lung-Ep-Alveo      Epithelium                                                         4\n",
       "Lung-Ep-Bron       Lung-Ep-Bron       Epithelium                                                         3\n",
       "Neuron             Neuron             Neuronal                                                           8\n",
       "                   Neuron-Bulk        Neuronal                                                           2\n",
       "Oligodend          Oligodend          Oligodendrocytes                                                   4\n",
       "Ovary+Endom-Ep     Endometrium        Epithelium                                                         3\n",
       "                   Ovary-Ep           Epithelium                                                         1\n",
       "Pancreas-Acinar    Pancreas-Acinar    Acinar                                                             4\n",
       "Pancreas-Alpha     Pancreas-Alpha     Alpha                                                              3\n",
       "Pancreas-Beta      Pancreas-Beta      Beta                                                               3\n",
       "Pancreas-Delta     Pancreas-Delta     Delta                                                              3\n",
       "Pancreas-Duct      Pancreas-Duct      Duct                                                               4\n",
       "Prostate-Ep        Prostate-Ep        Epithelium                                                         4\n",
       "Skeletal-Musc      Skeletal-Musc      Striated muscle                                                    2\n",
       "Small-Int-Ep       Small-Int-Ep       Endocrine                                                          1\n",
       "                                      Epithelium                                                         4\n",
       "Smooth-Musc        Smooth-Musc        Smooth muscle                                                      5\n",
       "Thyroid-Ep         Thyroid-Ep         Epithelium                                                         3\n",
       "dtype: int64"
      ]
     },
     "execution_count": 8,
     "metadata": {},
     "output_type": "execute_result"
    }
   ],
   "source": [
    "summary = samples_df\\\n",
    "    .fillna('none')\\\n",
    "    .groupby(['group', 'refined_group', 'cell_type'])\\\n",
    "    .size()\n",
    "summary"
   ]
  },
  {
   "cell_type": "code",
   "execution_count": 10,
   "id": "f47247d4",
   "metadata": {},
   "outputs": [
    {
     "data": {
      "text/plain": [
       "(30, 6, 24)"
      ]
     },
     "execution_count": 10,
     "metadata": {},
     "output_type": "execute_result"
    }
   ],
   "source": [
    "SAMPLE_GROUPS = sorted(samples_df['sample_group'].unique())\n",
    "NONBLOOD_CELLTYPES = [x for x in SAMPLE_GROUPS if x not in BLOOD_CELLTYPES]\n",
    "#NONBLOOD_CELLTYPES_WITH_REMOVE = [x for x in NONBLOOD_CELLTYPES if x not in REMOVE_CELLTYPES]\n",
    "len(SAMPLE_GROUPS), len(BLOOD_CELLTYPES), len(NONBLOOD_CELLTYPES)#, len(NONBLOOD_CELLTYPES_WITH_REMOVE)"
   ]
  },
  {
   "cell_type": "code",
   "execution_count": 32,
   "id": "07f34ff5",
   "metadata": {},
   "outputs": [
    {
     "data": {
      "text/plain": [
       "['Adipocytes',\n",
       " 'Bladder_Ep',\n",
       " 'Breast_Basal_Ep',\n",
       " 'Breast_Luminal_Ep',\n",
       " 'Colon_Ep',\n",
       " 'Endothelium',\n",
       " 'Eryth_prog',\n",
       " 'Esophagus_Ep',\n",
       " 'Fibro_Musc',\n",
       " 'Gastric_Ep',\n",
       " 'Head_Neck_Ep',\n",
       " 'Heart_Cardio',\n",
       " 'Kidney_Ep',\n",
       " 'Liver_Hep',\n",
       " 'Lung_Ep_Alveo',\n",
       " 'Lung_Ep_Bron',\n",
       " 'Neuron_plus_Oligodend',\n",
       " 'Ovary_Ep',\n",
       " 'Pancreas',\n",
       " 'Pancreas_Acinar',\n",
       " 'Pancreas_Duct',\n",
       " 'Prostate_Ep',\n",
       " 'Small_Int_Ep',\n",
       " 'Thyroid_Ep']"
      ]
     },
     "execution_count": 32,
     "metadata": {},
     "output_type": "execute_result"
    }
   ],
   "source": [
    "NONBLOOD_CELLTYPES"
   ]
  },
  {
   "cell_type": "markdown",
   "id": "2d1637e7",
   "metadata": {},
   "source": [
    "### Methylation Data"
   ]
  },
  {
   "cell_type": "code",
   "execution_count": 12,
   "id": "c345ad53",
   "metadata": {},
   "outputs": [
    {
     "name": "stdout",
     "output_type": "stream",
     "text": [
      "CPU times: user 2min 55s, sys: 19.7 s, total: 3min 15s\n",
      "Wall time: 3min 24s\n"
     ]
    }
   ],
   "source": [
    "%%time\n",
    "raw_meth_df = pd.concat([\n",
    "    pd.read_csv(ifile, sep='\\t', \n",
    "                names=['sample_id', 'region_id', \n",
    "                       'region_number_total', \n",
    "                       'region_meth_rate'])\n",
    "    for ifile in glob.glob(METH_DIR+'/*.csv')\n",
    "])"
   ]
  },
  {
   "cell_type": "code",
   "execution_count": 13,
   "id": "baa83683",
   "metadata": {},
   "outputs": [
    {
     "name": "stdout",
     "output_type": "stream",
     "text": [
      "CPU times: user 2min 1s, sys: 6.47 s, total: 2min 8s\n",
      "Wall time: 2min 11s\n"
     ]
    }
   ],
   "source": [
    "%%time\n",
    "diffmeth_df = pd.concat([\n",
    "    pd.read_csv(ifile, sep='\\t', usecols=['region_id', 'fdr', 'meth_base', 'meth_delta'])\\\n",
    "        .assign(source=os.path.basename(ifile))\n",
    "    for ifile in glob.glob(DIFFMETH_PATH)\n",
    "])"
   ]
  },
  {
   "cell_type": "code",
   "execution_count": 14,
   "id": "a4086242",
   "metadata": {},
   "outputs": [],
   "source": [
    "def extract_ct1(filename):\n",
    "    \"\"\"\n",
    "    Extracts the name of the first cell type from a differential methylation filename.\n",
    "\n",
    "    Args:\n",
    "        filename (str): The name of the differential methylation file.\n",
    "\n",
    "    Returns:\n",
    "        str: The name of the first cell type in the filename.\n",
    "    \"\"\"\n",
    "    ct1 = str.replace(filename, 'standard_diffmeth_%s_'%REGIONS, '')\\\n",
    "    .replace('.tsv.gz', '')\\\n",
    "    .split('_minus_')[1]\n",
    "\n",
    "    return(ct1)\n",
    "\n",
    "\n",
    "def extract_ct2(filename):\n",
    "    \"\"\"\n",
    "    Extracts the name of the second cell type from a differential methylation filename.\n",
    "\n",
    "    Args:\n",
    "        filename (str): The name of the differential methylation file.\n",
    "\n",
    "    Returns:\n",
    "        str: The name of the second cell type in the filename.\n",
    "    \"\"\"\n",
    "    ct2 = str.replace(filename, 'standard_diffmeth_%s_'%REGIONS, '')\\\n",
    "    .replace('.tsv.gz', '')\\\n",
    "    .split('_minus_')[0]\n",
    "\n",
    "    return(ct2)\n",
    "\n",
    "# extract ct1 and ct2 from the name\n",
    "sources = list(diffmeth_df['source'].unique())\n",
    "SOURCE_TO_CT1_MAP = dict(zip(sources, [extract_ct1(source) for source in sources]))\n",
    "SOURCE_TO_CT2_MAP = dict(zip(sources, [extract_ct2(source) for source in sources]))\n",
    "diffmeth_df['ct1'] = diffmeth_df['source'].map(SOURCE_TO_CT1_MAP)\n",
    "diffmeth_df['ct2'] = diffmeth_df['source'].map(SOURCE_TO_CT2_MAP)"
   ]
  },
  {
   "cell_type": "code",
   "execution_count": 15,
   "id": "812e4118",
   "metadata": {},
   "outputs": [
    {
     "data": {
      "text/plain": [
       "['Adipocytes',\n",
       " 'Bladder_Ep',\n",
       " 'Blood_B',\n",
       " 'Blood_Granul',\n",
       " 'Blood_Mono_plus_Macro',\n",
       " 'Blood_NK',\n",
       " 'Blood_T',\n",
       " 'Breast_Basal_Ep',\n",
       " 'Breast_Luminal_Ep',\n",
       " 'Colon_Ep',\n",
       " 'Endothelium',\n",
       " 'Eryth_prog',\n",
       " 'Esophagus_Ep',\n",
       " 'Fibro_Musc',\n",
       " 'Gastric_Ep',\n",
       " 'Head_Neck_Ep',\n",
       " 'Heart_Cardio',\n",
       " 'Kidney_Ep',\n",
       " 'Liver_Hep',\n",
       " 'Lung_Ep_Alveo',\n",
       " 'Lung_Ep_Bron',\n",
       " 'Neuron_plus_Oligodend',\n",
       " 'Ovary_Ep',\n",
       " 'Pancreas',\n",
       " 'Pancreas_Acinar',\n",
       " 'Pancreas_Duct',\n",
       " 'Prostate_Ep',\n",
       " 'Small_Int_Ep']"
      ]
     },
     "execution_count": 15,
     "metadata": {},
     "output_type": "execute_result"
    }
   ],
   "source": [
    "sorted(diffmeth_df['ct1'].unique())"
   ]
  },
  {
   "cell_type": "code",
   "execution_count": 16,
   "id": "f421807f",
   "metadata": {},
   "outputs": [
    {
     "data": {
      "text/plain": [
       "['Bladder_Ep',\n",
       " 'Blood_B',\n",
       " 'Blood_Granul',\n",
       " 'Blood_Mono_plus_Macro',\n",
       " 'Blood_NK',\n",
       " 'Blood_T',\n",
       " 'Breast_Basal_Ep',\n",
       " 'Breast_Luminal_Ep',\n",
       " 'Colon_Ep',\n",
       " 'Endothelium',\n",
       " 'Eryth_prog',\n",
       " 'Esophagus_Ep',\n",
       " 'Fibro_Musc',\n",
       " 'Gastric_Ep',\n",
       " 'Head_Neck_Ep',\n",
       " 'Heart_Cardio',\n",
       " 'Kidney_Ep',\n",
       " 'Liver_Hep',\n",
       " 'Lung_Ep_Alveo',\n",
       " 'Lung_Ep_Bron',\n",
       " 'Neuron_plus_Oligodend',\n",
       " 'Ovary_Ep',\n",
       " 'Pancreas',\n",
       " 'Pancreas_Acinar',\n",
       " 'Pancreas_Duct',\n",
       " 'Prostate_Ep',\n",
       " 'Small_Int_Ep',\n",
       " 'Thyroid_Ep']"
      ]
     },
     "execution_count": 16,
     "metadata": {},
     "output_type": "execute_result"
    }
   ],
   "source": [
    "sorted(diffmeth_df['ct2'].unique())"
   ]
  },
  {
   "cell_type": "markdown",
   "id": "5fea526d",
   "metadata": {},
   "source": [
    "##### add reversed tests "
   ]
  },
  {
   "cell_type": "code",
   "execution_count": 17,
   "id": "c80be112",
   "metadata": {},
   "outputs": [
    {
     "name": "stdout",
     "output_type": "stream",
     "text": [
      "CPU times: user 8.48 s, sys: 6.05 s, total: 14.5 s\n",
      "Wall time: 14 s\n"
     ]
    }
   ],
   "source": [
    "%%time\n",
    "add_df = diffmeth_df\\\n",
    "    .rename(columns={'ct1': 'ct2', 'ct2': 'ct1'})\n",
    "add_df['meth_base'] = add_df['meth_base']+add_df['meth_delta']\n",
    "add_df['meth_delta'] = -add_df['meth_delta']\n",
    "diffmeth_df = pd.concat([diffmeth_df, add_df])\n",
    "diffmeth_df['meth_other'] = diffmeth_df['meth_base']+diffmeth_df['meth_delta']\n"
   ]
  },
  {
   "cell_type": "code",
   "execution_count": 18,
   "id": "2a14d782",
   "metadata": {},
   "outputs": [],
   "source": [
    "# HYPER criteria\n",
    "ridxs = (\n",
    "    (diffmeth_df['meth_base']>=FILTER_RATE_TARGET) &\n",
    "    (diffmeth_df['meth_other']<=FILTER_RATE_OTHER) &\n",
    "    (diffmeth_df['meth_delta']<=FILTER_RATE_DELTA) &\n",
    "    (diffmeth_df['fdr']<=FILTER_FDR)\n",
    ")\n",
    "diffmeth_df_filtered = diffmeth_df[ridxs].copy()"
   ]
  },
  {
   "cell_type": "code",
   "execution_count": 19,
   "id": "87c1e98b",
   "metadata": {},
   "outputs": [
    {
     "name": "stdout",
     "output_type": "stream",
     "text": [
      "Number of regions/celltype pairs before filtering: 102844354\n",
      "After filtering: 20138651\n"
     ]
    }
   ],
   "source": [
    "print(f\"Number of regions/celltype pairs before filtering: {diffmeth_df.shape[0]}\\nAfter filtering: {diffmeth_df_filtered.shape[0]}\")"
   ]
  },
  {
   "cell_type": "markdown",
   "id": "d36b3ae1",
   "metadata": {},
   "source": [
    "### Add CpG count and filter\n",
    "\n",
    "Only keep regions with FILTER_MIN_CPGs_REGION or more CpGs"
   ]
  },
  {
   "cell_type": "code",
   "execution_count": 20,
   "id": "115a9d5f",
   "metadata": {},
   "outputs": [],
   "source": [
    "region_df = pd.read_csv(REGION_PATH, sep='\\t').groupby('region_id').size().to_frame('n_cpgs').reset_index()"
   ]
  },
  {
   "cell_type": "code",
   "execution_count": 21,
   "id": "d72f6a28",
   "metadata": {},
   "outputs": [],
   "source": [
    "diffmeth_df_filtered = diffmeth_df_filtered.merge(region_df, on='region_id', validate='m:1')\n",
    "diffmeth_df_filtered = diffmeth_df_filtered.query(f\"n_cpgs>={FILTER_MIN_CPGs_REGION}\")"
   ]
  },
  {
   "cell_type": "code",
   "execution_count": 22,
   "id": "6e0a2007",
   "metadata": {},
   "outputs": [
    {
     "name": "stdout",
     "output_type": "stream",
     "text": [
      "Number of regions/celltype pairs left after requiring at least 10 CpGs: 10609976\n"
     ]
    }
   ],
   "source": [
    "print(f\"Number of regions/celltype pairs left after requiring at least {FILTER_MIN_CPGs_REGION} CpGs: {diffmeth_df_filtered.shape[0]}\")"
   ]
  },
  {
   "cell_type": "markdown",
   "id": "7fe6c97d",
   "metadata": {},
   "source": [
    "# Actual selection of regions"
   ]
  },
  {
   "cell_type": "markdown",
   "id": "1cd45141",
   "metadata": {},
   "source": [
    "### Look at pairwise number of hypo regions found\n",
    "Use this to determine which cell types to combine"
   ]
  },
  {
   "cell_type": "code",
   "execution_count": 23,
   "id": "cae8d551",
   "metadata": {},
   "outputs": [],
   "source": [
    "hyper_pairwise_df = (diffmeth_df_filtered.groupby(['ct1', 'ct2'])\n",
    "                     .size()\n",
    "                     .to_frame('n_clusters')\n",
    "                     .reset_index()\n",
    "                     .pivot_table(index='ct1', columns='ct2', values='n_clusters')\n",
    "                     .reset_index()\n",
    "                     .fillna(0))"
   ]
  },
  {
   "cell_type": "code",
   "execution_count": null,
   "id": "246ed298",
   "metadata": {},
   "outputs": [],
   "source": [
    "%load_ext rpy2.ipython"
   ]
  },
  {
   "cell_type": "code",
   "execution_count": null,
   "id": "f80616cc",
   "metadata": {},
   "outputs": [],
   "source": [
    "%%R -i hyper_pairwise_df,RESULTS_PATH\n",
    "\n",
    "library(tidyverse)\n",
    "library(pheatmap)\n",
    "library(pals)\n",
    "\n",
    "save_pheatmap_pdf <- function(x, filename, width=7, height=7) {\n",
    "   stopifnot(!missing(x))\n",
    "   stopifnot(!missing(filename))\n",
    "   pdf(filename, width=width, height=height)\n",
    "   grid::grid.newpage()\n",
    "   grid::grid.draw(x$gtable)\n",
    "   dev.off()\n",
    "}\n",
    "\n",
    "hyper_pairwise_mat = as.matrix(hyper_pairwise_df %>% select(-ct1))\n",
    "rownames(hyper_pairwise_mat) = hyper_pairwise_df %>% pull(ct1)\n",
    "\n",
    "p_cluster = pheatmap(\n",
    "    hyper_pairwise_mat, \n",
    "    cluster_rows=TRUE, show_rownames=TRUE, \n",
    "    cluster_cols=TRUE, show_colnames=TRUE, \n",
    ")\n",
    "p_cluster\n",
    "save_pheatmap_pdf(p_cluster, file=paste0(RESULTS_PATH, 'heatmap_pairwise_hyper_test_number_clustered.pdf'))"
   ]
  },
  {
   "cell_type": "markdown",
   "id": "fc4d85ae",
   "metadata": {},
   "source": [
    "### For each and celltype pair, count the number diff meth with blood cell types\n",
    "Diff with all blood cell types would be a count of 5"
   ]
  },
  {
   "cell_type": "code",
   "execution_count": 45,
   "id": "cb4bb0bc",
   "metadata": {},
   "outputs": [],
   "source": [
    "ridxs = diffmeth_df_filtered['ct2'].isin(BLOOD_CELLTYPES)\n",
    "ridxs &= diffmeth_df_filtered['ct1'].isin(NONBLOOD_CELLTYPES)\n",
    "blood_differential = (diffmeth_df_filtered.loc[ridxs].copy()\n",
    "                      .groupby(['ct1', 'region_id'])\n",
    "                      .size().to_frame('n_blood_diff').reset_index())"
   ]
  },
  {
   "cell_type": "code",
   "execution_count": 46,
   "id": "e4d7aa4d",
   "metadata": {},
   "outputs": [
    {
     "data": {
      "text/html": [
       "<div>\n",
       "<style scoped>\n",
       "    .dataframe tbody tr th:only-of-type {\n",
       "        vertical-align: middle;\n",
       "    }\n",
       "\n",
       "    .dataframe tbody tr th {\n",
       "        vertical-align: top;\n",
       "    }\n",
       "\n",
       "    .dataframe thead th {\n",
       "        text-align: right;\n",
       "    }\n",
       "</style>\n",
       "<table border=\"1\" class=\"dataframe\">\n",
       "  <thead>\n",
       "    <tr style=\"text-align: right;\">\n",
       "      <th></th>\n",
       "      <th>n_blood_diff</th>\n",
       "    </tr>\n",
       "  </thead>\n",
       "  <tbody>\n",
       "    <tr>\n",
       "      <th>count</th>\n",
       "      <td>394206.000000</td>\n",
       "    </tr>\n",
       "    <tr>\n",
       "      <th>mean</th>\n",
       "      <td>3.206689</td>\n",
       "    </tr>\n",
       "    <tr>\n",
       "      <th>std</th>\n",
       "      <td>1.725217</td>\n",
       "    </tr>\n",
       "    <tr>\n",
       "      <th>min</th>\n",
       "      <td>1.000000</td>\n",
       "    </tr>\n",
       "    <tr>\n",
       "      <th>25%</th>\n",
       "      <td>1.000000</td>\n",
       "    </tr>\n",
       "    <tr>\n",
       "      <th>50%</th>\n",
       "      <td>3.000000</td>\n",
       "    </tr>\n",
       "    <tr>\n",
       "      <th>75%</th>\n",
       "      <td>5.000000</td>\n",
       "    </tr>\n",
       "    <tr>\n",
       "      <th>max</th>\n",
       "      <td>5.000000</td>\n",
       "    </tr>\n",
       "  </tbody>\n",
       "</table>\n",
       "</div>"
      ],
      "text/plain": [
       "        n_blood_diff\n",
       "count  394206.000000\n",
       "mean        3.206689\n",
       "std         1.725217\n",
       "min         1.000000\n",
       "25%         1.000000\n",
       "50%         3.000000\n",
       "75%         5.000000\n",
       "max         5.000000"
      ]
     },
     "execution_count": 46,
     "metadata": {},
     "output_type": "execute_result"
    }
   ],
   "source": [
    "blood_differential.describe()"
   ]
  },
  {
   "cell_type": "markdown",
   "id": "236154f8",
   "metadata": {},
   "source": [
    "### Select non-blood regions\n",
    "First try 1 vs most and require diff wrt blood"
   ]
  },
  {
   "cell_type": "code",
   "execution_count": 47,
   "id": "931d2251",
   "metadata": {},
   "outputs": [],
   "source": [
    "ridxs = diffmeth_df_filtered['ct1'].isin(NONBLOOD_CELLTYPES)\n",
    "ridxs &= diffmeth_df_filtered['ct2'].isin(NONBLOOD_CELLTYPES)\n",
    "select_nonblood = (diffmeth_df_filtered[ridxs]\n",
    "                   .groupby(['ct1', 'region_id', 'n_cpgs'])\n",
    "                   .agg(number_other=('ct2', 'count'),\n",
    "                        celltypes_other=('ct2', ','.join),\n",
    "                        meth_base_min=('meth_base', 'min'),\n",
    "                        meth_delta_max=('meth_delta', 'max'))\n",
    "                   .reset_index())"
   ]
  },
  {
   "cell_type": "markdown",
   "id": "e1ebb385",
   "metadata": {},
   "source": [
    "Filter out region that are not differential with all blood cell types and at least 19 \"other\" celltypes"
   ]
  },
  {
   "cell_type": "code",
   "execution_count": 48,
   "id": "092a75e1",
   "metadata": {},
   "outputs": [],
   "source": [
    "# Original filter rule\n",
    "candidates_v_many = (select_nonblood.merge(blood_differential, on=['ct1', 'region_id'], how='left')\n",
    "                     .fillna(0)\n",
    "                     .query(f\"n_blood_diff == 5 & number_other >= {len(NONBLOOD_CELLTYPES) -5}\"))\n",
    "candidates_v_many[['chrom','start','stop']] = (candidates_v_many['region_id']\n",
    "                                               .str.replace('.*_', '', regex=True)\n",
    "                                               .str.split(pat='[:|-]', expand=True, regex=True))\n",
    "# adjust start by 0 for bedlike format and also make end int\n",
    "candidates_v_many['start'] = candidates_v_many['start'].astype(int) - 1 \n",
    "candidates_v_many['stop'] = candidates_v_many['stop'].astype(int)"
   ]
  },
  {
   "cell_type": "code",
   "execution_count": 50,
   "id": "fc2196f8",
   "metadata": {},
   "outputs": [],
   "source": [
    "# Haiyang modified filter: for Diff meth according to the above criteria for all 5 blood cell types and low in breast but not other cell types (up to 5 cell types allowed to not be DE; these are referred to as exceptions). \n",
    "# Check for low methylation in breast tissues\n",
    "breast_tissue_types = ['Breast_Basal_Ep', 'Breast_Luminal_Ep']\n",
    "ridxs_breast = diffmeth_df_filtered['ct2'].isin(breast_tissue_types)\n",
    "breast_differential = (diffmeth_df_filtered.loc[ridxs_breast]\n",
    "                       .groupby(['ct1', 'region_id'])\n",
    "                       .size().to_frame('n_breast_diff').reset_index())\n",
    "\n",
    "# Merge and adjust the filtering (meth needs to be low in breast tissue types and all 5 blood cell types, but not necessarily compared to all other cell types )\n",
    "candidates_v_many_loose1 = (select_nonblood.merge(blood_differential, on=['ct1', 'region_id'], how='left')\n",
    "                     .merge(breast_differential, on=['ct1', 'region_id'], how='left')\n",
    "                     .fillna(0)\n",
    "                     .query(\"n_blood_diff == 5 & n_breast_diff >= 2\"))  \n",
    "\n",
    "# Adjusted filtering condition (meth needs to be low in breast tissue types and all 5 blood cell types, and at least half all other cell types low as well)\n",
    "candidates_v_many_loose2 = (select_nonblood.merge(blood_differential, on=['ct1', 'region_id'], how='left')\n",
    "                     .merge(breast_differential, on=['ct1', 'region_id'], how='left')\n",
    "                     .fillna(0)\n",
    "                     .query(f\"n_blood_diff == 5 & n_breast_diff >= 2 & number_other >= {len(NONBLOOD_CELLTYPES) // 2}\"))\n",
    "\n",
    "# For loosen rule 1\n",
    "candidates_v_many_loose1[['chrom','start','stop']] = (candidates_v_many_loose1['region_id']\n",
    "                                               .str.replace('.*_', '', regex=True)\n",
    "                                               .str.split(pat='[:|-]', expand=True, regex=True))\n",
    "# adjust start by 0 for bedlike format and also make end int\n",
    "candidates_v_many_loose1['start'] = candidates_v_many_loose1['start'].astype(int) - 1 \n",
    "candidates_v_many_loose1['stop'] = candidates_v_many_loose1['stop'].astype(int)\n",
    "\n",
    "# For loosen rule 2\n",
    "candidates_v_many_loose2[['chrom','start','stop']] = (candidates_v_many_loose2['region_id']\n",
    "                                               .str.replace('.*_', '', regex=True)\n",
    "                                               .str.split(pat='[:|-]', expand=True, regex=True))\n",
    "# adjust start by 0 for bedlike format and also make end int\n",
    "candidates_v_many_loose2['start'] = candidates_v_many_loose2['start'].astype(int) - 1 \n",
    "candidates_v_many_loose2['stop'] = candidates_v_many_loose2['stop'].astype(int)\n"
   ]
  },
  {
   "cell_type": "code",
   "execution_count": 51,
   "id": "166021dc",
   "metadata": {},
   "outputs": [
    {
     "name": "stdout",
     "output_type": "stream",
     "text": [
      "(50344, 12)\n",
      "(45939, 12)\n"
     ]
    }
   ],
   "source": [
    "print (candidates_v_many_loose1.shape)\n",
    "print (candidates_v_many_loose2.shape)"
   ]
  },
  {
   "cell_type": "markdown",
   "id": "4b982bd4",
   "metadata": {},
   "source": [
    "Add a column for exceptions based on what's in the celltypes other column"
   ]
  },
  {
   "cell_type": "code",
   "execution_count": 52,
   "id": "c4b7859f",
   "metadata": {},
   "outputs": [],
   "source": [
    "def identify_exceptions(celltypes_other, target_celltype):\n",
    "    celltypes_other_list = celltypes_other.split(',')\n",
    "    exception_list = [x for x in NONBLOOD_CELLTYPES if x not in celltypes_other_list+[target_celltype]]\n",
    "    return ','.join(sorted(exception_list))\n",
    "\n",
    "candidates_v_many['exceptions'] = candidates_v_many.apply(lambda row: identify_exceptions(row['celltypes_other'], row['ct1']), axis=1)\n",
    "candidates_v_many.drop(columns='celltypes_other', inplace=True)"
   ]
  },
  {
   "cell_type": "code",
   "execution_count": 53,
   "id": "cf0db98b",
   "metadata": {},
   "outputs": [
    {
     "name": "stdout",
     "output_type": "stream",
     "text": [
      "(50344, 12)\n",
      "(45939, 12)\n"
     ]
    }
   ],
   "source": [
    "# For loosen rule 1\n",
    "candidates_v_many_loose1['exceptions'] = candidates_v_many_loose1.apply(lambda row: identify_exceptions(row['celltypes_other'], row['ct1']), axis=1)\n",
    "candidates_v_many_loose1.drop(columns='celltypes_other', inplace=True)\n",
    "print(candidates_v_many_loose1.shape)\n",
    "\n",
    "# For loosen rule 2\n",
    "candidates_v_many_loose2['exceptions'] = candidates_v_many_loose2.apply(lambda row: identify_exceptions(row['celltypes_other'], row['ct1']), axis=1)\n",
    "candidates_v_many_loose2.drop(columns='celltypes_other', inplace=True)\n",
    "print(candidates_v_many_loose2.shape)\n"
   ]
  },
  {
   "cell_type": "markdown",
   "id": "695829c0",
   "metadata": {},
   "source": [
    "Merge clusters into regions (separately for each cell type and number of \"other\")"
   ]
  },
  {
   "cell_type": "code",
   "execution_count": null,
   "id": "a0be5252",
   "metadata": {},
   "outputs": [],
   "source": [
    "pybedtools.set_tempdir(f\"../pybedtools_tmp\")"
   ]
  },
  {
   "cell_type": "code",
   "execution_count": 110,
   "id": "4c14c1d7",
   "metadata": {},
   "outputs": [],
   "source": [
    "# this is a trick to get the merge separately for each cell type and exceptions: add them to the chromosome name\n",
    "candidates_v_many['composite_chrom'] = candidates_v_many['chrom'] + '__' + candidates_v_many['ct1'] + '__' + candidates_v_many['number_other'].astype(str) + '__' + candidates_v_many['exceptions']"
   ]
  },
  {
   "cell_type": "code",
   "execution_count": 54,
   "id": "7d8a8f85",
   "metadata": {},
   "outputs": [],
   "source": [
    "# this is a trick to get the merge separately for each cell type and exceptions: add them to the chromosome name\n",
    "# For loosen rule 1\n",
    "candidates_v_many_loose1['composite_chrom'] = candidates_v_many_loose1['chrom'] + '__' + candidates_v_many_loose1['ct1'] + '__' + candidates_v_many_loose1['number_other'].astype(str) + '__' + candidates_v_many_loose1['exceptions']\n",
    "\n",
    "# For loosen rule 2\n",
    "candidates_v_many_loose2['composite_chrom'] = candidates_v_many_loose2['chrom'] + '__' + candidates_v_many_loose2['ct1'] + '__' + candidates_v_many_loose2['number_other'].astype(str) + '__' + candidates_v_many_loose2['exceptions']"
   ]
  },
  {
   "cell_type": "code",
   "execution_count": 111,
   "id": "24c22f98",
   "metadata": {},
   "outputs": [],
   "source": [
    "candidates_for_merge = (candidates_v_many[['composite_chrom', 'start', 'stop', 'meth_base_min', 'meth_delta_max', 'n_cpgs']]\n",
    "                        .sort_values(['composite_chrom', 'start']))\n",
    "merged = pybedtools.BedTool.from_dataframe(candidates_for_merge).merge(c=\"4,5,6\", o=\"min,max,min\")\n",
    "candidate_regions_summary_df = merged.to_dataframe()\n",
    "candidate_regions_summary_df.columns = ['composite_chr', 'region_start', 'region_end', 'meth_base_min', 'meth_delta_max', 'min_n_cpgs']\n",
    "candidate_regions_summary_df[['region_chrom', 'ct1', 'number_other', 'exceptions']] = candidate_regions_summary_df['composite_chr'].str.split('__', expand=True)\n",
    "candidate_regions_summary_df['n_non_diff'] = (len(NONBLOOD_CELLTYPES) - 1) - candidate_regions_summary_df['number_other'].astype(int)"
   ]
  },
  {
   "cell_type": "code",
   "execution_count": 55,
   "id": "c6fc3f5a",
   "metadata": {},
   "outputs": [],
   "source": [
    "# For loosen rule 1\n",
    "candidates_for_merge_loose1 = (candidates_v_many_loose1[['composite_chrom', 'start', 'stop', 'meth_base_min', 'meth_delta_max', 'n_cpgs']]\n",
    "                        .sort_values(['composite_chrom', 'start']))\n",
    "merged = pybedtools.BedTool.from_dataframe(candidates_for_merge_loose1).merge(c=\"4,5,6\", o=\"min,max,min\")\n",
    "candidate_regions_summary_loose1_df = merged.to_dataframe()\n",
    "candidate_regions_summary_loose1_df.columns = ['composite_chr', 'region_start', 'region_end', 'meth_base_min', 'meth_delta_max', 'min_n_cpgs']\n",
    "candidate_regions_summary_loose1_df[['region_chrom', 'ct1', 'number_other', 'exceptions']] = candidate_regions_summary_loose1_df['composite_chr'].str.split('__', expand=True)\n",
    "candidate_regions_summary_loose1_df['n_non_diff'] = (len(NONBLOOD_CELLTYPES) - 1) - candidate_regions_summary_loose1_df['number_other'].astype(int)\n",
    "\n",
    "# For loosen rule 2\n",
    "candidates_for_merge_loose2 = (candidates_v_many_loose2[['composite_chrom', 'start', 'stop', 'meth_base_min', 'meth_delta_max', 'n_cpgs']]\n",
    "                        .sort_values(['composite_chrom', 'start']))\n",
    "merged = pybedtools.BedTool.from_dataframe(candidates_for_merge_loose2).merge(c=\"4,5,6\", o=\"min,max,min\")\n",
    "candidate_regions_summary_loose2_df = merged.to_dataframe()\n",
    "candidate_regions_summary_loose2_df.columns = ['composite_chr', 'region_start', 'region_end', 'meth_base_min', 'meth_delta_max', 'min_n_cpgs']\n",
    "candidate_regions_summary_loose2_df[['region_chrom', 'ct1', 'number_other', 'exceptions']] = candidate_regions_summary_loose2_df['composite_chr'].str.split('__', expand=True)\n",
    "candidate_regions_summary_loose2_df['n_non_diff'] = (len(NONBLOOD_CELLTYPES) - 1) - candidate_regions_summary_loose2_df['number_other'].astype(int)"
   ]
  },
  {
   "cell_type": "code",
   "execution_count": 35,
   "id": "25afbad4",
   "metadata": {},
   "outputs": [
    {
     "data": {
      "text/html": [
       "\n",
       "<style>\n",
       "  #altair-viz-d99e3ccd651841a29ec3d9b65ee2f14a.vega-embed {\n",
       "    width: 100%;\n",
       "    display: flex;\n",
       "  }\n",
       "\n",
       "  #altair-viz-d99e3ccd651841a29ec3d9b65ee2f14a.vega-embed details,\n",
       "  #altair-viz-d99e3ccd651841a29ec3d9b65ee2f14a.vega-embed details summary {\n",
       "    position: relative;\n",
       "  }\n",
       "</style>\n",
       "<div id=\"altair-viz-d99e3ccd651841a29ec3d9b65ee2f14a\"></div>\n",
       "<script type=\"text/javascript\">\n",
       "  var VEGA_DEBUG = (typeof VEGA_DEBUG == \"undefined\") ? {} : VEGA_DEBUG;\n",
       "  (function(spec, embedOpt){\n",
       "    let outputDiv = document.currentScript.previousElementSibling;\n",
       "    if (outputDiv.id !== \"altair-viz-d99e3ccd651841a29ec3d9b65ee2f14a\") {\n",
       "      outputDiv = document.getElementById(\"altair-viz-d99e3ccd651841a29ec3d9b65ee2f14a\");\n",
       "    }\n",
       "    const paths = {\n",
       "      \"vega\": \"https://cdn.jsdelivr.net/npm/vega@5?noext\",\n",
       "      \"vega-lib\": \"https://cdn.jsdelivr.net/npm/vega-lib?noext\",\n",
       "      \"vega-lite\": \"https://cdn.jsdelivr.net/npm/vega-lite@5.8.0?noext\",\n",
       "      \"vega-embed\": \"https://cdn.jsdelivr.net/npm/vega-embed@6?noext\",\n",
       "    };\n",
       "\n",
       "    function maybeLoadScript(lib, version) {\n",
       "      var key = `${lib.replace(\"-\", \"\")}_version`;\n",
       "      return (VEGA_DEBUG[key] == version) ?\n",
       "        Promise.resolve(paths[lib]) :\n",
       "        new Promise(function(resolve, reject) {\n",
       "          var s = document.createElement('script');\n",
       "          document.getElementsByTagName(\"head\")[0].appendChild(s);\n",
       "          s.async = true;\n",
       "          s.onload = () => {\n",
       "            VEGA_DEBUG[key] = version;\n",
       "            return resolve(paths[lib]);\n",
       "          };\n",
       "          s.onerror = () => reject(`Error loading script: ${paths[lib]}`);\n",
       "          s.src = paths[lib];\n",
       "        });\n",
       "    }\n",
       "\n",
       "    function showError(err) {\n",
       "      outputDiv.innerHTML = `<div class=\"error\" style=\"color:red;\">${err}</div>`;\n",
       "      throw err;\n",
       "    }\n",
       "\n",
       "    function displayChart(vegaEmbed) {\n",
       "      vegaEmbed(outputDiv, spec, embedOpt)\n",
       "        .catch(err => showError(`Javascript Error: ${err.message}<br>This usually means there's a typo in your chart specification. See the javascript console for the full traceback.`));\n",
       "    }\n",
       "\n",
       "    if(typeof define === \"function\" && define.amd) {\n",
       "      requirejs.config({paths});\n",
       "      require([\"vega-embed\"], displayChart, err => showError(`Error loading script: ${err.message}`));\n",
       "    } else {\n",
       "      maybeLoadScript(\"vega\", \"5\")\n",
       "        .then(() => maybeLoadScript(\"vega-lite\", \"5.8.0\"))\n",
       "        .then(() => maybeLoadScript(\"vega-embed\", \"6\"))\n",
       "        .catch(showError)\n",
       "        .then(() => displayChart(vegaEmbed));\n",
       "    }\n",
       "  })({\"config\": {\"legend\": {\"titleFontSize\": 12, \"labelFontSize\": 12, \"labelLimit\": 0}, \"axis\": {\"titleFontSize\": 12, \"labelFontSize\": 12}, \"header\": {\"titleFontSize\": 14, \"labelFontSize\": 14}, \"title\": {\"titleFontSize\": 30, \"labelFontSize\": 30}}, \"data\": {\"name\": \"data-8960f9dd112e6e42f5123fc7d5564ad4\"}, \"mark\": {\"type\": \"bar\"}, \"encoding\": {\"color\": {\"field\": \"n_non_diff\", \"title\": \"Num cell types not diff meth\", \"type\": \"nominal\"}, \"order\": {\"field\": \"n_non_diff\", \"sort\": \"ascending\", \"type\": \"nominal\"}, \"x\": {\"field\": \"ct1\", \"title\": \"Target cell type\", \"type\": \"nominal\"}, \"y\": {\"field\": \"num_candidates\", \"title\": \"Number of regions\", \"type\": \"quantitative\"}}, \"height\": 300, \"width\": 400, \"$schema\": \"https://vega.github.io/schema/vega-lite/v5.8.0.json\", \"datasets\": {\"data-8960f9dd112e6e42f5123fc7d5564ad4\": [{\"ct1\": \"Adipocytes\", \"n_non_diff\": 0, \"num_candidates\": 1}, {\"ct1\": \"Adipocytes\", \"n_non_diff\": 1, \"num_candidates\": 4}, {\"ct1\": \"Adipocytes\", \"n_non_diff\": 2, \"num_candidates\": 12}, {\"ct1\": \"Adipocytes\", \"n_non_diff\": 3, \"num_candidates\": 14}, {\"ct1\": \"Adipocytes\", \"n_non_diff\": 4, \"num_candidates\": 15}, {\"ct1\": \"Bladder_Ep\", \"n_non_diff\": 0, \"num_candidates\": 43}, {\"ct1\": \"Bladder_Ep\", \"n_non_diff\": 1, \"num_candidates\": 105}, {\"ct1\": \"Bladder_Ep\", \"n_non_diff\": 2, \"num_candidates\": 127}, {\"ct1\": \"Bladder_Ep\", \"n_non_diff\": 3, \"num_candidates\": 126}, {\"ct1\": \"Bladder_Ep\", \"n_non_diff\": 4, \"num_candidates\": 121}, {\"ct1\": \"Breast_Basal_Ep\", \"n_non_diff\": 0, \"num_candidates\": 40}, {\"ct1\": \"Breast_Basal_Ep\", \"n_non_diff\": 1, \"num_candidates\": 254}, {\"ct1\": \"Breast_Basal_Ep\", \"n_non_diff\": 2, \"num_candidates\": 287}, {\"ct1\": \"Breast_Basal_Ep\", \"n_non_diff\": 3, \"num_candidates\": 317}, {\"ct1\": \"Breast_Basal_Ep\", \"n_non_diff\": 4, \"num_candidates\": 311}, {\"ct1\": \"Breast_Luminal_Ep\", \"n_non_diff\": 0, \"num_candidates\": 2}, {\"ct1\": \"Breast_Luminal_Ep\", \"n_non_diff\": 1, \"num_candidates\": 82}, {\"ct1\": \"Breast_Luminal_Ep\", \"n_non_diff\": 2, \"num_candidates\": 139}, {\"ct1\": \"Breast_Luminal_Ep\", \"n_non_diff\": 3, \"num_candidates\": 173}, {\"ct1\": \"Breast_Luminal_Ep\", \"n_non_diff\": 4, \"num_candidates\": 213}, {\"ct1\": \"Colon_Ep\", \"n_non_diff\": 0, \"num_candidates\": 78}, {\"ct1\": \"Colon_Ep\", \"n_non_diff\": 1, \"num_candidates\": 535}, {\"ct1\": \"Colon_Ep\", \"n_non_diff\": 2, \"num_candidates\": 588}, {\"ct1\": \"Colon_Ep\", \"n_non_diff\": 3, \"num_candidates\": 357}, {\"ct1\": \"Colon_Ep\", \"n_non_diff\": 4, \"num_candidates\": 318}, {\"ct1\": \"Endothelium\", \"n_non_diff\": 1, \"num_candidates\": 16}, {\"ct1\": \"Endothelium\", \"n_non_diff\": 2, \"num_candidates\": 19}, {\"ct1\": \"Endothelium\", \"n_non_diff\": 3, \"num_candidates\": 37}, {\"ct1\": \"Endothelium\", \"n_non_diff\": 4, \"num_candidates\": 27}, {\"ct1\": \"Eryth_prog\", \"n_non_diff\": 2, \"num_candidates\": 1}, {\"ct1\": \"Esophagus_Ep\", \"n_non_diff\": 0, \"num_candidates\": 17}, {\"ct1\": \"Esophagus_Ep\", \"n_non_diff\": 1, \"num_candidates\": 54}, {\"ct1\": \"Esophagus_Ep\", \"n_non_diff\": 2, \"num_candidates\": 94}, {\"ct1\": \"Esophagus_Ep\", \"n_non_diff\": 3, \"num_candidates\": 132}, {\"ct1\": \"Esophagus_Ep\", \"n_non_diff\": 4, \"num_candidates\": 171}, {\"ct1\": \"Fibro_Musc\", \"n_non_diff\": 0, \"num_candidates\": 3}, {\"ct1\": \"Fibro_Musc\", \"n_non_diff\": 1, \"num_candidates\": 10}, {\"ct1\": \"Fibro_Musc\", \"n_non_diff\": 2, \"num_candidates\": 21}, {\"ct1\": \"Fibro_Musc\", \"n_non_diff\": 3, \"num_candidates\": 24}, {\"ct1\": \"Fibro_Musc\", \"n_non_diff\": 4, \"num_candidates\": 27}, {\"ct1\": \"Gastric_Ep\", \"n_non_diff\": 0, \"num_candidates\": 5}, {\"ct1\": \"Gastric_Ep\", \"n_non_diff\": 1, \"num_candidates\": 17}, {\"ct1\": \"Gastric_Ep\", \"n_non_diff\": 2, \"num_candidates\": 17}, {\"ct1\": \"Gastric_Ep\", \"n_non_diff\": 3, \"num_candidates\": 24}, {\"ct1\": \"Gastric_Ep\", \"n_non_diff\": 4, \"num_candidates\": 29}, {\"ct1\": \"Head_Neck_Ep\", \"n_non_diff\": 0, \"num_candidates\": 8}, {\"ct1\": \"Head_Neck_Ep\", \"n_non_diff\": 1, \"num_candidates\": 10}, {\"ct1\": \"Head_Neck_Ep\", \"n_non_diff\": 2, \"num_candidates\": 16}, {\"ct1\": \"Head_Neck_Ep\", \"n_non_diff\": 3, \"num_candidates\": 28}, {\"ct1\": \"Head_Neck_Ep\", \"n_non_diff\": 4, \"num_candidates\": 54}, {\"ct1\": \"Heart_Cardio\", \"n_non_diff\": 0, \"num_candidates\": 37}, {\"ct1\": \"Heart_Cardio\", \"n_non_diff\": 1, \"num_candidates\": 57}, {\"ct1\": \"Heart_Cardio\", \"n_non_diff\": 2, \"num_candidates\": 44}, {\"ct1\": \"Heart_Cardio\", \"n_non_diff\": 3, \"num_candidates\": 67}, {\"ct1\": \"Heart_Cardio\", \"n_non_diff\": 4, \"num_candidates\": 75}, {\"ct1\": \"Kidney_Ep\", \"n_non_diff\": 0, \"num_candidates\": 7}, {\"ct1\": \"Kidney_Ep\", \"n_non_diff\": 1, \"num_candidates\": 22}, {\"ct1\": \"Kidney_Ep\", \"n_non_diff\": 2, \"num_candidates\": 12}, {\"ct1\": \"Kidney_Ep\", \"n_non_diff\": 3, \"num_candidates\": 13}, {\"ct1\": \"Kidney_Ep\", \"n_non_diff\": 4, \"num_candidates\": 26}, {\"ct1\": \"Liver_Hep\", \"n_non_diff\": 0, \"num_candidates\": 180}, {\"ct1\": \"Liver_Hep\", \"n_non_diff\": 1, \"num_candidates\": 206}, {\"ct1\": \"Liver_Hep\", \"n_non_diff\": 2, \"num_candidates\": 166}, {\"ct1\": \"Liver_Hep\", \"n_non_diff\": 3, \"num_candidates\": 141}, {\"ct1\": \"Liver_Hep\", \"n_non_diff\": 4, \"num_candidates\": 143}, {\"ct1\": \"Lung_Ep_Alveo\", \"n_non_diff\": 0, \"num_candidates\": 6}, {\"ct1\": \"Lung_Ep_Alveo\", \"n_non_diff\": 1, \"num_candidates\": 10}, {\"ct1\": \"Lung_Ep_Alveo\", \"n_non_diff\": 2, \"num_candidates\": 13}, {\"ct1\": \"Lung_Ep_Alveo\", \"n_non_diff\": 3, \"num_candidates\": 22}, {\"ct1\": \"Lung_Ep_Alveo\", \"n_non_diff\": 4, \"num_candidates\": 30}, {\"ct1\": \"Lung_Ep_Bron\", \"n_non_diff\": 0, \"num_candidates\": 10}, {\"ct1\": \"Lung_Ep_Bron\", \"n_non_diff\": 1, \"num_candidates\": 33}, {\"ct1\": \"Lung_Ep_Bron\", \"n_non_diff\": 2, \"num_candidates\": 42}, {\"ct1\": \"Lung_Ep_Bron\", \"n_non_diff\": 3, \"num_candidates\": 49}, {\"ct1\": \"Lung_Ep_Bron\", \"n_non_diff\": 4, \"num_candidates\": 50}, {\"ct1\": \"Neuron_plus_Oligodend\", \"n_non_diff\": 0, \"num_candidates\": 90}, {\"ct1\": \"Neuron_plus_Oligodend\", \"n_non_diff\": 1, \"num_candidates\": 112}, {\"ct1\": \"Neuron_plus_Oligodend\", \"n_non_diff\": 2, \"num_candidates\": 110}, {\"ct1\": \"Neuron_plus_Oligodend\", \"n_non_diff\": 3, \"num_candidates\": 111}, {\"ct1\": \"Neuron_plus_Oligodend\", \"n_non_diff\": 4, \"num_candidates\": 129}, {\"ct1\": \"Ovary_Ep\", \"n_non_diff\": 0, \"num_candidates\": 15}, {\"ct1\": \"Ovary_Ep\", \"n_non_diff\": 1, \"num_candidates\": 28}, {\"ct1\": \"Ovary_Ep\", \"n_non_diff\": 2, \"num_candidates\": 29}, {\"ct1\": \"Ovary_Ep\", \"n_non_diff\": 3, \"num_candidates\": 42}, {\"ct1\": \"Ovary_Ep\", \"n_non_diff\": 4, \"num_candidates\": 55}, {\"ct1\": \"Pancreas\", \"n_non_diff\": 0, \"num_candidates\": 78}, {\"ct1\": \"Pancreas\", \"n_non_diff\": 1, \"num_candidates\": 103}, {\"ct1\": \"Pancreas\", \"n_non_diff\": 2, \"num_candidates\": 107}, {\"ct1\": \"Pancreas\", \"n_non_diff\": 3, \"num_candidates\": 125}, {\"ct1\": \"Pancreas\", \"n_non_diff\": 4, \"num_candidates\": 122}, {\"ct1\": \"Pancreas_Acinar\", \"n_non_diff\": 0, \"num_candidates\": 89}, {\"ct1\": \"Pancreas_Acinar\", \"n_non_diff\": 1, \"num_candidates\": 141}, {\"ct1\": \"Pancreas_Acinar\", \"n_non_diff\": 2, \"num_candidates\": 160}, {\"ct1\": \"Pancreas_Acinar\", \"n_non_diff\": 3, \"num_candidates\": 160}, {\"ct1\": \"Pancreas_Acinar\", \"n_non_diff\": 4, \"num_candidates\": 166}, {\"ct1\": \"Pancreas_Duct\", \"n_non_diff\": 0, \"num_candidates\": 15}, {\"ct1\": \"Pancreas_Duct\", \"n_non_diff\": 1, \"num_candidates\": 36}, {\"ct1\": \"Pancreas_Duct\", \"n_non_diff\": 2, \"num_candidates\": 57}, {\"ct1\": \"Pancreas_Duct\", \"n_non_diff\": 3, \"num_candidates\": 73}, {\"ct1\": \"Pancreas_Duct\", \"n_non_diff\": 4, \"num_candidates\": 89}, {\"ct1\": \"Prostate_Ep\", \"n_non_diff\": 0, \"num_candidates\": 8}, {\"ct1\": \"Prostate_Ep\", \"n_non_diff\": 1, \"num_candidates\": 45}, {\"ct1\": \"Prostate_Ep\", \"n_non_diff\": 2, \"num_candidates\": 65}, {\"ct1\": \"Prostate_Ep\", \"n_non_diff\": 3, \"num_candidates\": 69}, {\"ct1\": \"Prostate_Ep\", \"n_non_diff\": 4, \"num_candidates\": 118}, {\"ct1\": \"Small_Int_Ep\", \"n_non_diff\": 0, \"num_candidates\": 37}, {\"ct1\": \"Small_Int_Ep\", \"n_non_diff\": 1, \"num_candidates\": 474}, {\"ct1\": \"Small_Int_Ep\", \"n_non_diff\": 2, \"num_candidates\": 585}, {\"ct1\": \"Small_Int_Ep\", \"n_non_diff\": 3, \"num_candidates\": 322}, {\"ct1\": \"Small_Int_Ep\", \"n_non_diff\": 4, \"num_candidates\": 268}, {\"ct1\": \"Thyroid_Ep\", \"n_non_diff\": 0, \"num_candidates\": 13}, {\"ct1\": \"Thyroid_Ep\", \"n_non_diff\": 1, \"num_candidates\": 25}, {\"ct1\": \"Thyroid_Ep\", \"n_non_diff\": 2, \"num_candidates\": 35}, {\"ct1\": \"Thyroid_Ep\", \"n_non_diff\": 3, \"num_candidates\": 40}, {\"ct1\": \"Thyroid_Ep\", \"n_non_diff\": 4, \"num_candidates\": 51}]}}, {\"mode\": \"vega-lite\"});\n",
       "</script>"
      ],
      "text/plain": [
       "alt.Chart(...)"
      ]
     },
     "execution_count": 35,
     "metadata": {},
     "output_type": "execute_result"
    }
   ],
   "source": [
    "candidate_plot_df = candidate_regions_summary_df.groupby(['ct1', 'n_non_diff']).size().to_frame('num_candidates').reset_index()\n",
    "alt.Chart(candidate_plot_df).mark_bar().encode(\n",
    "    x=alt.X('ct1', title='Target cell type'),\n",
    "    y=alt.Y('num_candidates', title='Number of regions'),\n",
    "    order=alt.Order('n_non_diff:N', sort='ascending'),\n",
    "    color=alt.Color('n_non_diff:N', title='Num cell types not diff meth')\n",
    ").properties(\n",
    "    height=300, width=400\n",
    ")"
   ]
  },
  {
   "cell_type": "code",
   "execution_count": 105,
   "id": "b433a7dd",
   "metadata": {},
   "outputs": [
    {
     "data": {
      "text/html": [
       "\n",
       "<style>\n",
       "  #altair-viz-c6d4e53651424193b1a606f822c93aa4.vega-embed {\n",
       "    width: 100%;\n",
       "    display: flex;\n",
       "  }\n",
       "\n",
       "  #altair-viz-c6d4e53651424193b1a606f822c93aa4.vega-embed details,\n",
       "  #altair-viz-c6d4e53651424193b1a606f822c93aa4.vega-embed details summary {\n",
       "    position: relative;\n",
       "  }\n",
       "</style>\n",
       "<div id=\"altair-viz-c6d4e53651424193b1a606f822c93aa4\"></div>\n",
       "<script type=\"text/javascript\">\n",
       "  var VEGA_DEBUG = (typeof VEGA_DEBUG == \"undefined\") ? {} : VEGA_DEBUG;\n",
       "  (function(spec, embedOpt){\n",
       "    let outputDiv = document.currentScript.previousElementSibling;\n",
       "    if (outputDiv.id !== \"altair-viz-c6d4e53651424193b1a606f822c93aa4\") {\n",
       "      outputDiv = document.getElementById(\"altair-viz-c6d4e53651424193b1a606f822c93aa4\");\n",
       "    }\n",
       "    const paths = {\n",
       "      \"vega\": \"https://cdn.jsdelivr.net/npm/vega@5?noext\",\n",
       "      \"vega-lib\": \"https://cdn.jsdelivr.net/npm/vega-lib?noext\",\n",
       "      \"vega-lite\": \"https://cdn.jsdelivr.net/npm/vega-lite@5.8.0?noext\",\n",
       "      \"vega-embed\": \"https://cdn.jsdelivr.net/npm/vega-embed@6?noext\",\n",
       "    };\n",
       "\n",
       "    function maybeLoadScript(lib, version) {\n",
       "      var key = `${lib.replace(\"-\", \"\")}_version`;\n",
       "      return (VEGA_DEBUG[key] == version) ?\n",
       "        Promise.resolve(paths[lib]) :\n",
       "        new Promise(function(resolve, reject) {\n",
       "          var s = document.createElement('script');\n",
       "          document.getElementsByTagName(\"head\")[0].appendChild(s);\n",
       "          s.async = true;\n",
       "          s.onload = () => {\n",
       "            VEGA_DEBUG[key] = version;\n",
       "            return resolve(paths[lib]);\n",
       "          };\n",
       "          s.onerror = () => reject(`Error loading script: ${paths[lib]}`);\n",
       "          s.src = paths[lib];\n",
       "        });\n",
       "    }\n",
       "\n",
       "    function showError(err) {\n",
       "      outputDiv.innerHTML = `<div class=\"error\" style=\"color:red;\">${err}</div>`;\n",
       "      throw err;\n",
       "    }\n",
       "\n",
       "    function displayChart(vegaEmbed) {\n",
       "      vegaEmbed(outputDiv, spec, embedOpt)\n",
       "        .catch(err => showError(`Javascript Error: ${err.message}<br>This usually means there's a typo in your chart specification. See the javascript console for the full traceback.`));\n",
       "    }\n",
       "\n",
       "    if(typeof define === \"function\" && define.amd) {\n",
       "      requirejs.config({paths});\n",
       "      require([\"vega-embed\"], displayChart, err => showError(`Error loading script: ${err.message}`));\n",
       "    } else {\n",
       "      maybeLoadScript(\"vega\", \"5\")\n",
       "        .then(() => maybeLoadScript(\"vega-lite\", \"5.8.0\"))\n",
       "        .then(() => maybeLoadScript(\"vega-embed\", \"6\"))\n",
       "        .catch(showError)\n",
       "        .then(() => displayChart(vegaEmbed));\n",
       "    }\n",
       "  })({\"config\": {\"legend\": {\"titleFontSize\": 12, \"labelFontSize\": 12, \"labelLimit\": 0}, \"axis\": {\"titleFontSize\": 12, \"labelFontSize\": 12}, \"header\": {\"titleFontSize\": 14, \"labelFontSize\": 14}, \"title\": {\"titleFontSize\": 30, \"labelFontSize\": 30}}, \"data\": {\"name\": \"data-47ca3690bc7bd1946b72e11f7b04f741\"}, \"mark\": {\"type\": \"bar\"}, \"encoding\": {\"color\": {\"field\": \"n_non_diff\", \"title\": \"Num cell types not diff meth\", \"type\": \"nominal\"}, \"order\": {\"field\": \"n_non_diff\", \"sort\": \"ascending\", \"type\": \"nominal\"}, \"x\": {\"field\": \"ct1\", \"title\": \"Target cell type\", \"type\": \"nominal\"}, \"y\": {\"field\": \"num_candidates\", \"title\": \"Number of regions\", \"type\": \"quantitative\"}}, \"height\": 300, \"width\": 400, \"$schema\": \"https://vega.github.io/schema/vega-lite/v5.8.0.json\", \"datasets\": {\"data-47ca3690bc7bd1946b72e11f7b04f741\": [{\"ct1\": \"Adipocytes\", \"n_non_diff\": 0, \"num_candidates\": 1}, {\"ct1\": \"Adipocytes\", \"n_non_diff\": 1, \"num_candidates\": 4}, {\"ct1\": \"Adipocytes\", \"n_non_diff\": 2, \"num_candidates\": 12}, {\"ct1\": \"Adipocytes\", \"n_non_diff\": 3, \"num_candidates\": 13}, {\"ct1\": \"Adipocytes\", \"n_non_diff\": 4, \"num_candidates\": 12}, {\"ct1\": \"Adipocytes\", \"n_non_diff\": 5, \"num_candidates\": 14}, {\"ct1\": \"Adipocytes\", \"n_non_diff\": 6, \"num_candidates\": 17}, {\"ct1\": \"Adipocytes\", \"n_non_diff\": 7, \"num_candidates\": 6}, {\"ct1\": \"Adipocytes\", \"n_non_diff\": 8, \"num_candidates\": 5}, {\"ct1\": \"Adipocytes\", \"n_non_diff\": 9, \"num_candidates\": 2}, {\"ct1\": \"Adipocytes\", \"n_non_diff\": 10, \"num_candidates\": 8}, {\"ct1\": \"Adipocytes\", \"n_non_diff\": 11, \"num_candidates\": 5}, {\"ct1\": \"Adipocytes\", \"n_non_diff\": 12, \"num_candidates\": 4}, {\"ct1\": \"Adipocytes\", \"n_non_diff\": 13, \"num_candidates\": 5}, {\"ct1\": \"Adipocytes\", \"n_non_diff\": 14, \"num_candidates\": 7}, {\"ct1\": \"Adipocytes\", \"n_non_diff\": 15, \"num_candidates\": 1}, {\"ct1\": \"Adipocytes\", \"n_non_diff\": 16, \"num_candidates\": 4}, {\"ct1\": \"Adipocytes\", \"n_non_diff\": 17, \"num_candidates\": 2}, {\"ct1\": \"Adipocytes\", \"n_non_diff\": 18, \"num_candidates\": 2}, {\"ct1\": \"Adipocytes\", \"n_non_diff\": 19, \"num_candidates\": 6}, {\"ct1\": \"Adipocytes\", \"n_non_diff\": 20, \"num_candidates\": 1}, {\"ct1\": \"Bladder_Ep\", \"n_non_diff\": 0, \"num_candidates\": 43}, {\"ct1\": \"Bladder_Ep\", \"n_non_diff\": 1, \"num_candidates\": 99}, {\"ct1\": \"Bladder_Ep\", \"n_non_diff\": 2, \"num_candidates\": 111}, {\"ct1\": \"Bladder_Ep\", \"n_non_diff\": 3, \"num_candidates\": 83}, {\"ct1\": \"Bladder_Ep\", \"n_non_diff\": 4, \"num_candidates\": 73}, {\"ct1\": \"Bladder_Ep\", \"n_non_diff\": 5, \"num_candidates\": 69}, {\"ct1\": \"Bladder_Ep\", \"n_non_diff\": 6, \"num_candidates\": 62}, {\"ct1\": \"Bladder_Ep\", \"n_non_diff\": 7, \"num_candidates\": 47}, {\"ct1\": \"Bladder_Ep\", \"n_non_diff\": 8, \"num_candidates\": 31}, {\"ct1\": \"Bladder_Ep\", \"n_non_diff\": 9, \"num_candidates\": 32}, {\"ct1\": \"Bladder_Ep\", \"n_non_diff\": 10, \"num_candidates\": 31}, {\"ct1\": \"Bladder_Ep\", \"n_non_diff\": 11, \"num_candidates\": 28}, {\"ct1\": \"Bladder_Ep\", \"n_non_diff\": 12, \"num_candidates\": 21}, {\"ct1\": \"Bladder_Ep\", \"n_non_diff\": 13, \"num_candidates\": 20}, {\"ct1\": \"Bladder_Ep\", \"n_non_diff\": 14, \"num_candidates\": 12}, {\"ct1\": \"Bladder_Ep\", \"n_non_diff\": 15, \"num_candidates\": 12}, {\"ct1\": \"Bladder_Ep\", \"n_non_diff\": 16, \"num_candidates\": 18}, {\"ct1\": \"Bladder_Ep\", \"n_non_diff\": 17, \"num_candidates\": 14}, {\"ct1\": \"Bladder_Ep\", \"n_non_diff\": 18, \"num_candidates\": 8}, {\"ct1\": \"Bladder_Ep\", \"n_non_diff\": 19, \"num_candidates\": 10}, {\"ct1\": \"Bladder_Ep\", \"n_non_diff\": 20, \"num_candidates\": 3}, {\"ct1\": \"Colon_Ep\", \"n_non_diff\": 0, \"num_candidates\": 78}, {\"ct1\": \"Colon_Ep\", \"n_non_diff\": 1, \"num_candidates\": 528}, {\"ct1\": \"Colon_Ep\", \"n_non_diff\": 2, \"num_candidates\": 556}, {\"ct1\": \"Colon_Ep\", \"n_non_diff\": 3, \"num_candidates\": 275}, {\"ct1\": \"Colon_Ep\", \"n_non_diff\": 4, \"num_candidates\": 181}, {\"ct1\": \"Colon_Ep\", \"n_non_diff\": 5, \"num_candidates\": 151}, {\"ct1\": \"Colon_Ep\", \"n_non_diff\": 6, \"num_candidates\": 113}, {\"ct1\": \"Colon_Ep\", \"n_non_diff\": 7, \"num_candidates\": 78}, {\"ct1\": \"Colon_Ep\", \"n_non_diff\": 8, \"num_candidates\": 58}, {\"ct1\": \"Colon_Ep\", \"n_non_diff\": 9, \"num_candidates\": 55}, {\"ct1\": \"Colon_Ep\", \"n_non_diff\": 10, \"num_candidates\": 50}, {\"ct1\": \"Colon_Ep\", \"n_non_diff\": 11, \"num_candidates\": 53}, {\"ct1\": \"Colon_Ep\", \"n_non_diff\": 12, \"num_candidates\": 40}, {\"ct1\": \"Colon_Ep\", \"n_non_diff\": 13, \"num_candidates\": 29}, {\"ct1\": \"Colon_Ep\", \"n_non_diff\": 14, \"num_candidates\": 19}, {\"ct1\": \"Colon_Ep\", \"n_non_diff\": 15, \"num_candidates\": 16}, {\"ct1\": \"Colon_Ep\", \"n_non_diff\": 16, \"num_candidates\": 16}, {\"ct1\": \"Colon_Ep\", \"n_non_diff\": 17, \"num_candidates\": 13}, {\"ct1\": \"Colon_Ep\", \"n_non_diff\": 18, \"num_candidates\": 6}, {\"ct1\": \"Colon_Ep\", \"n_non_diff\": 19, \"num_candidates\": 8}, {\"ct1\": \"Colon_Ep\", \"n_non_diff\": 20, \"num_candidates\": 4}, {\"ct1\": \"Endothelium\", \"n_non_diff\": 1, \"num_candidates\": 16}, {\"ct1\": \"Endothelium\", \"n_non_diff\": 2, \"num_candidates\": 18}, {\"ct1\": \"Endothelium\", \"n_non_diff\": 3, \"num_candidates\": 28}, {\"ct1\": \"Endothelium\", \"n_non_diff\": 4, \"num_candidates\": 17}, {\"ct1\": \"Endothelium\", \"n_non_diff\": 5, \"num_candidates\": 21}, {\"ct1\": \"Endothelium\", \"n_non_diff\": 6, \"num_candidates\": 16}, {\"ct1\": \"Endothelium\", \"n_non_diff\": 7, \"num_candidates\": 18}, {\"ct1\": \"Endothelium\", \"n_non_diff\": 8, \"num_candidates\": 17}, {\"ct1\": \"Endothelium\", \"n_non_diff\": 9, \"num_candidates\": 10}, {\"ct1\": \"Endothelium\", \"n_non_diff\": 10, \"num_candidates\": 15}, {\"ct1\": \"Endothelium\", \"n_non_diff\": 11, \"num_candidates\": 18}, {\"ct1\": \"Endothelium\", \"n_non_diff\": 12, \"num_candidates\": 13}, {\"ct1\": \"Endothelium\", \"n_non_diff\": 13, \"num_candidates\": 12}, {\"ct1\": \"Endothelium\", \"n_non_diff\": 14, \"num_candidates\": 5}, {\"ct1\": \"Endothelium\", \"n_non_diff\": 15, \"num_candidates\": 3}, {\"ct1\": \"Endothelium\", \"n_non_diff\": 16, \"num_candidates\": 11}, {\"ct1\": \"Endothelium\", \"n_non_diff\": 17, \"num_candidates\": 7}, {\"ct1\": \"Endothelium\", \"n_non_diff\": 18, \"num_candidates\": 4}, {\"ct1\": \"Endothelium\", \"n_non_diff\": 19, \"num_candidates\": 9}, {\"ct1\": \"Endothelium\", \"n_non_diff\": 20, \"num_candidates\": 4}, {\"ct1\": \"Eryth_prog\", \"n_non_diff\": 2, \"num_candidates\": 1}, {\"ct1\": \"Esophagus_Ep\", \"n_non_diff\": 0, \"num_candidates\": 17}, {\"ct1\": \"Esophagus_Ep\", \"n_non_diff\": 1, \"num_candidates\": 52}, {\"ct1\": \"Esophagus_Ep\", \"n_non_diff\": 2, \"num_candidates\": 78}, {\"ct1\": \"Esophagus_Ep\", \"n_non_diff\": 3, \"num_candidates\": 88}, {\"ct1\": \"Esophagus_Ep\", \"n_non_diff\": 4, \"num_candidates\": 75}, {\"ct1\": \"Esophagus_Ep\", \"n_non_diff\": 5, \"num_candidates\": 63}, {\"ct1\": \"Esophagus_Ep\", \"n_non_diff\": 6, \"num_candidates\": 51}, {\"ct1\": \"Esophagus_Ep\", \"n_non_diff\": 7, \"num_candidates\": 46}, {\"ct1\": \"Esophagus_Ep\", \"n_non_diff\": 8, \"num_candidates\": 42}, {\"ct1\": \"Esophagus_Ep\", \"n_non_diff\": 9, \"num_candidates\": 19}, {\"ct1\": \"Esophagus_Ep\", \"n_non_diff\": 10, \"num_candidates\": 22}, {\"ct1\": \"Esophagus_Ep\", \"n_non_diff\": 11, \"num_candidates\": 18}, {\"ct1\": \"Esophagus_Ep\", \"n_non_diff\": 12, \"num_candidates\": 11}, {\"ct1\": \"Esophagus_Ep\", \"n_non_diff\": 13, \"num_candidates\": 10}, {\"ct1\": \"Esophagus_Ep\", \"n_non_diff\": 14, \"num_candidates\": 13}, {\"ct1\": \"Esophagus_Ep\", \"n_non_diff\": 15, \"num_candidates\": 7}, {\"ct1\": \"Esophagus_Ep\", \"n_non_diff\": 16, \"num_candidates\": 9}, {\"ct1\": \"Esophagus_Ep\", \"n_non_diff\": 17, \"num_candidates\": 9}, {\"ct1\": \"Esophagus_Ep\", \"n_non_diff\": 18, \"num_candidates\": 9}, {\"ct1\": \"Esophagus_Ep\", \"n_non_diff\": 19, \"num_candidates\": 5}, {\"ct1\": \"Esophagus_Ep\", \"n_non_diff\": 20, \"num_candidates\": 3}, {\"ct1\": \"Fibro_Musc\", \"n_non_diff\": 0, \"num_candidates\": 3}, {\"ct1\": \"Fibro_Musc\", \"n_non_diff\": 1, \"num_candidates\": 10}, {\"ct1\": \"Fibro_Musc\", \"n_non_diff\": 2, \"num_candidates\": 19}, {\"ct1\": \"Fibro_Musc\", \"n_non_diff\": 3, \"num_candidates\": 18}, {\"ct1\": \"Fibro_Musc\", \"n_non_diff\": 4, \"num_candidates\": 16}, {\"ct1\": \"Fibro_Musc\", \"n_non_diff\": 5, \"num_candidates\": 14}, {\"ct1\": \"Fibro_Musc\", \"n_non_diff\": 6, \"num_candidates\": 11}, {\"ct1\": \"Fibro_Musc\", \"n_non_diff\": 7, \"num_candidates\": 8}, {\"ct1\": \"Fibro_Musc\", \"n_non_diff\": 8, \"num_candidates\": 8}, {\"ct1\": \"Fibro_Musc\", \"n_non_diff\": 9, \"num_candidates\": 10}, {\"ct1\": \"Fibro_Musc\", \"n_non_diff\": 10, \"num_candidates\": 14}, {\"ct1\": \"Fibro_Musc\", \"n_non_diff\": 11, \"num_candidates\": 17}, {\"ct1\": \"Fibro_Musc\", \"n_non_diff\": 12, \"num_candidates\": 11}, {\"ct1\": \"Fibro_Musc\", \"n_non_diff\": 13, \"num_candidates\": 10}, {\"ct1\": \"Fibro_Musc\", \"n_non_diff\": 14, \"num_candidates\": 7}, {\"ct1\": \"Fibro_Musc\", \"n_non_diff\": 15, \"num_candidates\": 8}, {\"ct1\": \"Fibro_Musc\", \"n_non_diff\": 16, \"num_candidates\": 7}, {\"ct1\": \"Fibro_Musc\", \"n_non_diff\": 17, \"num_candidates\": 3}, {\"ct1\": \"Fibro_Musc\", \"n_non_diff\": 18, \"num_candidates\": 4}, {\"ct1\": \"Fibro_Musc\", \"n_non_diff\": 19, \"num_candidates\": 10}, {\"ct1\": \"Fibro_Musc\", \"n_non_diff\": 20, \"num_candidates\": 4}, {\"ct1\": \"Gastric_Ep\", \"n_non_diff\": 0, \"num_candidates\": 5}, {\"ct1\": \"Gastric_Ep\", \"n_non_diff\": 1, \"num_candidates\": 14}, {\"ct1\": \"Gastric_Ep\", \"n_non_diff\": 2, \"num_candidates\": 14}, {\"ct1\": \"Gastric_Ep\", \"n_non_diff\": 3, \"num_candidates\": 19}, {\"ct1\": \"Gastric_Ep\", \"n_non_diff\": 4, \"num_candidates\": 19}, {\"ct1\": \"Gastric_Ep\", \"n_non_diff\": 5, \"num_candidates\": 24}, {\"ct1\": \"Gastric_Ep\", \"n_non_diff\": 6, \"num_candidates\": 34}, {\"ct1\": \"Gastric_Ep\", \"n_non_diff\": 7, \"num_candidates\": 34}, {\"ct1\": \"Gastric_Ep\", \"n_non_diff\": 8, \"num_candidates\": 25}, {\"ct1\": \"Gastric_Ep\", \"n_non_diff\": 9, \"num_candidates\": 38}, {\"ct1\": \"Gastric_Ep\", \"n_non_diff\": 10, \"num_candidates\": 34}, {\"ct1\": \"Gastric_Ep\", \"n_non_diff\": 11, \"num_candidates\": 43}, {\"ct1\": \"Gastric_Ep\", \"n_non_diff\": 12, \"num_candidates\": 29}, {\"ct1\": \"Gastric_Ep\", \"n_non_diff\": 13, \"num_candidates\": 37}, {\"ct1\": \"Gastric_Ep\", \"n_non_diff\": 14, \"num_candidates\": 21}, {\"ct1\": \"Gastric_Ep\", \"n_non_diff\": 15, \"num_candidates\": 15}, {\"ct1\": \"Gastric_Ep\", \"n_non_diff\": 16, \"num_candidates\": 20}, {\"ct1\": \"Gastric_Ep\", \"n_non_diff\": 17, \"num_candidates\": 11}, {\"ct1\": \"Gastric_Ep\", \"n_non_diff\": 18, \"num_candidates\": 8}, {\"ct1\": \"Gastric_Ep\", \"n_non_diff\": 19, \"num_candidates\": 8}, {\"ct1\": \"Gastric_Ep\", \"n_non_diff\": 20, \"num_candidates\": 3}, {\"ct1\": \"Head_Neck_Ep\", \"n_non_diff\": 0, \"num_candidates\": 8}, {\"ct1\": \"Head_Neck_Ep\", \"n_non_diff\": 1, \"num_candidates\": 10}, {\"ct1\": \"Head_Neck_Ep\", \"n_non_diff\": 2, \"num_candidates\": 14}, {\"ct1\": \"Head_Neck_Ep\", \"n_non_diff\": 3, \"num_candidates\": 19}, {\"ct1\": \"Head_Neck_Ep\", \"n_non_diff\": 4, \"num_candidates\": 30}, {\"ct1\": \"Head_Neck_Ep\", \"n_non_diff\": 5, \"num_candidates\": 28}, {\"ct1\": \"Head_Neck_Ep\", \"n_non_diff\": 6, \"num_candidates\": 23}, {\"ct1\": \"Head_Neck_Ep\", \"n_non_diff\": 7, \"num_candidates\": 18}, {\"ct1\": \"Head_Neck_Ep\", \"n_non_diff\": 8, \"num_candidates\": 15}, {\"ct1\": \"Head_Neck_Ep\", \"n_non_diff\": 9, \"num_candidates\": 16}, {\"ct1\": \"Head_Neck_Ep\", \"n_non_diff\": 10, \"num_candidates\": 15}, {\"ct1\": \"Head_Neck_Ep\", \"n_non_diff\": 11, \"num_candidates\": 16}, {\"ct1\": \"Head_Neck_Ep\", \"n_non_diff\": 12, \"num_candidates\": 8}, {\"ct1\": \"Head_Neck_Ep\", \"n_non_diff\": 13, \"num_candidates\": 9}, {\"ct1\": \"Head_Neck_Ep\", \"n_non_diff\": 14, \"num_candidates\": 7}, {\"ct1\": \"Head_Neck_Ep\", \"n_non_diff\": 15, \"num_candidates\": 6}, {\"ct1\": \"Head_Neck_Ep\", \"n_non_diff\": 16, \"num_candidates\": 6}, {\"ct1\": \"Head_Neck_Ep\", \"n_non_diff\": 17, \"num_candidates\": 9}, {\"ct1\": \"Head_Neck_Ep\", \"n_non_diff\": 18, \"num_candidates\": 8}, {\"ct1\": \"Head_Neck_Ep\", \"n_non_diff\": 19, \"num_candidates\": 6}, {\"ct1\": \"Head_Neck_Ep\", \"n_non_diff\": 20, \"num_candidates\": 3}, {\"ct1\": \"Heart_Cardio\", \"n_non_diff\": 0, \"num_candidates\": 37}, {\"ct1\": \"Heart_Cardio\", \"n_non_diff\": 1, \"num_candidates\": 53}, {\"ct1\": \"Heart_Cardio\", \"n_non_diff\": 2, \"num_candidates\": 36}, {\"ct1\": \"Heart_Cardio\", \"n_non_diff\": 3, \"num_candidates\": 49}, {\"ct1\": \"Heart_Cardio\", \"n_non_diff\": 4, \"num_candidates\": 50}, {\"ct1\": \"Heart_Cardio\", \"n_non_diff\": 5, \"num_candidates\": 49}, {\"ct1\": \"Heart_Cardio\", \"n_non_diff\": 6, \"num_candidates\": 52}, {\"ct1\": \"Heart_Cardio\", \"n_non_diff\": 7, \"num_candidates\": 48}, {\"ct1\": \"Heart_Cardio\", \"n_non_diff\": 8, \"num_candidates\": 32}, {\"ct1\": \"Heart_Cardio\", \"n_non_diff\": 9, \"num_candidates\": 36}, {\"ct1\": \"Heart_Cardio\", \"n_non_diff\": 10, \"num_candidates\": 43}, {\"ct1\": \"Heart_Cardio\", \"n_non_diff\": 11, \"num_candidates\": 35}, {\"ct1\": \"Heart_Cardio\", \"n_non_diff\": 12, \"num_candidates\": 28}, {\"ct1\": \"Heart_Cardio\", \"n_non_diff\": 13, \"num_candidates\": 25}, {\"ct1\": \"Heart_Cardio\", \"n_non_diff\": 14, \"num_candidates\": 12}, {\"ct1\": \"Heart_Cardio\", \"n_non_diff\": 15, \"num_candidates\": 18}, {\"ct1\": \"Heart_Cardio\", \"n_non_diff\": 16, \"num_candidates\": 19}, {\"ct1\": \"Heart_Cardio\", \"n_non_diff\": 17, \"num_candidates\": 12}, {\"ct1\": \"Heart_Cardio\", \"n_non_diff\": 18, \"num_candidates\": 11}, {\"ct1\": \"Heart_Cardio\", \"n_non_diff\": 19, \"num_candidates\": 9}, {\"ct1\": \"Heart_Cardio\", \"n_non_diff\": 20, \"num_candidates\": 5}, {\"ct1\": \"Kidney_Ep\", \"n_non_diff\": 0, \"num_candidates\": 7}, {\"ct1\": \"Kidney_Ep\", \"n_non_diff\": 1, \"num_candidates\": 21}, {\"ct1\": \"Kidney_Ep\", \"n_non_diff\": 2, \"num_candidates\": 9}, {\"ct1\": \"Kidney_Ep\", \"n_non_diff\": 3, \"num_candidates\": 8}, {\"ct1\": \"Kidney_Ep\", \"n_non_diff\": 4, \"num_candidates\": 13}, {\"ct1\": \"Kidney_Ep\", \"n_non_diff\": 5, \"num_candidates\": 19}, {\"ct1\": \"Kidney_Ep\", \"n_non_diff\": 6, \"num_candidates\": 20}, {\"ct1\": \"Kidney_Ep\", \"n_non_diff\": 7, \"num_candidates\": 19}, {\"ct1\": \"Kidney_Ep\", \"n_non_diff\": 8, \"num_candidates\": 18}, {\"ct1\": \"Kidney_Ep\", \"n_non_diff\": 9, \"num_candidates\": 13}, {\"ct1\": \"Kidney_Ep\", \"n_non_diff\": 10, \"num_candidates\": 27}, {\"ct1\": \"Kidney_Ep\", \"n_non_diff\": 11, \"num_candidates\": 20}, {\"ct1\": \"Kidney_Ep\", \"n_non_diff\": 12, \"num_candidates\": 26}, {\"ct1\": \"Kidney_Ep\", \"n_non_diff\": 13, \"num_candidates\": 25}, {\"ct1\": \"Kidney_Ep\", \"n_non_diff\": 14, \"num_candidates\": 13}, {\"ct1\": \"Kidney_Ep\", \"n_non_diff\": 15, \"num_candidates\": 12}, {\"ct1\": \"Kidney_Ep\", \"n_non_diff\": 16, \"num_candidates\": 14}, {\"ct1\": \"Kidney_Ep\", \"n_non_diff\": 17, \"num_candidates\": 11}, {\"ct1\": \"Kidney_Ep\", \"n_non_diff\": 18, \"num_candidates\": 8}, {\"ct1\": \"Kidney_Ep\", \"n_non_diff\": 19, \"num_candidates\": 11}, {\"ct1\": \"Kidney_Ep\", \"n_non_diff\": 20, \"num_candidates\": 3}, {\"ct1\": \"Liver_Hep\", \"n_non_diff\": 0, \"num_candidates\": 180}, {\"ct1\": \"Liver_Hep\", \"n_non_diff\": 1, \"num_candidates\": 189}, {\"ct1\": \"Liver_Hep\", \"n_non_diff\": 2, \"num_candidates\": 144}, {\"ct1\": \"Liver_Hep\", \"n_non_diff\": 3, \"num_candidates\": 107}, {\"ct1\": \"Liver_Hep\", \"n_non_diff\": 4, \"num_candidates\": 94}, {\"ct1\": \"Liver_Hep\", \"n_non_diff\": 5, \"num_candidates\": 95}, {\"ct1\": \"Liver_Hep\", \"n_non_diff\": 6, \"num_candidates\": 76}, {\"ct1\": \"Liver_Hep\", \"n_non_diff\": 7, \"num_candidates\": 65}, {\"ct1\": \"Liver_Hep\", \"n_non_diff\": 8, \"num_candidates\": 60}, {\"ct1\": \"Liver_Hep\", \"n_non_diff\": 9, \"num_candidates\": 47}, {\"ct1\": \"Liver_Hep\", \"n_non_diff\": 10, \"num_candidates\": 51}, {\"ct1\": \"Liver_Hep\", \"n_non_diff\": 11, \"num_candidates\": 46}, {\"ct1\": \"Liver_Hep\", \"n_non_diff\": 12, \"num_candidates\": 42}, {\"ct1\": \"Liver_Hep\", \"n_non_diff\": 13, \"num_candidates\": 37}, {\"ct1\": \"Liver_Hep\", \"n_non_diff\": 14, \"num_candidates\": 22}, {\"ct1\": \"Liver_Hep\", \"n_non_diff\": 15, \"num_candidates\": 16}, {\"ct1\": \"Liver_Hep\", \"n_non_diff\": 16, \"num_candidates\": 23}, {\"ct1\": \"Liver_Hep\", \"n_non_diff\": 17, \"num_candidates\": 10}, {\"ct1\": \"Liver_Hep\", \"n_non_diff\": 18, \"num_candidates\": 9}, {\"ct1\": \"Liver_Hep\", \"n_non_diff\": 19, \"num_candidates\": 9}, {\"ct1\": \"Liver_Hep\", \"n_non_diff\": 20, \"num_candidates\": 3}, {\"ct1\": \"Lung_Ep_Alveo\", \"n_non_diff\": 0, \"num_candidates\": 6}, {\"ct1\": \"Lung_Ep_Alveo\", \"n_non_diff\": 1, \"num_candidates\": 10}, {\"ct1\": \"Lung_Ep_Alveo\", \"n_non_diff\": 2, \"num_candidates\": 13}, {\"ct1\": \"Lung_Ep_Alveo\", \"n_non_diff\": 3, \"num_candidates\": 14}, {\"ct1\": \"Lung_Ep_Alveo\", \"n_non_diff\": 4, \"num_candidates\": 19}, {\"ct1\": \"Lung_Ep_Alveo\", \"n_non_diff\": 5, \"num_candidates\": 16}, {\"ct1\": \"Lung_Ep_Alveo\", \"n_non_diff\": 6, \"num_candidates\": 21}, {\"ct1\": \"Lung_Ep_Alveo\", \"n_non_diff\": 7, \"num_candidates\": 20}, {\"ct1\": \"Lung_Ep_Alveo\", \"n_non_diff\": 8, \"num_candidates\": 22}, {\"ct1\": \"Lung_Ep_Alveo\", \"n_non_diff\": 9, \"num_candidates\": 23}, {\"ct1\": \"Lung_Ep_Alveo\", \"n_non_diff\": 10, \"num_candidates\": 11}, {\"ct1\": \"Lung_Ep_Alveo\", \"n_non_diff\": 11, \"num_candidates\": 22}, {\"ct1\": \"Lung_Ep_Alveo\", \"n_non_diff\": 12, \"num_candidates\": 23}, {\"ct1\": \"Lung_Ep_Alveo\", \"n_non_diff\": 13, \"num_candidates\": 23}, {\"ct1\": \"Lung_Ep_Alveo\", \"n_non_diff\": 14, \"num_candidates\": 17}, {\"ct1\": \"Lung_Ep_Alveo\", \"n_non_diff\": 15, \"num_candidates\": 10}, {\"ct1\": \"Lung_Ep_Alveo\", \"n_non_diff\": 16, \"num_candidates\": 18}, {\"ct1\": \"Lung_Ep_Alveo\", \"n_non_diff\": 17, \"num_candidates\": 9}, {\"ct1\": \"Lung_Ep_Alveo\", \"n_non_diff\": 18, \"num_candidates\": 7}, {\"ct1\": \"Lung_Ep_Alveo\", \"n_non_diff\": 19, \"num_candidates\": 11}, {\"ct1\": \"Lung_Ep_Alveo\", \"n_non_diff\": 20, \"num_candidates\": 4}, {\"ct1\": \"Lung_Ep_Bron\", \"n_non_diff\": 0, \"num_candidates\": 10}, {\"ct1\": \"Lung_Ep_Bron\", \"n_non_diff\": 1, \"num_candidates\": 33}, {\"ct1\": \"Lung_Ep_Bron\", \"n_non_diff\": 2, \"num_candidates\": 39}, {\"ct1\": \"Lung_Ep_Bron\", \"n_non_diff\": 3, \"num_candidates\": 36}, {\"ct1\": \"Lung_Ep_Bron\", \"n_non_diff\": 4, \"num_candidates\": 25}, {\"ct1\": \"Lung_Ep_Bron\", \"n_non_diff\": 5, \"num_candidates\": 20}, {\"ct1\": \"Lung_Ep_Bron\", \"n_non_diff\": 6, \"num_candidates\": 23}, {\"ct1\": \"Lung_Ep_Bron\", \"n_non_diff\": 7, \"num_candidates\": 28}, {\"ct1\": \"Lung_Ep_Bron\", \"n_non_diff\": 8, \"num_candidates\": 13}, {\"ct1\": \"Lung_Ep_Bron\", \"n_non_diff\": 9, \"num_candidates\": 10}, {\"ct1\": \"Lung_Ep_Bron\", \"n_non_diff\": 10, \"num_candidates\": 11}, {\"ct1\": \"Lung_Ep_Bron\", \"n_non_diff\": 11, \"num_candidates\": 18}, {\"ct1\": \"Lung_Ep_Bron\", \"n_non_diff\": 12, \"num_candidates\": 8}, {\"ct1\": \"Lung_Ep_Bron\", \"n_non_diff\": 13, \"num_candidates\": 11}, {\"ct1\": \"Lung_Ep_Bron\", \"n_non_diff\": 14, \"num_candidates\": 9}, {\"ct1\": \"Lung_Ep_Bron\", \"n_non_diff\": 15, \"num_candidates\": 9}, {\"ct1\": \"Lung_Ep_Bron\", \"n_non_diff\": 16, \"num_candidates\": 11}, {\"ct1\": \"Lung_Ep_Bron\", \"n_non_diff\": 17, \"num_candidates\": 4}, {\"ct1\": \"Lung_Ep_Bron\", \"n_non_diff\": 18, \"num_candidates\": 5}, {\"ct1\": \"Lung_Ep_Bron\", \"n_non_diff\": 19, \"num_candidates\": 8}, {\"ct1\": \"Lung_Ep_Bron\", \"n_non_diff\": 20, \"num_candidates\": 5}, {\"ct1\": \"Neuron_plus_Oligodend\", \"n_non_diff\": 0, \"num_candidates\": 90}, {\"ct1\": \"Neuron_plus_Oligodend\", \"n_non_diff\": 1, \"num_candidates\": 95}, {\"ct1\": \"Neuron_plus_Oligodend\", \"n_non_diff\": 2, \"num_candidates\": 81}, {\"ct1\": \"Neuron_plus_Oligodend\", \"n_non_diff\": 3, \"num_candidates\": 63}, {\"ct1\": \"Neuron_plus_Oligodend\", \"n_non_diff\": 4, \"num_candidates\": 57}, {\"ct1\": \"Neuron_plus_Oligodend\", \"n_non_diff\": 5, \"num_candidates\": 53}, {\"ct1\": \"Neuron_plus_Oligodend\", \"n_non_diff\": 6, \"num_candidates\": 47}, {\"ct1\": \"Neuron_plus_Oligodend\", \"n_non_diff\": 7, \"num_candidates\": 35}, {\"ct1\": \"Neuron_plus_Oligodend\", \"n_non_diff\": 8, \"num_candidates\": 24}, {\"ct1\": \"Neuron_plus_Oligodend\", \"n_non_diff\": 9, \"num_candidates\": 26}, {\"ct1\": \"Neuron_plus_Oligodend\", \"n_non_diff\": 10, \"num_candidates\": 30}, {\"ct1\": \"Neuron_plus_Oligodend\", \"n_non_diff\": 11, \"num_candidates\": 24}, {\"ct1\": \"Neuron_plus_Oligodend\", \"n_non_diff\": 12, \"num_candidates\": 30}, {\"ct1\": \"Neuron_plus_Oligodend\", \"n_non_diff\": 13, \"num_candidates\": 22}, {\"ct1\": \"Neuron_plus_Oligodend\", \"n_non_diff\": 14, \"num_candidates\": 13}, {\"ct1\": \"Neuron_plus_Oligodend\", \"n_non_diff\": 15, \"num_candidates\": 13}, {\"ct1\": \"Neuron_plus_Oligodend\", \"n_non_diff\": 16, \"num_candidates\": 13}, {\"ct1\": \"Neuron_plus_Oligodend\", \"n_non_diff\": 17, \"num_candidates\": 8}, {\"ct1\": \"Neuron_plus_Oligodend\", \"n_non_diff\": 18, \"num_candidates\": 8}, {\"ct1\": \"Neuron_plus_Oligodend\", \"n_non_diff\": 19, \"num_candidates\": 8}, {\"ct1\": \"Neuron_plus_Oligodend\", \"n_non_diff\": 20, \"num_candidates\": 4}, {\"ct1\": \"Ovary_Ep\", \"n_non_diff\": 0, \"num_candidates\": 15}, {\"ct1\": \"Ovary_Ep\", \"n_non_diff\": 1, \"num_candidates\": 25}, {\"ct1\": \"Ovary_Ep\", \"n_non_diff\": 2, \"num_candidates\": 19}, {\"ct1\": \"Ovary_Ep\", \"n_non_diff\": 3, \"num_candidates\": 28}, {\"ct1\": \"Ovary_Ep\", \"n_non_diff\": 4, \"num_candidates\": 33}, {\"ct1\": \"Ovary_Ep\", \"n_non_diff\": 5, \"num_candidates\": 35}, {\"ct1\": \"Ovary_Ep\", \"n_non_diff\": 6, \"num_candidates\": 33}, {\"ct1\": \"Ovary_Ep\", \"n_non_diff\": 7, \"num_candidates\": 27}, {\"ct1\": \"Ovary_Ep\", \"n_non_diff\": 8, \"num_candidates\": 21}, {\"ct1\": \"Ovary_Ep\", \"n_non_diff\": 9, \"num_candidates\": 23}, {\"ct1\": \"Ovary_Ep\", \"n_non_diff\": 10, \"num_candidates\": 21}, {\"ct1\": \"Ovary_Ep\", \"n_non_diff\": 11, \"num_candidates\": 23}, {\"ct1\": \"Ovary_Ep\", \"n_non_diff\": 12, \"num_candidates\": 16}, {\"ct1\": \"Ovary_Ep\", \"n_non_diff\": 13, \"num_candidates\": 21}, {\"ct1\": \"Ovary_Ep\", \"n_non_diff\": 14, \"num_candidates\": 9}, {\"ct1\": \"Ovary_Ep\", \"n_non_diff\": 15, \"num_candidates\": 11}, {\"ct1\": \"Ovary_Ep\", \"n_non_diff\": 16, \"num_candidates\": 11}, {\"ct1\": \"Ovary_Ep\", \"n_non_diff\": 17, \"num_candidates\": 6}, {\"ct1\": \"Ovary_Ep\", \"n_non_diff\": 18, \"num_candidates\": 3}, {\"ct1\": \"Ovary_Ep\", \"n_non_diff\": 19, \"num_candidates\": 5}, {\"ct1\": \"Ovary_Ep\", \"n_non_diff\": 20, \"num_candidates\": 4}, {\"ct1\": \"Pancreas\", \"n_non_diff\": 0, \"num_candidates\": 78}, {\"ct1\": \"Pancreas\", \"n_non_diff\": 1, \"num_candidates\": 98}, {\"ct1\": \"Pancreas\", \"n_non_diff\": 2, \"num_candidates\": 91}, {\"ct1\": \"Pancreas\", \"n_non_diff\": 3, \"num_candidates\": 89}, {\"ct1\": \"Pancreas\", \"n_non_diff\": 4, \"num_candidates\": 78}, {\"ct1\": \"Pancreas\", \"n_non_diff\": 5, \"num_candidates\": 68}, {\"ct1\": \"Pancreas\", \"n_non_diff\": 6, \"num_candidates\": 67}, {\"ct1\": \"Pancreas\", \"n_non_diff\": 7, \"num_candidates\": 57}, {\"ct1\": \"Pancreas\", \"n_non_diff\": 8, \"num_candidates\": 46}, {\"ct1\": \"Pancreas\", \"n_non_diff\": 9, \"num_candidates\": 38}, {\"ct1\": \"Pancreas\", \"n_non_diff\": 10, \"num_candidates\": 41}, {\"ct1\": \"Pancreas\", \"n_non_diff\": 11, \"num_candidates\": 37}, {\"ct1\": \"Pancreas\", \"n_non_diff\": 12, \"num_candidates\": 37}, {\"ct1\": \"Pancreas\", \"n_non_diff\": 13, \"num_candidates\": 43}, {\"ct1\": \"Pancreas\", \"n_non_diff\": 14, \"num_candidates\": 23}, {\"ct1\": \"Pancreas\", \"n_non_diff\": 15, \"num_candidates\": 18}, {\"ct1\": \"Pancreas\", \"n_non_diff\": 16, \"num_candidates\": 22}, {\"ct1\": \"Pancreas\", \"n_non_diff\": 17, \"num_candidates\": 11}, {\"ct1\": \"Pancreas\", \"n_non_diff\": 18, \"num_candidates\": 9}, {\"ct1\": \"Pancreas\", \"n_non_diff\": 19, \"num_candidates\": 9}, {\"ct1\": \"Pancreas\", \"n_non_diff\": 20, \"num_candidates\": 3}, {\"ct1\": \"Pancreas_Acinar\", \"n_non_diff\": 0, \"num_candidates\": 89}, {\"ct1\": \"Pancreas_Acinar\", \"n_non_diff\": 1, \"num_candidates\": 134}, {\"ct1\": \"Pancreas_Acinar\", \"n_non_diff\": 2, \"num_candidates\": 127}, {\"ct1\": \"Pancreas_Acinar\", \"n_non_diff\": 3, \"num_candidates\": 109}, {\"ct1\": \"Pancreas_Acinar\", \"n_non_diff\": 4, \"num_candidates\": 105}, {\"ct1\": \"Pancreas_Acinar\", \"n_non_diff\": 5, \"num_candidates\": 94}, {\"ct1\": \"Pancreas_Acinar\", \"n_non_diff\": 6, \"num_candidates\": 105}, {\"ct1\": \"Pancreas_Acinar\", \"n_non_diff\": 7, \"num_candidates\": 76}, {\"ct1\": \"Pancreas_Acinar\", \"n_non_diff\": 8, \"num_candidates\": 49}, {\"ct1\": \"Pancreas_Acinar\", \"n_non_diff\": 9, \"num_candidates\": 45}, {\"ct1\": \"Pancreas_Acinar\", \"n_non_diff\": 10, \"num_candidates\": 40}, {\"ct1\": \"Pancreas_Acinar\", \"n_non_diff\": 11, \"num_candidates\": 35}, {\"ct1\": \"Pancreas_Acinar\", \"n_non_diff\": 12, \"num_candidates\": 28}, {\"ct1\": \"Pancreas_Acinar\", \"n_non_diff\": 13, \"num_candidates\": 32}, {\"ct1\": \"Pancreas_Acinar\", \"n_non_diff\": 14, \"num_candidates\": 20}, {\"ct1\": \"Pancreas_Acinar\", \"n_non_diff\": 15, \"num_candidates\": 17}, {\"ct1\": \"Pancreas_Acinar\", \"n_non_diff\": 16, \"num_candidates\": 14}, {\"ct1\": \"Pancreas_Acinar\", \"n_non_diff\": 17, \"num_candidates\": 12}, {\"ct1\": \"Pancreas_Acinar\", \"n_non_diff\": 18, \"num_candidates\": 10}, {\"ct1\": \"Pancreas_Acinar\", \"n_non_diff\": 19, \"num_candidates\": 8}, {\"ct1\": \"Pancreas_Acinar\", \"n_non_diff\": 20, \"num_candidates\": 4}, {\"ct1\": \"Pancreas_Duct\", \"n_non_diff\": 0, \"num_candidates\": 15}, {\"ct1\": \"Pancreas_Duct\", \"n_non_diff\": 1, \"num_candidates\": 32}, {\"ct1\": \"Pancreas_Duct\", \"n_non_diff\": 2, \"num_candidates\": 48}, {\"ct1\": \"Pancreas_Duct\", \"n_non_diff\": 3, \"num_candidates\": 50}, {\"ct1\": \"Pancreas_Duct\", \"n_non_diff\": 4, \"num_candidates\": 61}, {\"ct1\": \"Pancreas_Duct\", \"n_non_diff\": 5, \"num_candidates\": 52}, {\"ct1\": \"Pancreas_Duct\", \"n_non_diff\": 6, \"num_candidates\": 57}, {\"ct1\": \"Pancreas_Duct\", \"n_non_diff\": 7, \"num_candidates\": 52}, {\"ct1\": \"Pancreas_Duct\", \"n_non_diff\": 8, \"num_candidates\": 38}, {\"ct1\": \"Pancreas_Duct\", \"n_non_diff\": 9, \"num_candidates\": 34}, {\"ct1\": \"Pancreas_Duct\", \"n_non_diff\": 10, \"num_candidates\": 46}, {\"ct1\": \"Pancreas_Duct\", \"n_non_diff\": 11, \"num_candidates\": 48}, {\"ct1\": \"Pancreas_Duct\", \"n_non_diff\": 12, \"num_candidates\": 34}, {\"ct1\": \"Pancreas_Duct\", \"n_non_diff\": 13, \"num_candidates\": 32}, {\"ct1\": \"Pancreas_Duct\", \"n_non_diff\": 14, \"num_candidates\": 24}, {\"ct1\": \"Pancreas_Duct\", \"n_non_diff\": 15, \"num_candidates\": 17}, {\"ct1\": \"Pancreas_Duct\", \"n_non_diff\": 16, \"num_candidates\": 23}, {\"ct1\": \"Pancreas_Duct\", \"n_non_diff\": 17, \"num_candidates\": 17}, {\"ct1\": \"Pancreas_Duct\", \"n_non_diff\": 18, \"num_candidates\": 9}, {\"ct1\": \"Pancreas_Duct\", \"n_non_diff\": 19, \"num_candidates\": 8}, {\"ct1\": \"Pancreas_Duct\", \"n_non_diff\": 20, \"num_candidates\": 4}, {\"ct1\": \"Prostate_Ep\", \"n_non_diff\": 0, \"num_candidates\": 8}, {\"ct1\": \"Prostate_Ep\", \"n_non_diff\": 1, \"num_candidates\": 44}, {\"ct1\": \"Prostate_Ep\", \"n_non_diff\": 2, \"num_candidates\": 54}, {\"ct1\": \"Prostate_Ep\", \"n_non_diff\": 3, \"num_candidates\": 45}, {\"ct1\": \"Prostate_Ep\", \"n_non_diff\": 4, \"num_candidates\": 58}, {\"ct1\": \"Prostate_Ep\", \"n_non_diff\": 5, \"num_candidates\": 59}, {\"ct1\": \"Prostate_Ep\", \"n_non_diff\": 6, \"num_candidates\": 54}, {\"ct1\": \"Prostate_Ep\", \"n_non_diff\": 7, \"num_candidates\": 51}, {\"ct1\": \"Prostate_Ep\", \"n_non_diff\": 8, \"num_candidates\": 29}, {\"ct1\": \"Prostate_Ep\", \"n_non_diff\": 9, \"num_candidates\": 24}, {\"ct1\": \"Prostate_Ep\", \"n_non_diff\": 10, \"num_candidates\": 27}, {\"ct1\": \"Prostate_Ep\", \"n_non_diff\": 11, \"num_candidates\": 22}, {\"ct1\": \"Prostate_Ep\", \"n_non_diff\": 12, \"num_candidates\": 18}, {\"ct1\": \"Prostate_Ep\", \"n_non_diff\": 13, \"num_candidates\": 21}, {\"ct1\": \"Prostate_Ep\", \"n_non_diff\": 14, \"num_candidates\": 11}, {\"ct1\": \"Prostate_Ep\", \"n_non_diff\": 15, \"num_candidates\": 8}, {\"ct1\": \"Prostate_Ep\", \"n_non_diff\": 16, \"num_candidates\": 7}, {\"ct1\": \"Prostate_Ep\", \"n_non_diff\": 17, \"num_candidates\": 6}, {\"ct1\": \"Prostate_Ep\", \"n_non_diff\": 18, \"num_candidates\": 8}, {\"ct1\": \"Prostate_Ep\", \"n_non_diff\": 19, \"num_candidates\": 8}, {\"ct1\": \"Prostate_Ep\", \"n_non_diff\": 20, \"num_candidates\": 3}, {\"ct1\": \"Small_Int_Ep\", \"n_non_diff\": 0, \"num_candidates\": 37}, {\"ct1\": \"Small_Int_Ep\", \"n_non_diff\": 1, \"num_candidates\": 473}, {\"ct1\": \"Small_Int_Ep\", \"n_non_diff\": 2, \"num_candidates\": 569}, {\"ct1\": \"Small_Int_Ep\", \"n_non_diff\": 3, \"num_candidates\": 261}, {\"ct1\": \"Small_Int_Ep\", \"n_non_diff\": 4, \"num_candidates\": 159}, {\"ct1\": \"Small_Int_Ep\", \"n_non_diff\": 5, \"num_candidates\": 141}, {\"ct1\": \"Small_Int_Ep\", \"n_non_diff\": 6, \"num_candidates\": 114}, {\"ct1\": \"Small_Int_Ep\", \"n_non_diff\": 7, \"num_candidates\": 90}, {\"ct1\": \"Small_Int_Ep\", \"n_non_diff\": 8, \"num_candidates\": 59}, {\"ct1\": \"Small_Int_Ep\", \"n_non_diff\": 9, \"num_candidates\": 59}, {\"ct1\": \"Small_Int_Ep\", \"n_non_diff\": 10, \"num_candidates\": 43}, {\"ct1\": \"Small_Int_Ep\", \"n_non_diff\": 11, \"num_candidates\": 43}, {\"ct1\": \"Small_Int_Ep\", \"n_non_diff\": 12, \"num_candidates\": 37}, {\"ct1\": \"Small_Int_Ep\", \"n_non_diff\": 13, \"num_candidates\": 28}, {\"ct1\": \"Small_Int_Ep\", \"n_non_diff\": 14, \"num_candidates\": 26}, {\"ct1\": \"Small_Int_Ep\", \"n_non_diff\": 15, \"num_candidates\": 18}, {\"ct1\": \"Small_Int_Ep\", \"n_non_diff\": 16, \"num_candidates\": 19}, {\"ct1\": \"Small_Int_Ep\", \"n_non_diff\": 17, \"num_candidates\": 11}, {\"ct1\": \"Small_Int_Ep\", \"n_non_diff\": 18, \"num_candidates\": 7}, {\"ct1\": \"Small_Int_Ep\", \"n_non_diff\": 19, \"num_candidates\": 9}, {\"ct1\": \"Small_Int_Ep\", \"n_non_diff\": 20, \"num_candidates\": 6}, {\"ct1\": \"Thyroid_Ep\", \"n_non_diff\": 0, \"num_candidates\": 13}, {\"ct1\": \"Thyroid_Ep\", \"n_non_diff\": 1, \"num_candidates\": 20}, {\"ct1\": \"Thyroid_Ep\", \"n_non_diff\": 2, \"num_candidates\": 26}, {\"ct1\": \"Thyroid_Ep\", \"n_non_diff\": 3, \"num_candidates\": 25}, {\"ct1\": \"Thyroid_Ep\", \"n_non_diff\": 4, \"num_candidates\": 39}, {\"ct1\": \"Thyroid_Ep\", \"n_non_diff\": 5, \"num_candidates\": 29}, {\"ct1\": \"Thyroid_Ep\", \"n_non_diff\": 6, \"num_candidates\": 42}, {\"ct1\": \"Thyroid_Ep\", \"n_non_diff\": 7, \"num_candidates\": 25}, {\"ct1\": \"Thyroid_Ep\", \"n_non_diff\": 8, \"num_candidates\": 34}, {\"ct1\": \"Thyroid_Ep\", \"n_non_diff\": 9, \"num_candidates\": 38}, {\"ct1\": \"Thyroid_Ep\", \"n_non_diff\": 10, \"num_candidates\": 43}, {\"ct1\": \"Thyroid_Ep\", \"n_non_diff\": 11, \"num_candidates\": 37}, {\"ct1\": \"Thyroid_Ep\", \"n_non_diff\": 12, \"num_candidates\": 32}, {\"ct1\": \"Thyroid_Ep\", \"n_non_diff\": 13, \"num_candidates\": 28}, {\"ct1\": \"Thyroid_Ep\", \"n_non_diff\": 14, \"num_candidates\": 19}, {\"ct1\": \"Thyroid_Ep\", \"n_non_diff\": 15, \"num_candidates\": 22}, {\"ct1\": \"Thyroid_Ep\", \"n_non_diff\": 16, \"num_candidates\": 18}, {\"ct1\": \"Thyroid_Ep\", \"n_non_diff\": 17, \"num_candidates\": 10}, {\"ct1\": \"Thyroid_Ep\", \"n_non_diff\": 18, \"num_candidates\": 8}, {\"ct1\": \"Thyroid_Ep\", \"n_non_diff\": 19, \"num_candidates\": 9}, {\"ct1\": \"Thyroid_Ep\", \"n_non_diff\": 20, \"num_candidates\": 4}]}}, {\"mode\": \"vega-lite\"});\n",
       "</script>"
      ],
      "text/plain": [
       "alt.Chart(...)"
      ]
     },
     "execution_count": 105,
     "metadata": {},
     "output_type": "execute_result"
    }
   ],
   "source": [
    "# For loose rule 1\n",
    "candidate_plot_df = candidate_regions_summary_loose1_df.groupby(['ct1', 'n_non_diff']).size().to_frame('num_candidates').reset_index()\n",
    "alt.Chart(candidate_plot_df).mark_bar().encode(\n",
    "    x=alt.X('ct1', title='Target cell type'),\n",
    "    y=alt.Y('num_candidates', title='Number of regions'),\n",
    "    order=alt.Order('n_non_diff:N', sort='ascending'),\n",
    "    color=alt.Color('n_non_diff:N', title='Num cell types not diff meth')\n",
    ").properties(\n",
    "    height=300, width=400\n",
    ")"
   ]
  },
  {
   "cell_type": "code",
   "execution_count": 108,
   "id": "c655aebb",
   "metadata": {},
   "outputs": [
    {
     "data": {
      "text/html": [
       "\n",
       "<style>\n",
       "  #altair-viz-2b1a5643ed1e42e9bd8d2f5df491bbb1.vega-embed {\n",
       "    width: 100%;\n",
       "    display: flex;\n",
       "  }\n",
       "\n",
       "  #altair-viz-2b1a5643ed1e42e9bd8d2f5df491bbb1.vega-embed details,\n",
       "  #altair-viz-2b1a5643ed1e42e9bd8d2f5df491bbb1.vega-embed details summary {\n",
       "    position: relative;\n",
       "  }\n",
       "</style>\n",
       "<div id=\"altair-viz-2b1a5643ed1e42e9bd8d2f5df491bbb1\"></div>\n",
       "<script type=\"text/javascript\">\n",
       "  var VEGA_DEBUG = (typeof VEGA_DEBUG == \"undefined\") ? {} : VEGA_DEBUG;\n",
       "  (function(spec, embedOpt){\n",
       "    let outputDiv = document.currentScript.previousElementSibling;\n",
       "    if (outputDiv.id !== \"altair-viz-2b1a5643ed1e42e9bd8d2f5df491bbb1\") {\n",
       "      outputDiv = document.getElementById(\"altair-viz-2b1a5643ed1e42e9bd8d2f5df491bbb1\");\n",
       "    }\n",
       "    const paths = {\n",
       "      \"vega\": \"https://cdn.jsdelivr.net/npm/vega@5?noext\",\n",
       "      \"vega-lib\": \"https://cdn.jsdelivr.net/npm/vega-lib?noext\",\n",
       "      \"vega-lite\": \"https://cdn.jsdelivr.net/npm/vega-lite@5.8.0?noext\",\n",
       "      \"vega-embed\": \"https://cdn.jsdelivr.net/npm/vega-embed@6?noext\",\n",
       "    };\n",
       "\n",
       "    function maybeLoadScript(lib, version) {\n",
       "      var key = `${lib.replace(\"-\", \"\")}_version`;\n",
       "      return (VEGA_DEBUG[key] == version) ?\n",
       "        Promise.resolve(paths[lib]) :\n",
       "        new Promise(function(resolve, reject) {\n",
       "          var s = document.createElement('script');\n",
       "          document.getElementsByTagName(\"head\")[0].appendChild(s);\n",
       "          s.async = true;\n",
       "          s.onload = () => {\n",
       "            VEGA_DEBUG[key] = version;\n",
       "            return resolve(paths[lib]);\n",
       "          };\n",
       "          s.onerror = () => reject(`Error loading script: ${paths[lib]}`);\n",
       "          s.src = paths[lib];\n",
       "        });\n",
       "    }\n",
       "\n",
       "    function showError(err) {\n",
       "      outputDiv.innerHTML = `<div class=\"error\" style=\"color:red;\">${err}</div>`;\n",
       "      throw err;\n",
       "    }\n",
       "\n",
       "    function displayChart(vegaEmbed) {\n",
       "      vegaEmbed(outputDiv, spec, embedOpt)\n",
       "        .catch(err => showError(`Javascript Error: ${err.message}<br>This usually means there's a typo in your chart specification. See the javascript console for the full traceback.`));\n",
       "    }\n",
       "\n",
       "    if(typeof define === \"function\" && define.amd) {\n",
       "      requirejs.config({paths});\n",
       "      require([\"vega-embed\"], displayChart, err => showError(`Error loading script: ${err.message}`));\n",
       "    } else {\n",
       "      maybeLoadScript(\"vega\", \"5\")\n",
       "        .then(() => maybeLoadScript(\"vega-lite\", \"5.8.0\"))\n",
       "        .then(() => maybeLoadScript(\"vega-embed\", \"6\"))\n",
       "        .catch(showError)\n",
       "        .then(() => displayChart(vegaEmbed));\n",
       "    }\n",
       "  })({\"config\": {\"legend\": {\"titleFontSize\": 12, \"labelFontSize\": 12, \"labelLimit\": 0}, \"axis\": {\"titleFontSize\": 12, \"labelFontSize\": 12}, \"header\": {\"titleFontSize\": 14, \"labelFontSize\": 14}, \"title\": {\"titleFontSize\": 30, \"labelFontSize\": 30}}, \"data\": {\"name\": \"data-035f09465109669dc3f379bfa208d1d9\"}, \"mark\": {\"type\": \"bar\"}, \"encoding\": {\"color\": {\"field\": \"n_non_diff\", \"title\": \"Num cell types not diff meth\", \"type\": \"nominal\"}, \"order\": {\"field\": \"n_non_diff\", \"sort\": \"ascending\", \"type\": \"nominal\"}, \"x\": {\"field\": \"ct1\", \"title\": \"Target cell type\", \"type\": \"nominal\"}, \"y\": {\"field\": \"num_candidates\", \"title\": \"Number of regions\", \"type\": \"quantitative\"}}, \"height\": 300, \"width\": 400, \"$schema\": \"https://vega.github.io/schema/vega-lite/v5.8.0.json\", \"datasets\": {\"data-035f09465109669dc3f379bfa208d1d9\": [{\"ct1\": \"Adipocytes\", \"n_non_diff\": 0, \"num_candidates\": 1}, {\"ct1\": \"Adipocytes\", \"n_non_diff\": 1, \"num_candidates\": 4}, {\"ct1\": \"Adipocytes\", \"n_non_diff\": 2, \"num_candidates\": 12}, {\"ct1\": \"Adipocytes\", \"n_non_diff\": 3, \"num_candidates\": 13}, {\"ct1\": \"Adipocytes\", \"n_non_diff\": 4, \"num_candidates\": 12}, {\"ct1\": \"Adipocytes\", \"n_non_diff\": 5, \"num_candidates\": 14}, {\"ct1\": \"Adipocytes\", \"n_non_diff\": 6, \"num_candidates\": 17}, {\"ct1\": \"Adipocytes\", \"n_non_diff\": 7, \"num_candidates\": 6}, {\"ct1\": \"Adipocytes\", \"n_non_diff\": 8, \"num_candidates\": 5}, {\"ct1\": \"Adipocytes\", \"n_non_diff\": 9, \"num_candidates\": 2}, {\"ct1\": \"Adipocytes\", \"n_non_diff\": 10, \"num_candidates\": 8}, {\"ct1\": \"Adipocytes\", \"n_non_diff\": 11, \"num_candidates\": 5}, {\"ct1\": \"Bladder_Ep\", \"n_non_diff\": 0, \"num_candidates\": 43}, {\"ct1\": \"Bladder_Ep\", \"n_non_diff\": 1, \"num_candidates\": 99}, {\"ct1\": \"Bladder_Ep\", \"n_non_diff\": 2, \"num_candidates\": 111}, {\"ct1\": \"Bladder_Ep\", \"n_non_diff\": 3, \"num_candidates\": 83}, {\"ct1\": \"Bladder_Ep\", \"n_non_diff\": 4, \"num_candidates\": 73}, {\"ct1\": \"Bladder_Ep\", \"n_non_diff\": 5, \"num_candidates\": 69}, {\"ct1\": \"Bladder_Ep\", \"n_non_diff\": 6, \"num_candidates\": 62}, {\"ct1\": \"Bladder_Ep\", \"n_non_diff\": 7, \"num_candidates\": 47}, {\"ct1\": \"Bladder_Ep\", \"n_non_diff\": 8, \"num_candidates\": 31}, {\"ct1\": \"Bladder_Ep\", \"n_non_diff\": 9, \"num_candidates\": 32}, {\"ct1\": \"Bladder_Ep\", \"n_non_diff\": 10, \"num_candidates\": 31}, {\"ct1\": \"Bladder_Ep\", \"n_non_diff\": 11, \"num_candidates\": 28}, {\"ct1\": \"Colon_Ep\", \"n_non_diff\": 0, \"num_candidates\": 78}, {\"ct1\": \"Colon_Ep\", \"n_non_diff\": 1, \"num_candidates\": 528}, {\"ct1\": \"Colon_Ep\", \"n_non_diff\": 2, \"num_candidates\": 556}, {\"ct1\": \"Colon_Ep\", \"n_non_diff\": 3, \"num_candidates\": 275}, {\"ct1\": \"Colon_Ep\", \"n_non_diff\": 4, \"num_candidates\": 181}, {\"ct1\": \"Colon_Ep\", \"n_non_diff\": 5, \"num_candidates\": 151}, {\"ct1\": \"Colon_Ep\", \"n_non_diff\": 6, \"num_candidates\": 113}, {\"ct1\": \"Colon_Ep\", \"n_non_diff\": 7, \"num_candidates\": 78}, {\"ct1\": \"Colon_Ep\", \"n_non_diff\": 8, \"num_candidates\": 58}, {\"ct1\": \"Colon_Ep\", \"n_non_diff\": 9, \"num_candidates\": 55}, {\"ct1\": \"Colon_Ep\", \"n_non_diff\": 10, \"num_candidates\": 50}, {\"ct1\": \"Colon_Ep\", \"n_non_diff\": 11, \"num_candidates\": 53}, {\"ct1\": \"Endothelium\", \"n_non_diff\": 1, \"num_candidates\": 16}, {\"ct1\": \"Endothelium\", \"n_non_diff\": 2, \"num_candidates\": 18}, {\"ct1\": \"Endothelium\", \"n_non_diff\": 3, \"num_candidates\": 28}, {\"ct1\": \"Endothelium\", \"n_non_diff\": 4, \"num_candidates\": 17}, {\"ct1\": \"Endothelium\", \"n_non_diff\": 5, \"num_candidates\": 21}, {\"ct1\": \"Endothelium\", \"n_non_diff\": 6, \"num_candidates\": 16}, {\"ct1\": \"Endothelium\", \"n_non_diff\": 7, \"num_candidates\": 18}, {\"ct1\": \"Endothelium\", \"n_non_diff\": 8, \"num_candidates\": 17}, {\"ct1\": \"Endothelium\", \"n_non_diff\": 9, \"num_candidates\": 10}, {\"ct1\": \"Endothelium\", \"n_non_diff\": 10, \"num_candidates\": 15}, {\"ct1\": \"Endothelium\", \"n_non_diff\": 11, \"num_candidates\": 18}, {\"ct1\": \"Eryth_prog\", \"n_non_diff\": 2, \"num_candidates\": 1}, {\"ct1\": \"Esophagus_Ep\", \"n_non_diff\": 0, \"num_candidates\": 17}, {\"ct1\": \"Esophagus_Ep\", \"n_non_diff\": 1, \"num_candidates\": 52}, {\"ct1\": \"Esophagus_Ep\", \"n_non_diff\": 2, \"num_candidates\": 78}, {\"ct1\": \"Esophagus_Ep\", \"n_non_diff\": 3, \"num_candidates\": 88}, {\"ct1\": \"Esophagus_Ep\", \"n_non_diff\": 4, \"num_candidates\": 75}, {\"ct1\": \"Esophagus_Ep\", \"n_non_diff\": 5, \"num_candidates\": 63}, {\"ct1\": \"Esophagus_Ep\", \"n_non_diff\": 6, \"num_candidates\": 51}, {\"ct1\": \"Esophagus_Ep\", \"n_non_diff\": 7, \"num_candidates\": 46}, {\"ct1\": \"Esophagus_Ep\", \"n_non_diff\": 8, \"num_candidates\": 42}, {\"ct1\": \"Esophagus_Ep\", \"n_non_diff\": 9, \"num_candidates\": 19}, {\"ct1\": \"Esophagus_Ep\", \"n_non_diff\": 10, \"num_candidates\": 22}, {\"ct1\": \"Esophagus_Ep\", \"n_non_diff\": 11, \"num_candidates\": 18}, {\"ct1\": \"Fibro_Musc\", \"n_non_diff\": 0, \"num_candidates\": 3}, {\"ct1\": \"Fibro_Musc\", \"n_non_diff\": 1, \"num_candidates\": 10}, {\"ct1\": \"Fibro_Musc\", \"n_non_diff\": 2, \"num_candidates\": 19}, {\"ct1\": \"Fibro_Musc\", \"n_non_diff\": 3, \"num_candidates\": 18}, {\"ct1\": \"Fibro_Musc\", \"n_non_diff\": 4, \"num_candidates\": 16}, {\"ct1\": \"Fibro_Musc\", \"n_non_diff\": 5, \"num_candidates\": 14}, {\"ct1\": \"Fibro_Musc\", \"n_non_diff\": 6, \"num_candidates\": 11}, {\"ct1\": \"Fibro_Musc\", \"n_non_diff\": 7, \"num_candidates\": 8}, {\"ct1\": \"Fibro_Musc\", \"n_non_diff\": 8, \"num_candidates\": 8}, {\"ct1\": \"Fibro_Musc\", \"n_non_diff\": 9, \"num_candidates\": 10}, {\"ct1\": \"Fibro_Musc\", \"n_non_diff\": 10, \"num_candidates\": 14}, {\"ct1\": \"Fibro_Musc\", \"n_non_diff\": 11, \"num_candidates\": 17}, {\"ct1\": \"Gastric_Ep\", \"n_non_diff\": 0, \"num_candidates\": 5}, {\"ct1\": \"Gastric_Ep\", \"n_non_diff\": 1, \"num_candidates\": 14}, {\"ct1\": \"Gastric_Ep\", \"n_non_diff\": 2, \"num_candidates\": 14}, {\"ct1\": \"Gastric_Ep\", \"n_non_diff\": 3, \"num_candidates\": 19}, {\"ct1\": \"Gastric_Ep\", \"n_non_diff\": 4, \"num_candidates\": 19}, {\"ct1\": \"Gastric_Ep\", \"n_non_diff\": 5, \"num_candidates\": 24}, {\"ct1\": \"Gastric_Ep\", \"n_non_diff\": 6, \"num_candidates\": 34}, {\"ct1\": \"Gastric_Ep\", \"n_non_diff\": 7, \"num_candidates\": 34}, {\"ct1\": \"Gastric_Ep\", \"n_non_diff\": 8, \"num_candidates\": 25}, {\"ct1\": \"Gastric_Ep\", \"n_non_diff\": 9, \"num_candidates\": 38}, {\"ct1\": \"Gastric_Ep\", \"n_non_diff\": 10, \"num_candidates\": 34}, {\"ct1\": \"Gastric_Ep\", \"n_non_diff\": 11, \"num_candidates\": 43}, {\"ct1\": \"Head_Neck_Ep\", \"n_non_diff\": 0, \"num_candidates\": 8}, {\"ct1\": \"Head_Neck_Ep\", \"n_non_diff\": 1, \"num_candidates\": 10}, {\"ct1\": \"Head_Neck_Ep\", \"n_non_diff\": 2, \"num_candidates\": 14}, {\"ct1\": \"Head_Neck_Ep\", \"n_non_diff\": 3, \"num_candidates\": 19}, {\"ct1\": \"Head_Neck_Ep\", \"n_non_diff\": 4, \"num_candidates\": 30}, {\"ct1\": \"Head_Neck_Ep\", \"n_non_diff\": 5, \"num_candidates\": 28}, {\"ct1\": \"Head_Neck_Ep\", \"n_non_diff\": 6, \"num_candidates\": 23}, {\"ct1\": \"Head_Neck_Ep\", \"n_non_diff\": 7, \"num_candidates\": 18}, {\"ct1\": \"Head_Neck_Ep\", \"n_non_diff\": 8, \"num_candidates\": 15}, {\"ct1\": \"Head_Neck_Ep\", \"n_non_diff\": 9, \"num_candidates\": 16}, {\"ct1\": \"Head_Neck_Ep\", \"n_non_diff\": 10, \"num_candidates\": 15}, {\"ct1\": \"Head_Neck_Ep\", \"n_non_diff\": 11, \"num_candidates\": 16}, {\"ct1\": \"Heart_Cardio\", \"n_non_diff\": 0, \"num_candidates\": 37}, {\"ct1\": \"Heart_Cardio\", \"n_non_diff\": 1, \"num_candidates\": 53}, {\"ct1\": \"Heart_Cardio\", \"n_non_diff\": 2, \"num_candidates\": 36}, {\"ct1\": \"Heart_Cardio\", \"n_non_diff\": 3, \"num_candidates\": 49}, {\"ct1\": \"Heart_Cardio\", \"n_non_diff\": 4, \"num_candidates\": 50}, {\"ct1\": \"Heart_Cardio\", \"n_non_diff\": 5, \"num_candidates\": 49}, {\"ct1\": \"Heart_Cardio\", \"n_non_diff\": 6, \"num_candidates\": 52}, {\"ct1\": \"Heart_Cardio\", \"n_non_diff\": 7, \"num_candidates\": 48}, {\"ct1\": \"Heart_Cardio\", \"n_non_diff\": 8, \"num_candidates\": 32}, {\"ct1\": \"Heart_Cardio\", \"n_non_diff\": 9, \"num_candidates\": 36}, {\"ct1\": \"Heart_Cardio\", \"n_non_diff\": 10, \"num_candidates\": 43}, {\"ct1\": \"Heart_Cardio\", \"n_non_diff\": 11, \"num_candidates\": 35}, {\"ct1\": \"Kidney_Ep\", \"n_non_diff\": 0, \"num_candidates\": 7}, {\"ct1\": \"Kidney_Ep\", \"n_non_diff\": 1, \"num_candidates\": 21}, {\"ct1\": \"Kidney_Ep\", \"n_non_diff\": 2, \"num_candidates\": 9}, {\"ct1\": \"Kidney_Ep\", \"n_non_diff\": 3, \"num_candidates\": 8}, {\"ct1\": \"Kidney_Ep\", \"n_non_diff\": 4, \"num_candidates\": 13}, {\"ct1\": \"Kidney_Ep\", \"n_non_diff\": 5, \"num_candidates\": 19}, {\"ct1\": \"Kidney_Ep\", \"n_non_diff\": 6, \"num_candidates\": 20}, {\"ct1\": \"Kidney_Ep\", \"n_non_diff\": 7, \"num_candidates\": 19}, {\"ct1\": \"Kidney_Ep\", \"n_non_diff\": 8, \"num_candidates\": 18}, {\"ct1\": \"Kidney_Ep\", \"n_non_diff\": 9, \"num_candidates\": 13}, {\"ct1\": \"Kidney_Ep\", \"n_non_diff\": 10, \"num_candidates\": 27}, {\"ct1\": \"Kidney_Ep\", \"n_non_diff\": 11, \"num_candidates\": 20}, {\"ct1\": \"Liver_Hep\", \"n_non_diff\": 0, \"num_candidates\": 180}, {\"ct1\": \"Liver_Hep\", \"n_non_diff\": 1, \"num_candidates\": 189}, {\"ct1\": \"Liver_Hep\", \"n_non_diff\": 2, \"num_candidates\": 144}, {\"ct1\": \"Liver_Hep\", \"n_non_diff\": 3, \"num_candidates\": 107}, {\"ct1\": \"Liver_Hep\", \"n_non_diff\": 4, \"num_candidates\": 94}, {\"ct1\": \"Liver_Hep\", \"n_non_diff\": 5, \"num_candidates\": 95}, {\"ct1\": \"Liver_Hep\", \"n_non_diff\": 6, \"num_candidates\": 76}, {\"ct1\": \"Liver_Hep\", \"n_non_diff\": 7, \"num_candidates\": 65}, {\"ct1\": \"Liver_Hep\", \"n_non_diff\": 8, \"num_candidates\": 60}, {\"ct1\": \"Liver_Hep\", \"n_non_diff\": 9, \"num_candidates\": 47}, {\"ct1\": \"Liver_Hep\", \"n_non_diff\": 10, \"num_candidates\": 51}, {\"ct1\": \"Liver_Hep\", \"n_non_diff\": 11, \"num_candidates\": 46}, {\"ct1\": \"Lung_Ep_Alveo\", \"n_non_diff\": 0, \"num_candidates\": 6}, {\"ct1\": \"Lung_Ep_Alveo\", \"n_non_diff\": 1, \"num_candidates\": 10}, {\"ct1\": \"Lung_Ep_Alveo\", \"n_non_diff\": 2, \"num_candidates\": 13}, {\"ct1\": \"Lung_Ep_Alveo\", \"n_non_diff\": 3, \"num_candidates\": 14}, {\"ct1\": \"Lung_Ep_Alveo\", \"n_non_diff\": 4, \"num_candidates\": 19}, {\"ct1\": \"Lung_Ep_Alveo\", \"n_non_diff\": 5, \"num_candidates\": 16}, {\"ct1\": \"Lung_Ep_Alveo\", \"n_non_diff\": 6, \"num_candidates\": 21}, {\"ct1\": \"Lung_Ep_Alveo\", \"n_non_diff\": 7, \"num_candidates\": 20}, {\"ct1\": \"Lung_Ep_Alveo\", \"n_non_diff\": 8, \"num_candidates\": 22}, {\"ct1\": \"Lung_Ep_Alveo\", \"n_non_diff\": 9, \"num_candidates\": 23}, {\"ct1\": \"Lung_Ep_Alveo\", \"n_non_diff\": 10, \"num_candidates\": 11}, {\"ct1\": \"Lung_Ep_Alveo\", \"n_non_diff\": 11, \"num_candidates\": 22}, {\"ct1\": \"Lung_Ep_Bron\", \"n_non_diff\": 0, \"num_candidates\": 10}, {\"ct1\": \"Lung_Ep_Bron\", \"n_non_diff\": 1, \"num_candidates\": 33}, {\"ct1\": \"Lung_Ep_Bron\", \"n_non_diff\": 2, \"num_candidates\": 39}, {\"ct1\": \"Lung_Ep_Bron\", \"n_non_diff\": 3, \"num_candidates\": 36}, {\"ct1\": \"Lung_Ep_Bron\", \"n_non_diff\": 4, \"num_candidates\": 25}, {\"ct1\": \"Lung_Ep_Bron\", \"n_non_diff\": 5, \"num_candidates\": 20}, {\"ct1\": \"Lung_Ep_Bron\", \"n_non_diff\": 6, \"num_candidates\": 23}, {\"ct1\": \"Lung_Ep_Bron\", \"n_non_diff\": 7, \"num_candidates\": 28}, {\"ct1\": \"Lung_Ep_Bron\", \"n_non_diff\": 8, \"num_candidates\": 13}, {\"ct1\": \"Lung_Ep_Bron\", \"n_non_diff\": 9, \"num_candidates\": 10}, {\"ct1\": \"Lung_Ep_Bron\", \"n_non_diff\": 10, \"num_candidates\": 11}, {\"ct1\": \"Lung_Ep_Bron\", \"n_non_diff\": 11, \"num_candidates\": 18}, {\"ct1\": \"Neuron_plus_Oligodend\", \"n_non_diff\": 0, \"num_candidates\": 90}, {\"ct1\": \"Neuron_plus_Oligodend\", \"n_non_diff\": 1, \"num_candidates\": 95}, {\"ct1\": \"Neuron_plus_Oligodend\", \"n_non_diff\": 2, \"num_candidates\": 81}, {\"ct1\": \"Neuron_plus_Oligodend\", \"n_non_diff\": 3, \"num_candidates\": 63}, {\"ct1\": \"Neuron_plus_Oligodend\", \"n_non_diff\": 4, \"num_candidates\": 57}, {\"ct1\": \"Neuron_plus_Oligodend\", \"n_non_diff\": 5, \"num_candidates\": 53}, {\"ct1\": \"Neuron_plus_Oligodend\", \"n_non_diff\": 6, \"num_candidates\": 47}, {\"ct1\": \"Neuron_plus_Oligodend\", \"n_non_diff\": 7, \"num_candidates\": 35}, {\"ct1\": \"Neuron_plus_Oligodend\", \"n_non_diff\": 8, \"num_candidates\": 24}, {\"ct1\": \"Neuron_plus_Oligodend\", \"n_non_diff\": 9, \"num_candidates\": 26}, {\"ct1\": \"Neuron_plus_Oligodend\", \"n_non_diff\": 10, \"num_candidates\": 30}, {\"ct1\": \"Neuron_plus_Oligodend\", \"n_non_diff\": 11, \"num_candidates\": 24}, {\"ct1\": \"Ovary_Ep\", \"n_non_diff\": 0, \"num_candidates\": 15}, {\"ct1\": \"Ovary_Ep\", \"n_non_diff\": 1, \"num_candidates\": 25}, {\"ct1\": \"Ovary_Ep\", \"n_non_diff\": 2, \"num_candidates\": 19}, {\"ct1\": \"Ovary_Ep\", \"n_non_diff\": 3, \"num_candidates\": 28}, {\"ct1\": \"Ovary_Ep\", \"n_non_diff\": 4, \"num_candidates\": 33}, {\"ct1\": \"Ovary_Ep\", \"n_non_diff\": 5, \"num_candidates\": 35}, {\"ct1\": \"Ovary_Ep\", \"n_non_diff\": 6, \"num_candidates\": 33}, {\"ct1\": \"Ovary_Ep\", \"n_non_diff\": 7, \"num_candidates\": 27}, {\"ct1\": \"Ovary_Ep\", \"n_non_diff\": 8, \"num_candidates\": 21}, {\"ct1\": \"Ovary_Ep\", \"n_non_diff\": 9, \"num_candidates\": 23}, {\"ct1\": \"Ovary_Ep\", \"n_non_diff\": 10, \"num_candidates\": 21}, {\"ct1\": \"Ovary_Ep\", \"n_non_diff\": 11, \"num_candidates\": 23}, {\"ct1\": \"Pancreas\", \"n_non_diff\": 0, \"num_candidates\": 78}, {\"ct1\": \"Pancreas\", \"n_non_diff\": 1, \"num_candidates\": 98}, {\"ct1\": \"Pancreas\", \"n_non_diff\": 2, \"num_candidates\": 91}, {\"ct1\": \"Pancreas\", \"n_non_diff\": 3, \"num_candidates\": 89}, {\"ct1\": \"Pancreas\", \"n_non_diff\": 4, \"num_candidates\": 78}, {\"ct1\": \"Pancreas\", \"n_non_diff\": 5, \"num_candidates\": 68}, {\"ct1\": \"Pancreas\", \"n_non_diff\": 6, \"num_candidates\": 67}, {\"ct1\": \"Pancreas\", \"n_non_diff\": 7, \"num_candidates\": 57}, {\"ct1\": \"Pancreas\", \"n_non_diff\": 8, \"num_candidates\": 46}, {\"ct1\": \"Pancreas\", \"n_non_diff\": 9, \"num_candidates\": 38}, {\"ct1\": \"Pancreas\", \"n_non_diff\": 10, \"num_candidates\": 41}, {\"ct1\": \"Pancreas\", \"n_non_diff\": 11, \"num_candidates\": 37}, {\"ct1\": \"Pancreas_Acinar\", \"n_non_diff\": 0, \"num_candidates\": 89}, {\"ct1\": \"Pancreas_Acinar\", \"n_non_diff\": 1, \"num_candidates\": 134}, {\"ct1\": \"Pancreas_Acinar\", \"n_non_diff\": 2, \"num_candidates\": 127}, {\"ct1\": \"Pancreas_Acinar\", \"n_non_diff\": 3, \"num_candidates\": 109}, {\"ct1\": \"Pancreas_Acinar\", \"n_non_diff\": 4, \"num_candidates\": 105}, {\"ct1\": \"Pancreas_Acinar\", \"n_non_diff\": 5, \"num_candidates\": 94}, {\"ct1\": \"Pancreas_Acinar\", \"n_non_diff\": 6, \"num_candidates\": 105}, {\"ct1\": \"Pancreas_Acinar\", \"n_non_diff\": 7, \"num_candidates\": 76}, {\"ct1\": \"Pancreas_Acinar\", \"n_non_diff\": 8, \"num_candidates\": 49}, {\"ct1\": \"Pancreas_Acinar\", \"n_non_diff\": 9, \"num_candidates\": 45}, {\"ct1\": \"Pancreas_Acinar\", \"n_non_diff\": 10, \"num_candidates\": 40}, {\"ct1\": \"Pancreas_Acinar\", \"n_non_diff\": 11, \"num_candidates\": 35}, {\"ct1\": \"Pancreas_Duct\", \"n_non_diff\": 0, \"num_candidates\": 15}, {\"ct1\": \"Pancreas_Duct\", \"n_non_diff\": 1, \"num_candidates\": 32}, {\"ct1\": \"Pancreas_Duct\", \"n_non_diff\": 2, \"num_candidates\": 48}, {\"ct1\": \"Pancreas_Duct\", \"n_non_diff\": 3, \"num_candidates\": 50}, {\"ct1\": \"Pancreas_Duct\", \"n_non_diff\": 4, \"num_candidates\": 61}, {\"ct1\": \"Pancreas_Duct\", \"n_non_diff\": 5, \"num_candidates\": 52}, {\"ct1\": \"Pancreas_Duct\", \"n_non_diff\": 6, \"num_candidates\": 57}, {\"ct1\": \"Pancreas_Duct\", \"n_non_diff\": 7, \"num_candidates\": 52}, {\"ct1\": \"Pancreas_Duct\", \"n_non_diff\": 8, \"num_candidates\": 38}, {\"ct1\": \"Pancreas_Duct\", \"n_non_diff\": 9, \"num_candidates\": 34}, {\"ct1\": \"Pancreas_Duct\", \"n_non_diff\": 10, \"num_candidates\": 46}, {\"ct1\": \"Pancreas_Duct\", \"n_non_diff\": 11, \"num_candidates\": 48}, {\"ct1\": \"Prostate_Ep\", \"n_non_diff\": 0, \"num_candidates\": 8}, {\"ct1\": \"Prostate_Ep\", \"n_non_diff\": 1, \"num_candidates\": 44}, {\"ct1\": \"Prostate_Ep\", \"n_non_diff\": 2, \"num_candidates\": 54}, {\"ct1\": \"Prostate_Ep\", \"n_non_diff\": 3, \"num_candidates\": 45}, {\"ct1\": \"Prostate_Ep\", \"n_non_diff\": 4, \"num_candidates\": 58}, {\"ct1\": \"Prostate_Ep\", \"n_non_diff\": 5, \"num_candidates\": 59}, {\"ct1\": \"Prostate_Ep\", \"n_non_diff\": 6, \"num_candidates\": 54}, {\"ct1\": \"Prostate_Ep\", \"n_non_diff\": 7, \"num_candidates\": 51}, {\"ct1\": \"Prostate_Ep\", \"n_non_diff\": 8, \"num_candidates\": 29}, {\"ct1\": \"Prostate_Ep\", \"n_non_diff\": 9, \"num_candidates\": 24}, {\"ct1\": \"Prostate_Ep\", \"n_non_diff\": 10, \"num_candidates\": 27}, {\"ct1\": \"Prostate_Ep\", \"n_non_diff\": 11, \"num_candidates\": 22}, {\"ct1\": \"Small_Int_Ep\", \"n_non_diff\": 0, \"num_candidates\": 37}, {\"ct1\": \"Small_Int_Ep\", \"n_non_diff\": 1, \"num_candidates\": 473}, {\"ct1\": \"Small_Int_Ep\", \"n_non_diff\": 2, \"num_candidates\": 569}, {\"ct1\": \"Small_Int_Ep\", \"n_non_diff\": 3, \"num_candidates\": 261}, {\"ct1\": \"Small_Int_Ep\", \"n_non_diff\": 4, \"num_candidates\": 159}, {\"ct1\": \"Small_Int_Ep\", \"n_non_diff\": 5, \"num_candidates\": 141}, {\"ct1\": \"Small_Int_Ep\", \"n_non_diff\": 6, \"num_candidates\": 114}, {\"ct1\": \"Small_Int_Ep\", \"n_non_diff\": 7, \"num_candidates\": 90}, {\"ct1\": \"Small_Int_Ep\", \"n_non_diff\": 8, \"num_candidates\": 59}, {\"ct1\": \"Small_Int_Ep\", \"n_non_diff\": 9, \"num_candidates\": 59}, {\"ct1\": \"Small_Int_Ep\", \"n_non_diff\": 10, \"num_candidates\": 43}, {\"ct1\": \"Small_Int_Ep\", \"n_non_diff\": 11, \"num_candidates\": 43}, {\"ct1\": \"Thyroid_Ep\", \"n_non_diff\": 0, \"num_candidates\": 13}, {\"ct1\": \"Thyroid_Ep\", \"n_non_diff\": 1, \"num_candidates\": 20}, {\"ct1\": \"Thyroid_Ep\", \"n_non_diff\": 2, \"num_candidates\": 26}, {\"ct1\": \"Thyroid_Ep\", \"n_non_diff\": 3, \"num_candidates\": 25}, {\"ct1\": \"Thyroid_Ep\", \"n_non_diff\": 4, \"num_candidates\": 39}, {\"ct1\": \"Thyroid_Ep\", \"n_non_diff\": 5, \"num_candidates\": 29}, {\"ct1\": \"Thyroid_Ep\", \"n_non_diff\": 6, \"num_candidates\": 42}, {\"ct1\": \"Thyroid_Ep\", \"n_non_diff\": 7, \"num_candidates\": 25}, {\"ct1\": \"Thyroid_Ep\", \"n_non_diff\": 8, \"num_candidates\": 34}, {\"ct1\": \"Thyroid_Ep\", \"n_non_diff\": 9, \"num_candidates\": 38}, {\"ct1\": \"Thyroid_Ep\", \"n_non_diff\": 10, \"num_candidates\": 43}, {\"ct1\": \"Thyroid_Ep\", \"n_non_diff\": 11, \"num_candidates\": 37}]}}, {\"mode\": \"vega-lite\"});\n",
       "</script>"
      ],
      "text/plain": [
       "alt.Chart(...)"
      ]
     },
     "execution_count": 108,
     "metadata": {},
     "output_type": "execute_result"
    }
   ],
   "source": [
    "# For loose rule 2\n",
    "candidate_plot_df = candidate_regions_summary_loose2_df.groupby(['ct1', 'n_non_diff']).size().to_frame('num_candidates').reset_index()\n",
    "alt.Chart(candidate_plot_df).mark_bar().encode(\n",
    "    x=alt.X('ct1', title='Target cell type'),\n",
    "    y=alt.Y('num_candidates', title='Number of regions'),\n",
    "    order=alt.Order('n_non_diff:N', sort='ascending'),\n",
    "    color=alt.Color('n_non_diff:N', title='Num cell types not diff meth')\n",
    ").properties(\n",
    "    height=300, width=400\n",
    ")"
   ]
  },
  {
   "cell_type": "markdown",
   "id": "ad821920",
   "metadata": {},
   "source": [
    "## Select top regions and plot heatmap\n",
    "First just look at 1 v all"
   ]
  },
  {
   "cell_type": "code",
   "execution_count": 75,
   "id": "5381609f",
   "metadata": {},
   "outputs": [
    {
     "name": "stdout",
     "output_type": "stream",
     "text": [
      "CPU times: user 19.9 s, sys: 560 ms, total: 20.5 s\n",
      "Wall time: 19.8 s\n"
     ]
    },
    {
     "data": {
      "text/plain": [
       "(208, 4793)"
      ]
     },
     "execution_count": 75,
     "metadata": {},
     "output_type": "execute_result"
    }
   ],
   "source": [
    "%%time\n",
    "one_v_all = candidates_v_many.query(f'number_other == {len(NONBLOOD_CELLTYPES)-1}')\n",
    "meth_df, meta_df = get_meth_data(one_v_all, samples_df, raw_meth_df)\n",
    "regions_ordered = one_v_all.sort_values(['ct1', 'meth_base_min'], ascending=[True, False])['region_id'].drop_duplicates()\n",
    "meth_df = meth_df.loc[:, regions_ordered]\n",
    "meth_df.shape"
   ]
  },
  {
   "cell_type": "code",
   "execution_count": null,
   "id": "2fcec382",
   "metadata": {},
   "outputs": [],
   "source": [
    "%%R -i meth_df,meta_df,RESULTS_PATH\n",
    "\n",
    "library(tidyverse)\n",
    "library(pheatmap)\n",
    "library(pals)\n",
    "\n",
    "save_pheatmap_pdf <- function(x, filename, width=7, height=10) {\n",
    "   stopifnot(!missing(x))\n",
    "   stopifnot(!missing(filename))\n",
    "   pdf(filename, width=width, height=height)\n",
    "   grid::grid.newpage()\n",
    "   grid::grid.draw(x$gtable)\n",
    "   dev.off()\n",
    "}\n",
    "\n",
    "\n",
    "row_annot <- data.frame(sample_group=meta_df$sample_group)\n",
    "rownames(row_annot) <- meta_df$sample_id\n",
    "sample_group_colors = c(stepped(), stepped2())[1:length(unique(meta_df$sample_group))]\n",
    "names(sample_group_colors) = unique(meta_df$sample_group)\n",
    "row_colors = list(sample_group=sample_group_colors)\n",
    "p <- pheatmap(\n",
    "    meth_df, \n",
    "    cluster_rows=FALSE, show_rownames=FALSE, \n",
    "    cluster_cols=FALSE, show_colnames=FALSE, \n",
    "    annotation_row=row_annot, annotation_colors=row_colors, annotation_names_row=FALSE,\n",
    "    scale='none', na_col='black'\n",
    ")\n",
    "save_pheatmap_pdf(p, file=paste0(RESULTS_PATH, 'heatmap_hyper_candidates_one_vs_all.pdf'))\n"
   ]
  },
  {
   "cell_type": "markdown",
   "id": "bba9d2d7",
   "metadata": {},
   "source": [
    "Also check out 2 v rest"
   ]
  },
  {
   "cell_type": "code",
   "execution_count": 76,
   "id": "bd3cfb8f",
   "metadata": {},
   "outputs": [
    {
     "name": "stdout",
     "output_type": "stream",
     "text": [
      "CPU times: user 18.1 s, sys: 525 ms, total: 18.6 s\n",
      "Wall time: 18 s\n"
     ]
    },
    {
     "data": {
      "text/plain": [
       "(208, 7360)"
      ]
     },
     "execution_count": 76,
     "metadata": {},
     "output_type": "execute_result"
    }
   ],
   "source": [
    "%%time\n",
    "two_v_rest = candidates_v_many.query(f'number_other == {len(NONBLOOD_CELLTYPES)-2}')\n",
    "meth_df, meta_df = get_meth_data(two_v_rest, samples_df, raw_meth_df)\n",
    "regions_ordered = two_v_rest.sort_values(['ct1', 'meth_base_min'], ascending=[True, False])['region_id'].drop_duplicates()\n",
    "meth_df = meth_df.loc[:, regions_ordered]\n",
    "meth_df.shape"
   ]
  },
  {
   "cell_type": "code",
   "execution_count": null,
   "id": "3461210d",
   "metadata": {},
   "outputs": [],
   "source": [
    "%%R -i meth_df,meta_df,RESULTS_PATH\n",
    "\n",
    "library(tidyverse)\n",
    "library(pheatmap)\n",
    "library(pals)\n",
    "\n",
    "save_pheatmap_pdf <- function(x, filename, width=7, height=10) {\n",
    "   stopifnot(!missing(x))\n",
    "   stopifnot(!missing(filename))\n",
    "   pdf(filename, width=width, height=height)\n",
    "   grid::grid.newpage()\n",
    "   grid::grid.draw(x$gtable)\n",
    "   dev.off()\n",
    "}\n",
    "\n",
    "\n",
    "row_annot <- data.frame(sample_group=meta_df$sample_group)\n",
    "rownames(row_annot) <- meta_df$sample_id\n",
    "sample_group_colors = c(stepped(), stepped2())[1:length(unique(meta_df$sample_group))]\n",
    "names(sample_group_colors) = unique(meta_df$sample_group)\n",
    "row_colors = list(sample_group=sample_group_colors)\n",
    "p <- pheatmap(\n",
    "    meth_df, \n",
    "    cluster_rows=FALSE, show_rownames=FALSE, \n",
    "    cluster_cols=FALSE, show_colnames=FALSE, \n",
    "    annotation_row=row_annot, annotation_colors=row_colors, annotation_names_row=FALSE,\n",
    "    scale='none', na_col='black'\n",
    ")\n",
    "save_pheatmap_pdf(p, file=paste0(RESULTS_PATH, 'heatmap_hyper_candidates_one_vs_all_but_one.pdf'))"
   ]
  },
  {
   "cell_type": "code",
   "execution_count": null,
   "id": "c58e262f",
   "metadata": {},
   "outputs": [],
   "source": []
  },
  {
   "cell_type": "markdown",
   "id": "952d38dc",
   "metadata": {},
   "source": [
    "## Write candidates\n",
    "Will continue filtering outside this analysis (with TCGA)"
   ]
  },
  {
   "cell_type": "code",
   "execution_count": 38,
   "id": "f5e1a327",
   "metadata": {},
   "outputs": [],
   "source": [
    "cluster_outfile = f\"{PROJECT_DIR}/hyper_dmr_candidates/{REGIONS}_one_vs_many_cpg{FILTER_MIN_CPGs_REGION}_target{FILTER_RATE_TARGET}_other{FILTER_RATE_OTHER}_delta{FILTER_RATE_DELTA}_fdr{FILTER_FDR}.tsv\"\n",
    "candidates_v_many.to_csv(cluster_outfile, sep=\"\\t\", index=False)\n",
    "\n",
    "region_outfile = f\"{PROJECT_DIR}/hyper_dmr_candidates/REGIONS_{REGIONS}_one_vs_many_cpg{FILTER_MIN_CPGs_REGION}_target{FILTER_RATE_TARGET}_other{FILTER_RATE_OTHER}_delta{FILTER_RATE_DELTA}_fdr{FILTER_FDR}.tsv\"\n",
    "candidate_regions_summary_df.to_csv(region_outfile, sep=\"\\t\", index=False)"
   ]
  },
  {
   "cell_type": "code",
   "execution_count": 113,
   "id": "bc267262",
   "metadata": {},
   "outputs": [
    {
     "name": "stdout",
     "output_type": "stream",
     "text": [
      "(265, 11)\n",
      "(655, 11)\n",
      "(463, 11)\n"
     ]
    }
   ],
   "source": [
    "# Check the lung region numbers\n",
    "candidate_regions_summary_df_lung = candidate_regions_summary_df[candidate_regions_summary_df['ct1'].str.contains('lung', case=False, na=False)]\n",
    "print(candidate_regions_summary_df_lung.shape)\n",
    "\n",
    "# For loose rule 1\n",
    "candidate_regions_summary_loose1_df_lung = candidate_regions_summary_loose1_df[candidate_regions_summary_loose1_df['ct1'].str.contains('lung', case=False, na=False)]\n",
    "print(candidate_regions_summary_loose1_df_lung.shape)\n",
    "\n",
    "# For loose rule 2\n",
    "candidate_regions_summary_loose2_df_lung = candidate_regions_summary_loose2_df[candidate_regions_summary_loose2_df['ct1'].str.contains('lung', case=False, na=False)]\n",
    "print(candidate_regions_summary_loose2_df_lung.shape)"
   ]
  },
  {
   "cell_type": "code",
   "execution_count": 114,
   "id": "7ff52ef5",
   "metadata": {},
   "outputs": [],
   "source": [
    "# Save the data for loose rule 1 cluter and regions\n",
    "cluster_outfile = f\"{PROJECT_DIR}/hyper_dmr_candidates/{REGIONS}_one_vs_many_cpg{FILTER_MIN_CPGs_REGION}_target{FILTER_RATE_TARGET}_other{FILTER_RATE_OTHER}_delta{FILTER_RATE_DELTA}_fdr{FILTER_FDR}_loose1.tsv\"\n",
    "candidates_v_many_loose1.to_csv(cluster_outfile, sep=\"\\t\", index=False)\n",
    "\n",
    "region_outfile = f\"{PROJECT_DIR}/hyper_dmr_candidates/REGIONS_{REGIONS}_one_vs_many_cpg{FILTER_MIN_CPGs_REGION}_target{FILTER_RATE_TARGET}_other{FILTER_RATE_OTHER}_delta{FILTER_RATE_DELTA}_fdr{FILTER_FDR}_loose1.tsv\"\n",
    "candidate_regions_summary_loose1_df.to_csv(region_outfile, sep=\"\\t\", index=False)\n",
    "\n",
    "# Save the data for loose rule 2 cluter and regions\n",
    "cluster_outfile = f\"{PROJECT_DIR}/hyper_dmr_candidates/{REGIONS}_one_vs_many_cpg{FILTER_MIN_CPGs_REGION}_target{FILTER_RATE_TARGET}_other{FILTER_RATE_OTHER}_delta{FILTER_RATE_DELTA}_fdr{FILTER_FDR}_loose2.tsv\"\n",
    "candidates_v_many_loose2.to_csv(cluster_outfile, sep=\"\\t\", index=False)\n",
    "\n",
    "region_outfile = f\"{PROJECT_DIR}/hyper_dmr_candidates/REGIONS_{REGIONS}_one_vs_many_cpg{FILTER_MIN_CPGs_REGION}_target{FILTER_RATE_TARGET}_other{FILTER_RATE_OTHER}_delta{FILTER_RATE_DELTA}_fdr{FILTER_FDR}_loose2.tsv\"\n",
    "candidate_regions_summary_loose2_df.to_csv(region_outfile, sep=\"\\t\", index=False)"
   ]
  }
 ],
 "metadata": {
  "kernelspec": {
   "display_name": "lunartk_v1.1.0",
   "language": "python",
   "name": "python3"
  },
  "language_info": {
   "codemirror_mode": {
    "name": "ipython",
    "version": 3
   },
   "file_extension": ".py",
   "mimetype": "text/x-python",
   "name": "python",
   "nbconvert_exporter": "python",
   "pygments_lexer": "ipython3",
   "version": "3.8.12"
  }
 },
 "nbformat": 4,
 "nbformat_minor": 5
}
