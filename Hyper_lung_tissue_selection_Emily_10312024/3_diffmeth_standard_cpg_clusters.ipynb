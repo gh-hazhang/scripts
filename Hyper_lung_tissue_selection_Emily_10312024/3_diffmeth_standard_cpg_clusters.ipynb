{
 "cells": [
  {
   "cell_type": "markdown",
   "metadata": {},
   "source": [
    "# Differential Methylation with LIMMA"
   ]
  },
  {
   "cell_type": "markdown",
   "metadata": {},
   "source": [
    "## Initialisation"
   ]
  },
  {
   "cell_type": "code",
   "execution_count": null,
   "metadata": {},
   "outputs": [],
   "source": [
    "import glob\n",
    "import pandas as pd\n",
    "\n",
    "pd.set_option('display.max_rows', 500)\n",
    "pd.set_option('display.max_columns', 500)\n"
   ]
  },
  {
   "cell_type": "markdown",
   "metadata": {},
   "source": [
    "### Parameters and File Paths"
   ]
  },
  {
   "cell_type": "code",
   "execution_count": null,
   "metadata": {},
   "outputs": [],
   "source": [
    "#--- Parameters\n",
    "REGIONS = 'hg19_cpg_clusters_k3_s150_w150'\n",
    "FILTER_COV = 10\n",
    "#--- Local paths\n",
    "ROOT_DIR = '/home/ubuntu/git/etsang/projects'\n",
    "PROJECT_SLUG = '2023_10_10_SRT_hyper_tissue_dmr_selection_EKT'\n",
    "PROJECT_DIR = f\"{ROOT_DIR}/{PROJECT_SLUG}/work\"\n",
    "\n",
    "ALAN_PROJECT_DIR = \"/home/ubuntu/data/2023_07_10_HYPER_design_AS\"\n",
    "# Samples\n",
    "SAMPLE_PATH = ALAN_PROJECT_DIR + '/stage/metadata/loyfer2022_samples_with_blueprint.tsv'\n",
    "\n",
    "# Methylation data\n",
    "METH_DIR = (\n",
    "    PROJECT_DIR + \n",
    "    '/bp_loyfer_meth_summaries/standard-{regions}.filtered'\n",
    ").format(regions=REGIONS)\n",
    "# Where to store the results\n",
    "RESULTS_PATH = (\n",
    "    PROJECT_DIR + \n",
    "    '/diff_meth/standard_diffmeth_{regions}_%s_minus_%s.tsv.gz'\n",
    ").format(regions=REGIONS)"
   ]
  },
  {
   "cell_type": "markdown",
   "metadata": {},
   "source": [
    "### Sample Metadata"
   ]
  },
  {
   "cell_type": "code",
   "execution_count": null,
   "metadata": {},
   "outputs": [],
   "source": [
    "samples_df = pd.read_csv(SAMPLE_PATH, sep='\\t')\n",
    "ridxs = ~(samples_df['super_group'].isna() | samples_df['super_group'].str.startswith('Blueprint-'))\n",
    "# drop umbilical endothelium\n",
    "ridxs = ridxs & (samples_df['super_group'] != 'Umbilical-Endothelium')\n",
    "samples_df = samples_df[ridxs].copy()\n",
    "samples_df['sample_group'] = samples_df['super_group']\\\n",
    "    .str.replace('-', '_', regex=False)\\\n",
    "    .str.replace('+', '_plus_', regex=False)"
   ]
  },
  {
   "cell_type": "code",
   "execution_count": null,
   "metadata": {},
   "outputs": [],
   "source": [
    "summary = samples_df\\\n",
    "    .groupby('sample_group')\\\n",
    "    .size()\n",
    "summary"
   ]
  },
  {
   "cell_type": "code",
   "execution_count": null,
   "metadata": {},
   "outputs": [],
   "source": [
    "samples_df.shape[0], summary.sum()"
   ]
  },
  {
   "cell_type": "markdown",
   "metadata": {},
   "source": [
    "### Methylation Data"
   ]
  },
  {
   "cell_type": "code",
   "execution_count": null,
   "metadata": {},
   "outputs": [],
   "source": [
    "%%time\n",
    "METH_COLS = [\n",
    "    'sample_id', 'region_id', 'region_number_total', 'region_meth_rate'\n",
    "]\n",
    "meth_df = pd.concat([\n",
    "    pd.read_csv(ifile, sep='\\t', names=METH_COLS)\n",
    "    for ifile in glob.glob(METH_DIR+'/*.csv')\n",
    "])"
   ]
  },
  {
   "cell_type": "markdown",
   "metadata": {},
   "source": [
    "## Align Methylation Data and Sample/Probe Metadata"
   ]
  },
  {
   "cell_type": "code",
   "execution_count": null,
   "metadata": {},
   "outputs": [],
   "source": [
    "%%time\n",
    "ridxs = meth_df['sample_id'].isin(samples_df['sample_id'])\n",
    "ridxs &= (meth_df['region_number_total']>=FILTER_COV)\n",
    "meth_df = meth_df[ridxs]\\\n",
    "    .pivot_table(index='region_id', columns='sample_id', values='region_meth_rate')\n",
    "meth_df.shape"
   ]
  },
  {
   "cell_type": "code",
   "execution_count": null,
   "metadata": {},
   "outputs": [],
   "source": [
    "# Remove samples with many missing values\n",
    "cidxs = (meth_df.isna().sum(axis=0)<(0.05*meth_df.shape[0]))\n",
    "valid_meth_df = meth_df.loc[:, cidxs].copy()\n",
    "# Remove missing values\n",
    "ridxs = (valid_meth_df.isna().sum(axis=1)==0)\n",
    "valid_meth_df = valid_meth_df.loc[ridxs, :].copy()\n",
    "valid_meth_df.shape"
   ]
  },
  {
   "cell_type": "code",
   "execution_count": null,
   "metadata": {},
   "outputs": [],
   "source": [
    "# align with sample metadata\n",
    "ridxs = samples_df['sample_id'].isin(valid_meth_df.columns)\n",
    "meta_df = samples_df[ridxs][['sample_id', 'sample_group']].copy()\n",
    "valid_meth_df = valid_meth_df.loc[:, meta_df['sample_id']].copy()\n",
    "SAMPLE_GROUPS = sorted(meta_df['sample_group'].unique())\n",
    "valid_meth_df.shape, len(SAMPLE_GROUPS)"
   ]
  },
  {
   "cell_type": "code",
   "execution_count": null,
   "metadata": {},
   "outputs": [],
   "source": [
    "ridxs = ~samples_df['sample_id'].isin(meta_df['sample_id'])\n",
    "summary = samples_df[ridxs]\\\n",
    "    .groupby('sample_group')\\\n",
    "    .size()\n",
    "summary"
   ]
  },
  {
   "cell_type": "markdown",
   "metadata": {},
   "source": [
    "## Differential Methylation Analysis"
   ]
  },
  {
   "cell_type": "code",
   "execution_count": null,
   "metadata": {},
   "outputs": [],
   "source": [
    "%load_ext rpy2.ipython"
   ]
  },
  {
   "cell_type": "code",
   "execution_count": null,
   "metadata": {},
   "outputs": [],
   "source": [
    "%%R -i valid_meth_df,meta_df,SAMPLE_GROUPS,RESULTS_PATH\n",
    "\n",
    "library(limma)\n",
    "library(minfi)\n",
    "library(tidyverse)\n",
    "\n",
    "B <- as.matrix(valid_meth_df)\n",
    "M <- log2(B) - log2(1-B)\n",
    "group = factor(meta_df[['sample_group']], levels=SAMPLE_GROUPS)\n",
    "\n",
    "################################################\n",
    "#--- LIMMA MODELING\n",
    "################################################\n",
    "arrays <- ExpressionSet(assayData = M)\n",
    "design <- model.matrix(~ 0 + group)\n",
    "colnames(design) <- levels(group)\n",
    "fit <- lmFit(arrays, design)\n",
    "\n",
    "#--- All pairwise comparisons\n",
    "CELL_TYPES = levels(group)\n",
    "for (i in 1:(length(CELL_TYPES)-1)) {\n",
    "    ct1 = CELL_TYPES[i]\n",
    "    for (j in (i+1):length(CELL_TYPES)) {\n",
    "        ct2 = CELL_TYPES[j]\n",
    "        contrast = sprintf(\"%s - %s\", ct2, ct1)\n",
    "        print(sprintf(\"--> %s\", contrast))\n",
    "        contrasts <- makeContrasts(contrast, levels = design)\n",
    "        fit2 <- contrasts.fit(fit, contrasts)\n",
    "        fit2 <- eBayes(fit2)\n",
    "        # Diff meth stats\n",
    "        tt <- topTable(fit2, coef = contrast, \n",
    "                       adjust=\"BH\", number=nrow(arrays), sort.by = \"none\")\n",
    "        M1 <- fit$coefficients[, ct1]\n",
    "        B1 <- 2**M1/(1+2**M1)\n",
    "        M2 <- fit$coefficients[, ct2]\n",
    "        B2 <- 2**M2/(1+2**M2)\n",
    "        rv <- data.frame(\n",
    "            region_id=row.names(valid_meth_df),\n",
    "            logfc=tt$logFC,\n",
    "            tstat=tt$t,\n",
    "            pval=tt$P.Value,\n",
    "            fdr=tt$adj.P.Val,\n",
    "            meth_base=B1,\n",
    "            meth_delta=B2-B1\n",
    "        )\n",
    "        # Filter results to reduce the output size\n",
    "        FILTER_FDR <- 0.05\n",
    "        FILTER_DELTA <- 0.2\n",
    "        ofile <- sprintf(RESULTS_PATH, ct2, ct1)\n",
    "        rv <- as_tibble(rv) %>%\n",
    "            filter(fdr<=FILTER_FDR, abs(meth_delta)>=FILTER_DELTA)\n",
    "        write_tsv(rv, file=ofile, progress=FALSE)\n",
    "    }\n",
    "}\n",
    " "
   ]
  }
 ],
 "metadata": {
  "kernelspec": {
   "display_name": "Python 3 (ipykernel)",
   "language": "python",
   "name": "python3"
  },
  "language_info": {
   "codemirror_mode": {
    "name": "ipython",
    "version": 3
   },
   "file_extension": ".py",
   "mimetype": "text/x-python",
   "name": "python",
   "nbconvert_exporter": "python",
   "pygments_lexer": "ipython3",
   "version": "3.10.12"
  },
  "toc": {
   "base_numbering": 1,
   "nav_menu": {},
   "number_sections": true,
   "sideBar": true,
   "skip_h1_title": true,
   "title_cell": "Table of Contents",
   "title_sidebar": "Contents",
   "toc_cell": true,
   "toc_position": {
    "height": "calc(100% - 180px)",
    "left": "10px",
    "top": "150px",
    "width": "351.6px"
   },
   "toc_section_display": true,
   "toc_window_display": true
  }
 },
 "nbformat": 4,
 "nbformat_minor": 4
}
